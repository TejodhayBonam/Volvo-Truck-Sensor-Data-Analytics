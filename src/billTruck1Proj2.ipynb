{
 "cells": [
  {
   "cell_type": "code",
   "execution_count": 2,
   "metadata": {},
   "outputs": [],
   "source": [
    "#imports\n",
    "import pandas as pd\n",
    "import numpy as np\n",
    "from sklearn.linear_model import LinearRegression\n",
    "#for ML stuff may use SVM stuff also\n",
    "from sklearn.linear_model import LogisticRegression\n",
    "from sklearn.model_selection import train_test_split\n",
    "import matplotlib.pyplot as plt\n",
    "from scipy.stats import ttest_1samp\n",
    "from statistics import stdev "
   ]
  },
  {
   "cell_type": "markdown",
   "metadata": {},
   "source": [
    "## Read in truck 1 csv and select important columns for analysis. Use pandas parameters for possible speed boost.  \n"
   ]
  },
  {
   "cell_type": "code",
   "execution_count": 3,
   "metadata": {},
   "outputs": [],
   "source": [
    "df_T1 = pd.read_csv('C:\\\\Users\\\\willi\\\\Desktop\\\\truck1.csv', index_col = \"Time\", usecols = ['Time',\n",
    " '4649_Ch1_Alternator_250A',\n",
    " '4649_Ch8_APU_BatteryVoltage'] ,engine = 'c', skip_blank_lines = True)\n"
   ]
  },
  {
   "cell_type": "code",
   "execution_count": 4,
   "metadata": {},
   "outputs": [
    {
     "data": {
      "text/html": [
       "<div>\n",
       "<style scoped>\n",
       "    .dataframe tbody tr th:only-of-type {\n",
       "        vertical-align: middle;\n",
       "    }\n",
       "\n",
       "    .dataframe tbody tr th {\n",
       "        vertical-align: top;\n",
       "    }\n",
       "\n",
       "    .dataframe thead th {\n",
       "        text-align: right;\n",
       "    }\n",
       "</style>\n",
       "<table border=\"1\" class=\"dataframe\">\n",
       "  <thead>\n",
       "    <tr style=\"text-align: right;\">\n",
       "      <th></th>\n",
       "      <th>4649_Ch1_Alternator_250A</th>\n",
       "      <th>4649_Ch8_APU_BatteryVoltage</th>\n",
       "    </tr>\n",
       "    <tr>\n",
       "      <th>Time</th>\n",
       "      <th></th>\n",
       "      <th></th>\n",
       "    </tr>\n",
       "  </thead>\n",
       "  <tbody>\n",
       "    <tr>\n",
       "      <th>08/07/2019 07:54:02.959</th>\n",
       "      <td>NaN</td>\n",
       "      <td>NaN</td>\n",
       "    </tr>\n",
       "    <tr>\n",
       "      <th>08/07/2019 07:54:03.059</th>\n",
       "      <td>NaN</td>\n",
       "      <td>NaN</td>\n",
       "    </tr>\n",
       "    <tr>\n",
       "      <th>08/07/2019 07:54:03.159</th>\n",
       "      <td>NaN</td>\n",
       "      <td>NaN</td>\n",
       "    </tr>\n",
       "    <tr>\n",
       "      <th>08/07/2019 07:54:03.259</th>\n",
       "      <td>NaN</td>\n",
       "      <td>NaN</td>\n",
       "    </tr>\n",
       "    <tr>\n",
       "      <th>08/07/2019 07:54:03.359</th>\n",
       "      <td>NaN</td>\n",
       "      <td>NaN</td>\n",
       "    </tr>\n",
       "  </tbody>\n",
       "</table>\n",
       "</div>"
      ],
      "text/plain": [
       "                         4649_Ch1_Alternator_250A  4649_Ch8_APU_BatteryVoltage\n",
       "Time                                                                          \n",
       "08/07/2019 07:54:02.959                       NaN                          NaN\n",
       "08/07/2019 07:54:03.059                       NaN                          NaN\n",
       "08/07/2019 07:54:03.159                       NaN                          NaN\n",
       "08/07/2019 07:54:03.259                       NaN                          NaN\n",
       "08/07/2019 07:54:03.359                       NaN                          NaN"
      ]
     },
     "execution_count": 4,
     "metadata": {},
     "output_type": "execute_result"
    }
   ],
   "source": [
    "df_T1.head() "
   ]
  },
  {
   "cell_type": "markdown",
   "metadata": {},
   "source": [
    "#### convert time col to datetime and view head of file, enough to view actual values."
   ]
  },
  {
   "cell_type": "code",
   "execution_count": 5,
   "metadata": {},
   "outputs": [
    {
     "name": "stdout",
     "output_type": "stream",
     "text": [
      "DatetimeIndex(['2019-08-07 07:54:02.959000', '2019-08-07 07:54:03.059000',\n",
      "               '2019-08-07 07:54:03.159000', '2019-08-07 07:54:03.259000',\n",
      "               '2019-08-07 07:54:03.359000', '2019-08-07 07:54:03.459000',\n",
      "               '2019-08-07 07:54:03.559000', '2019-08-07 07:54:03.659000',\n",
      "               '2019-08-07 07:54:03.759000', '2019-08-07 07:54:03.859000',\n",
      "               ...\n",
      "               '2019-08-05 15:12:52.621000', '2019-08-05 15:12:52.721000',\n",
      "               '2019-08-05 15:12:52.821000', '2019-08-05 15:12:52.921000',\n",
      "               '2019-08-05 15:12:53.021000', '2019-08-05 15:12:53.121000',\n",
      "               '2019-08-05 15:12:53.221000', '2019-08-05 15:12:53.321000',\n",
      "               '2019-08-05 15:12:53.421000', '2019-08-05 15:12:53.521000'],\n",
      "              dtype='datetime64[ns]', name='Time', length=1216689, freq=None)\n"
     ]
    }
   ],
   "source": [
    "df_T1.index = pd.to_datetime(df_T1.index)\n",
    "print(df_T1.index)"
   ]
  },
  {
   "cell_type": "code",
   "execution_count": 6,
   "metadata": {
    "scrolled": true
   },
   "outputs": [
    {
     "data": {
      "text/plain": [
       "['4649_Ch1_Alternator_250A', '4649_Ch8_APU_BatteryVoltage']"
      ]
     },
     "execution_count": 6,
     "metadata": {},
     "output_type": "execute_result"
    }
   ],
   "source": [
    "list(df_T1.head())"
   ]
  },
  {
   "cell_type": "markdown",
   "metadata": {},
   "source": [
    "### describe the selected data"
   ]
  },
  {
   "cell_type": "code",
   "execution_count": 7,
   "metadata": {},
   "outputs": [
    {
     "name": "stdout",
     "output_type": "stream",
     "text": [
      "<class 'pandas.core.frame.DataFrame'>\n",
      "DatetimeIndex: 1216689 entries, 2019-08-07 07:54:02.959000 to 2019-08-05 15:12:53.521000\n",
      "Data columns (total 2 columns):\n",
      "4649_Ch1_Alternator_250A       1216197 non-null float64\n",
      "4649_Ch8_APU_BatteryVoltage    1216197 non-null float64\n",
      "dtypes: float64(2)\n",
      "memory usage: 27.8 MB\n"
     ]
    },
    {
     "data": {
      "text/html": [
       "<div>\n",
       "<style scoped>\n",
       "    .dataframe tbody tr th:only-of-type {\n",
       "        vertical-align: middle;\n",
       "    }\n",
       "\n",
       "    .dataframe tbody tr th {\n",
       "        vertical-align: top;\n",
       "    }\n",
       "\n",
       "    .dataframe thead th {\n",
       "        text-align: right;\n",
       "    }\n",
       "</style>\n",
       "<table border=\"1\" class=\"dataframe\">\n",
       "  <thead>\n",
       "    <tr style=\"text-align: right;\">\n",
       "      <th></th>\n",
       "      <th>4649_Ch1_Alternator_250A</th>\n",
       "      <th>4649_Ch8_APU_BatteryVoltage</th>\n",
       "    </tr>\n",
       "  </thead>\n",
       "  <tbody>\n",
       "    <tr>\n",
       "      <th>count</th>\n",
       "      <td>1.216197e+06</td>\n",
       "      <td>1.216197e+06</td>\n",
       "    </tr>\n",
       "    <tr>\n",
       "      <th>mean</th>\n",
       "      <td>4.143630e+01</td>\n",
       "      <td>1.386995e+01</td>\n",
       "    </tr>\n",
       "    <tr>\n",
       "      <th>std</th>\n",
       "      <td>3.111164e+01</td>\n",
       "      <td>2.840073e-01</td>\n",
       "    </tr>\n",
       "    <tr>\n",
       "      <th>min</th>\n",
       "      <td>2.274548e+00</td>\n",
       "      <td>1.214054e+01</td>\n",
       "    </tr>\n",
       "    <tr>\n",
       "      <th>25%</th>\n",
       "      <td>2.269303e+01</td>\n",
       "      <td>1.380865e+01</td>\n",
       "    </tr>\n",
       "    <tr>\n",
       "      <th>50%</th>\n",
       "      <td>2.715629e+01</td>\n",
       "      <td>1.401144e+01</td>\n",
       "    </tr>\n",
       "    <tr>\n",
       "      <th>75%</th>\n",
       "      <td>4.763199e+01</td>\n",
       "      <td>1.404532e+01</td>\n",
       "    </tr>\n",
       "    <tr>\n",
       "      <th>max</th>\n",
       "      <td>2.336585e+02</td>\n",
       "      <td>1.413001e+01</td>\n",
       "    </tr>\n",
       "  </tbody>\n",
       "</table>\n",
       "</div>"
      ],
      "text/plain": [
       "       4649_Ch1_Alternator_250A  4649_Ch8_APU_BatteryVoltage\n",
       "count              1.216197e+06                 1.216197e+06\n",
       "mean               4.143630e+01                 1.386995e+01\n",
       "std                3.111164e+01                 2.840073e-01\n",
       "min                2.274548e+00                 1.214054e+01\n",
       "25%                2.269303e+01                 1.380865e+01\n",
       "50%                2.715629e+01                 1.401144e+01\n",
       "75%                4.763199e+01                 1.404532e+01\n",
       "max                2.336585e+02                 1.413001e+01"
      ]
     },
     "execution_count": 7,
     "metadata": {},
     "output_type": "execute_result"
    }
   ],
   "source": [
    "df_T1.info()\n",
    "df_T1.describe()\n"
   ]
  },
  {
   "cell_type": "code",
   "execution_count": 8,
   "metadata": {},
   "outputs": [],
   "source": [
    "date3days = df_T1[\"2019-08-05\":\"2019-08-07\"]\n",
    "\n"
   ]
  },
  {
   "cell_type": "code",
   "execution_count": 9,
   "metadata": {},
   "outputs": [
    {
     "name": "stdout",
     "output_type": "stream",
     "text": [
      "***3 day describe***\n",
      "        4649_Ch8_APU_BatteryVoltage  4649_Ch1_Alternator_250A\n",
      "count                950905.000000             950905.000000\n",
      "mean                     13.842501                 41.727043\n",
      "std                       0.303386                 30.472934\n",
      "min                      12.140536                  3.304532\n",
      "25%                      13.738613                 22.874228\n",
      "50%                      14.006409                 27.375639\n",
      "75%                      14.041657                 49.653811\n",
      "max                      14.130007                232.475967\n",
      "\n",
      "______________________________________________________________________\n",
      "\n"
     ]
    }
   ],
   "source": [
    "print(\"***3 day describe***\\n\",date3days[['4649_Ch8_APU_BatteryVoltage','4649_Ch1_Alternator_250A']].describe())\n",
    "print(\"\\n______________________________________________________________________\\n\")\n"
   ]
  },
  {
   "cell_type": "code",
   "execution_count": 10,
   "metadata": {},
   "outputs": [
    {
     "data": {
      "text/plain": [
       "[<matplotlib.lines.Line2D at 0x25c85541828>]"
      ]
     },
     "execution_count": 10,
     "metadata": {},
     "output_type": "execute_result"
    },
    {
     "data": {
      "image/png": "[encoded data removed]",
      "text/plain": [
       "<Figure size 720x360 with 1 Axes>"
      ]
     },
     "metadata": {
      "needs_background": "light"
     },
     "output_type": "display_data"
    }
   ],
   "source": [
    "x1 = df_T1.dropna()\n",
    "x1 = df_T1[\"2019-08-05\":\"2019-08-07\"].resample(\"300S\").mean()\n",
    "x = x1.index\n",
    "altAmps = x1[['4649_Ch1_Alternator_250A']]\n",
    "y = x1[['4649_Ch8_APU_BatteryVoltage']]\n",
    "\n",
    "plt.figure(figsize=(10,5))\n",
    "plt.title(' APU voltage vs time')\n",
    "plt.plot(x,y)\n",
    "\n"
   ]
  },
  {
   "cell_type": "code",
   "execution_count": 11,
   "metadata": {},
   "outputs": [
    {
     "data": {
      "image/png": "[encoded data removed]",
      "text/plain": [
       "<Figure size 720x360 with 1 Axes>"
      ]
     },
     "metadata": {
      "needs_background": "light"
     },
     "output_type": "display_data"
    }
   ],
   "source": [
    "plt.figure(figsize=(10,5))\n",
    "plt.title(' Alternator amps vs time')\n",
    "ax = plt.plot(x,altAmps)\n"
   ]
  },
  {
   "cell_type": "code",
   "execution_count": 12,
   "metadata": {},
   "outputs": [
    {
     "data": {
      "text/html": [
       "<div>\n",
       "<style scoped>\n",
       "    .dataframe tbody tr th:only-of-type {\n",
       "        vertical-align: middle;\n",
       "    }\n",
       "\n",
       "    .dataframe tbody tr th {\n",
       "        vertical-align: top;\n",
       "    }\n",
       "\n",
       "    .dataframe thead th {\n",
       "        text-align: right;\n",
       "    }\n",
       "</style>\n",
       "<table border=\"1\" class=\"dataframe\">\n",
       "  <thead>\n",
       "    <tr style=\"text-align: right;\">\n",
       "      <th></th>\n",
       "      <th>4649_Ch1_Alternator_250A</th>\n",
       "      <th>4649_Ch8_APU_BatteryVoltage</th>\n",
       "    </tr>\n",
       "  </thead>\n",
       "  <tbody>\n",
       "    <tr>\n",
       "      <th>count</th>\n",
       "      <td>339.000000</td>\n",
       "      <td>339.000000</td>\n",
       "    </tr>\n",
       "    <tr>\n",
       "      <th>mean</th>\n",
       "      <td>43.912469</td>\n",
       "      <td>13.829520</td>\n",
       "    </tr>\n",
       "    <tr>\n",
       "      <th>std</th>\n",
       "      <td>33.830828</td>\n",
       "      <td>0.321042</td>\n",
       "    </tr>\n",
       "    <tr>\n",
       "      <th>min</th>\n",
       "      <td>18.789823</td>\n",
       "      <td>12.306884</td>\n",
       "    </tr>\n",
       "    <tr>\n",
       "      <th>25%</th>\n",
       "      <td>23.282386</td>\n",
       "      <td>13.712459</td>\n",
       "    </tr>\n",
       "    <tr>\n",
       "      <th>50%</th>\n",
       "      <td>26.745130</td>\n",
       "      <td>14.003543</td>\n",
       "    </tr>\n",
       "    <tr>\n",
       "      <th>75%</th>\n",
       "      <td>51.042659</td>\n",
       "      <td>14.042711</td>\n",
       "    </tr>\n",
       "    <tr>\n",
       "      <th>max</th>\n",
       "      <td>174.505134</td>\n",
       "      <td>14.102713</td>\n",
       "    </tr>\n",
       "  </tbody>\n",
       "</table>\n",
       "</div>"
      ],
      "text/plain": [
       "       4649_Ch1_Alternator_250A  4649_Ch8_APU_BatteryVoltage\n",
       "count                339.000000                   339.000000\n",
       "mean                  43.912469                    13.829520\n",
       "std                   33.830828                     0.321042\n",
       "min                   18.789823                    12.306884\n",
       "25%                   23.282386                    13.712459\n",
       "50%                   26.745130                    14.003543\n",
       "75%                   51.042659                    14.042711\n",
       "max                  174.505134                    14.102713"
      ]
     },
     "execution_count": 12,
     "metadata": {},
     "output_type": "execute_result"
    }
   ],
   "source": [
    "x1[['4649_Ch1_Alternator_250A','4649_Ch8_APU_BatteryVoltage']].describe()"
   ]
  },
  {
   "cell_type": "markdown",
   "metadata": {},
   "source": [
    "# scatter plots with regression line"
   ]
  },
  {
   "cell_type": "code",
   "execution_count": 13,
   "metadata": {},
   "outputs": [
    {
     "data": {
      "text/plain": [
       "Text(0.5, 1.0, 'Alternator Amps vs APU voltage')"
      ]
     },
     "execution_count": 13,
     "metadata": {},
     "output_type": "execute_result"
    },
    {
     "data": {
      "image/png": "[encoded data removed]",
      "text/plain": [
       "<Figure size 432x288 with 1 Axes>"
      ]
     },
     "metadata": {
      "needs_background": "light"
     },
     "output_type": "display_data"
    }
   ],
   "source": [
    "## plt.figure(figsize=(10,5))\n",
    "x2=altAmps.dropna()\n",
    "y2 = y.dropna()\n",
    "linear_regressor = LinearRegression()  \n",
    "linear_regressor.fit(x2, y2)  #linear reg\n",
    "Y_pred = linear_regressor.predict(x2)\n",
    "plt.xlabel='amps'\n",
    "plt.scatter(x2,y2, color='red')\n",
    "ax = plt.plot(x2,Y_pred, color='green')\n",
    "plt.title('Alternator Amps vs APU voltage')"
   ]
  },
  {
   "cell_type": "code",
   "execution_count": 14,
   "metadata": {},
   "outputs": [],
   "source": [
    "#logistic regression classifier\n",
    "mldf = x1[['4649_Ch8_APU_BatteryVoltage','4649_Ch1_Alternator_250A',]].dropna()\n",
    "#create a new col to show if battery is \"fully charged or not\"\n",
    "mldf['APU_Voltage_Binary'] = (mldf['4649_Ch8_APU_BatteryVoltage']>14)*1\n",
    "#going to try and predict what time of day the APU unit will be \"charged\"\n",
    "logReg = LogisticRegression(solver='lbfgs')\n"
   ]
  },
  {
   "cell_type": "code",
   "execution_count": 15,
   "metadata": {},
   "outputs": [
    {
     "data": {
      "text/html": [
       "<div>\n",
       "<style scoped>\n",
       "    .dataframe tbody tr th:only-of-type {\n",
       "        vertical-align: middle;\n",
       "    }\n",
       "\n",
       "    .dataframe tbody tr th {\n",
       "        vertical-align: top;\n",
       "    }\n",
       "\n",
       "    .dataframe thead th {\n",
       "        text-align: right;\n",
       "    }\n",
       "</style>\n",
       "<table border=\"1\" class=\"dataframe\">\n",
       "  <thead>\n",
       "    <tr style=\"text-align: right;\">\n",
       "      <th></th>\n",
       "      <th>4649_Ch8_APU_BatteryVoltage</th>\n",
       "      <th>4649_Ch1_Alternator_250A</th>\n",
       "      <th>APU_Voltage_Binary</th>\n",
       "    </tr>\n",
       "    <tr>\n",
       "      <th>Time</th>\n",
       "      <th></th>\n",
       "      <th></th>\n",
       "      <th></th>\n",
       "    </tr>\n",
       "  </thead>\n",
       "  <tbody>\n",
       "    <tr>\n",
       "      <th>2019-08-05 00:35:00</th>\n",
       "      <td>14.095874</td>\n",
       "      <td>23.670096</td>\n",
       "      <td>1</td>\n",
       "    </tr>\n",
       "    <tr>\n",
       "      <th>2019-08-05 00:40:00</th>\n",
       "      <td>14.089152</td>\n",
       "      <td>22.727537</td>\n",
       "      <td>1</td>\n",
       "    </tr>\n",
       "    <tr>\n",
       "      <th>2019-08-05 00:45:00</th>\n",
       "      <td>14.094511</td>\n",
       "      <td>24.042178</td>\n",
       "      <td>1</td>\n",
       "    </tr>\n",
       "    <tr>\n",
       "      <th>2019-08-05 00:50:00</th>\n",
       "      <td>14.091101</td>\n",
       "      <td>18.789823</td>\n",
       "      <td>1</td>\n",
       "    </tr>\n",
       "    <tr>\n",
       "      <th>2019-08-05 06:40:00</th>\n",
       "      <td>13.230398</td>\n",
       "      <td>150.719783</td>\n",
       "      <td>0</td>\n",
       "    </tr>\n",
       "    <tr>\n",
       "      <th>2019-08-05 06:45:00</th>\n",
       "      <td>13.277175</td>\n",
       "      <td>138.602511</td>\n",
       "      <td>0</td>\n",
       "    </tr>\n",
       "    <tr>\n",
       "      <th>2019-08-05 10:10:00</th>\n",
       "      <td>13.054964</td>\n",
       "      <td>174.505134</td>\n",
       "      <td>0</td>\n",
       "    </tr>\n",
       "    <tr>\n",
       "      <th>2019-08-05 10:15:00</th>\n",
       "      <td>13.290930</td>\n",
       "      <td>173.713646</td>\n",
       "      <td>0</td>\n",
       "    </tr>\n",
       "    <tr>\n",
       "      <th>2019-08-05 10:20:00</th>\n",
       "      <td>13.175464</td>\n",
       "      <td>174.281225</td>\n",
       "      <td>0</td>\n",
       "    </tr>\n",
       "    <tr>\n",
       "      <th>2019-08-05 11:10:00</th>\n",
       "      <td>12.306884</td>\n",
       "      <td>156.989136</td>\n",
       "      <td>0</td>\n",
       "    </tr>\n",
       "    <tr>\n",
       "      <th>2019-08-05 11:15:00</th>\n",
       "      <td>13.084248</td>\n",
       "      <td>147.531024</td>\n",
       "      <td>0</td>\n",
       "    </tr>\n",
       "    <tr>\n",
       "      <th>2019-08-05 11:20:00</th>\n",
       "      <td>13.135081</td>\n",
       "      <td>134.892866</td>\n",
       "      <td>0</td>\n",
       "    </tr>\n",
       "    <tr>\n",
       "      <th>2019-08-05 11:25:00</th>\n",
       "      <td>13.151540</td>\n",
       "      <td>121.081226</td>\n",
       "      <td>0</td>\n",
       "    </tr>\n",
       "    <tr>\n",
       "      <th>2019-08-05 11:30:00</th>\n",
       "      <td>13.166564</td>\n",
       "      <td>112.485320</td>\n",
       "      <td>0</td>\n",
       "    </tr>\n",
       "    <tr>\n",
       "      <th>2019-08-05 11:35:00</th>\n",
       "      <td>13.193283</td>\n",
       "      <td>103.975773</td>\n",
       "      <td>0</td>\n",
       "    </tr>\n",
       "    <tr>\n",
       "      <th>2019-08-05 11:40:00</th>\n",
       "      <td>13.231584</td>\n",
       "      <td>100.400228</td>\n",
       "      <td>0</td>\n",
       "    </tr>\n",
       "    <tr>\n",
       "      <th>2019-08-05 11:45:00</th>\n",
       "      <td>13.260173</td>\n",
       "      <td>94.679802</td>\n",
       "      <td>0</td>\n",
       "    </tr>\n",
       "    <tr>\n",
       "      <th>2019-08-05 11:50:00</th>\n",
       "      <td>13.289516</td>\n",
       "      <td>88.288440</td>\n",
       "      <td>0</td>\n",
       "    </tr>\n",
       "    <tr>\n",
       "      <th>2019-08-05 11:55:00</th>\n",
       "      <td>13.320863</td>\n",
       "      <td>85.540217</td>\n",
       "      <td>0</td>\n",
       "    </tr>\n",
       "    <tr>\n",
       "      <th>2019-08-05 12:00:00</th>\n",
       "      <td>13.353296</td>\n",
       "      <td>79.908106</td>\n",
       "      <td>0</td>\n",
       "    </tr>\n",
       "    <tr>\n",
       "      <th>2019-08-05 12:05:00</th>\n",
       "      <td>13.382872</td>\n",
       "      <td>77.769322</td>\n",
       "      <td>0</td>\n",
       "    </tr>\n",
       "    <tr>\n",
       "      <th>2019-08-05 12:10:00</th>\n",
       "      <td>13.410076</td>\n",
       "      <td>72.388650</td>\n",
       "      <td>0</td>\n",
       "    </tr>\n",
       "    <tr>\n",
       "      <th>2019-08-05 12:15:00</th>\n",
       "      <td>13.444470</td>\n",
       "      <td>69.668250</td>\n",
       "      <td>0</td>\n",
       "    </tr>\n",
       "    <tr>\n",
       "      <th>2019-08-05 12:20:00</th>\n",
       "      <td>13.478619</td>\n",
       "      <td>67.368693</td>\n",
       "      <td>0</td>\n",
       "    </tr>\n",
       "    <tr>\n",
       "      <th>2019-08-05 12:25:00</th>\n",
       "      <td>13.516815</td>\n",
       "      <td>63.319429</td>\n",
       "      <td>0</td>\n",
       "    </tr>\n",
       "    <tr>\n",
       "      <th>2019-08-05 12:30:00</th>\n",
       "      <td>13.545646</td>\n",
       "      <td>61.622365</td>\n",
       "      <td>0</td>\n",
       "    </tr>\n",
       "    <tr>\n",
       "      <th>2019-08-05 12:35:00</th>\n",
       "      <td>13.576991</td>\n",
       "      <td>57.103558</td>\n",
       "      <td>0</td>\n",
       "    </tr>\n",
       "    <tr>\n",
       "      <th>2019-08-05 12:40:00</th>\n",
       "      <td>13.608044</td>\n",
       "      <td>55.748598</td>\n",
       "      <td>0</td>\n",
       "    </tr>\n",
       "    <tr>\n",
       "      <th>2019-08-05 12:45:00</th>\n",
       "      <td>13.639209</td>\n",
       "      <td>51.481270</td>\n",
       "      <td>0</td>\n",
       "    </tr>\n",
       "    <tr>\n",
       "      <th>2019-08-05 12:50:00</th>\n",
       "      <td>13.670068</td>\n",
       "      <td>50.813112</td>\n",
       "      <td>0</td>\n",
       "    </tr>\n",
       "    <tr>\n",
       "      <th>...</th>\n",
       "      <td>...</td>\n",
       "      <td>...</td>\n",
       "      <td>...</td>\n",
       "    </tr>\n",
       "    <tr>\n",
       "      <th>2019-08-07 17:55:00</th>\n",
       "      <td>14.042426</td>\n",
       "      <td>20.909428</td>\n",
       "      <td>1</td>\n",
       "    </tr>\n",
       "    <tr>\n",
       "      <th>2019-08-07 18:00:00</th>\n",
       "      <td>14.042995</td>\n",
       "      <td>20.913872</td>\n",
       "      <td>1</td>\n",
       "    </tr>\n",
       "    <tr>\n",
       "      <th>2019-08-07 18:05:00</th>\n",
       "      <td>14.041580</td>\n",
       "      <td>20.296095</td>\n",
       "      <td>1</td>\n",
       "    </tr>\n",
       "    <tr>\n",
       "      <th>2019-08-07 18:10:00</th>\n",
       "      <td>14.046048</td>\n",
       "      <td>20.268797</td>\n",
       "      <td>1</td>\n",
       "    </tr>\n",
       "    <tr>\n",
       "      <th>2019-08-07 18:15:00</th>\n",
       "      <td>14.047768</td>\n",
       "      <td>20.935067</td>\n",
       "      <td>1</td>\n",
       "    </tr>\n",
       "    <tr>\n",
       "      <th>2019-08-07 18:20:00</th>\n",
       "      <td>14.050524</td>\n",
       "      <td>21.643317</td>\n",
       "      <td>1</td>\n",
       "    </tr>\n",
       "    <tr>\n",
       "      <th>2019-08-07 18:25:00</th>\n",
       "      <td>14.055139</td>\n",
       "      <td>20.600350</td>\n",
       "      <td>1</td>\n",
       "    </tr>\n",
       "    <tr>\n",
       "      <th>2019-08-07 18:30:00</th>\n",
       "      <td>14.057300</td>\n",
       "      <td>21.845941</td>\n",
       "      <td>1</td>\n",
       "    </tr>\n",
       "    <tr>\n",
       "      <th>2019-08-07 18:35:00</th>\n",
       "      <td>14.054407</td>\n",
       "      <td>20.343585</td>\n",
       "      <td>1</td>\n",
       "    </tr>\n",
       "    <tr>\n",
       "      <th>2019-08-07 18:40:00</th>\n",
       "      <td>14.048876</td>\n",
       "      <td>21.675714</td>\n",
       "      <td>1</td>\n",
       "    </tr>\n",
       "    <tr>\n",
       "      <th>2019-08-07 18:45:00</th>\n",
       "      <td>14.055492</td>\n",
       "      <td>20.105338</td>\n",
       "      <td>1</td>\n",
       "    </tr>\n",
       "    <tr>\n",
       "      <th>2019-08-07 18:50:00</th>\n",
       "      <td>14.060416</td>\n",
       "      <td>21.425358</td>\n",
       "      <td>1</td>\n",
       "    </tr>\n",
       "    <tr>\n",
       "      <th>2019-08-07 18:55:00</th>\n",
       "      <td>14.050027</td>\n",
       "      <td>19.494446</td>\n",
       "      <td>1</td>\n",
       "    </tr>\n",
       "    <tr>\n",
       "      <th>2019-08-07 19:00:00</th>\n",
       "      <td>14.037225</td>\n",
       "      <td>20.915475</td>\n",
       "      <td>1</td>\n",
       "    </tr>\n",
       "    <tr>\n",
       "      <th>2019-08-07 19:05:00</th>\n",
       "      <td>14.028976</td>\n",
       "      <td>19.340984</td>\n",
       "      <td>1</td>\n",
       "    </tr>\n",
       "    <tr>\n",
       "      <th>2019-08-07 19:10:00</th>\n",
       "      <td>14.035618</td>\n",
       "      <td>19.739223</td>\n",
       "      <td>1</td>\n",
       "    </tr>\n",
       "    <tr>\n",
       "      <th>2019-08-07 19:15:00</th>\n",
       "      <td>14.008907</td>\n",
       "      <td>19.178883</td>\n",
       "      <td>1</td>\n",
       "    </tr>\n",
       "    <tr>\n",
       "      <th>2019-08-07 19:20:00</th>\n",
       "      <td>14.037713</td>\n",
       "      <td>21.415560</td>\n",
       "      <td>1</td>\n",
       "    </tr>\n",
       "    <tr>\n",
       "      <th>2019-08-07 19:25:00</th>\n",
       "      <td>14.066124</td>\n",
       "      <td>19.874863</td>\n",
       "      <td>1</td>\n",
       "    </tr>\n",
       "    <tr>\n",
       "      <th>2019-08-07 19:30:00</th>\n",
       "      <td>14.081594</td>\n",
       "      <td>21.256991</td>\n",
       "      <td>1</td>\n",
       "    </tr>\n",
       "    <tr>\n",
       "      <th>2019-08-07 19:35:00</th>\n",
       "      <td>14.093634</td>\n",
       "      <td>21.038237</td>\n",
       "      <td>1</td>\n",
       "    </tr>\n",
       "    <tr>\n",
       "      <th>2019-08-07 19:40:00</th>\n",
       "      <td>14.102713</td>\n",
       "      <td>19.229871</td>\n",
       "      <td>1</td>\n",
       "    </tr>\n",
       "    <tr>\n",
       "      <th>2019-08-07 19:45:00</th>\n",
       "      <td>14.074129</td>\n",
       "      <td>23.759595</td>\n",
       "      <td>1</td>\n",
       "    </tr>\n",
       "    <tr>\n",
       "      <th>2019-08-07 19:50:00</th>\n",
       "      <td>14.038242</td>\n",
       "      <td>21.441399</td>\n",
       "      <td>1</td>\n",
       "    </tr>\n",
       "    <tr>\n",
       "      <th>2019-08-07 19:55:00</th>\n",
       "      <td>14.053194</td>\n",
       "      <td>21.759321</td>\n",
       "      <td>1</td>\n",
       "    </tr>\n",
       "    <tr>\n",
       "      <th>2019-08-07 20:00:00</th>\n",
       "      <td>14.075384</td>\n",
       "      <td>21.883094</td>\n",
       "      <td>1</td>\n",
       "    </tr>\n",
       "    <tr>\n",
       "      <th>2019-08-07 20:05:00</th>\n",
       "      <td>14.095019</td>\n",
       "      <td>23.389553</td>\n",
       "      <td>1</td>\n",
       "    </tr>\n",
       "    <tr>\n",
       "      <th>2019-08-07 20:10:00</th>\n",
       "      <td>14.086861</td>\n",
       "      <td>21.385214</td>\n",
       "      <td>1</td>\n",
       "    </tr>\n",
       "    <tr>\n",
       "      <th>2019-08-07 20:15:00</th>\n",
       "      <td>14.058206</td>\n",
       "      <td>22.974974</td>\n",
       "      <td>1</td>\n",
       "    </tr>\n",
       "    <tr>\n",
       "      <th>2019-08-07 20:30:00</th>\n",
       "      <td>13.916375</td>\n",
       "      <td>39.912597</td>\n",
       "      <td>0</td>\n",
       "    </tr>\n",
       "  </tbody>\n",
       "</table>\n",
       "<p>339 rows × 3 columns</p>\n",
       "</div>"
      ],
      "text/plain": [
       "                     4649_Ch8_APU_BatteryVoltage  4649_Ch1_Alternator_250A  \\\n",
       "Time                                                                         \n",
       "2019-08-05 00:35:00                    14.095874                 23.670096   \n",
       "2019-08-05 00:40:00                    14.089152                 22.727537   \n",
       "2019-08-05 00:45:00                    14.094511                 24.042178   \n",
       "2019-08-05 00:50:00                    14.091101                 18.789823   \n",
       "2019-08-05 06:40:00                    13.230398                150.719783   \n",
       "2019-08-05 06:45:00                    13.277175                138.602511   \n",
       "2019-08-05 10:10:00                    13.054964                174.505134   \n",
       "2019-08-05 10:15:00                    13.290930                173.713646   \n",
       "2019-08-05 10:20:00                    13.175464                174.281225   \n",
       "2019-08-05 11:10:00                    12.306884                156.989136   \n",
       "2019-08-05 11:15:00                    13.084248                147.531024   \n",
       "2019-08-05 11:20:00                    13.135081                134.892866   \n",
       "2019-08-05 11:25:00                    13.151540                121.081226   \n",
       "2019-08-05 11:30:00                    13.166564                112.485320   \n",
       "2019-08-05 11:35:00                    13.193283                103.975773   \n",
       "2019-08-05 11:40:00                    13.231584                100.400228   \n",
       "2019-08-05 11:45:00                    13.260173                 94.679802   \n",
       "2019-08-05 11:50:00                    13.289516                 88.288440   \n",
       "2019-08-05 11:55:00                    13.320863                 85.540217   \n",
       "2019-08-05 12:00:00                    13.353296                 79.908106   \n",
       "2019-08-05 12:05:00                    13.382872                 77.769322   \n",
       "2019-08-05 12:10:00                    13.410076                 72.388650   \n",
       "2019-08-05 12:15:00                    13.444470                 69.668250   \n",
       "2019-08-05 12:20:00                    13.478619                 67.368693   \n",
       "2019-08-05 12:25:00                    13.516815                 63.319429   \n",
       "2019-08-05 12:30:00                    13.545646                 61.622365   \n",
       "2019-08-05 12:35:00                    13.576991                 57.103558   \n",
       "2019-08-05 12:40:00                    13.608044                 55.748598   \n",
       "2019-08-05 12:45:00                    13.639209                 51.481270   \n",
       "2019-08-05 12:50:00                    13.670068                 50.813112   \n",
       "...                                          ...                       ...   \n",
       "2019-08-07 17:55:00                    14.042426                 20.909428   \n",
       "2019-08-07 18:00:00                    14.042995                 20.913872   \n",
       "2019-08-07 18:05:00                    14.041580                 20.296095   \n",
       "2019-08-07 18:10:00                    14.046048                 20.268797   \n",
       "2019-08-07 18:15:00                    14.047768                 20.935067   \n",
       "2019-08-07 18:20:00                    14.050524                 21.643317   \n",
       "2019-08-07 18:25:00                    14.055139                 20.600350   \n",
       "2019-08-07 18:30:00                    14.057300                 21.845941   \n",
       "2019-08-07 18:35:00                    14.054407                 20.343585   \n",
       "2019-08-07 18:40:00                    14.048876                 21.675714   \n",
       "2019-08-07 18:45:00                    14.055492                 20.105338   \n",
       "2019-08-07 18:50:00                    14.060416                 21.425358   \n",
       "2019-08-07 18:55:00                    14.050027                 19.494446   \n",
       "2019-08-07 19:00:00                    14.037225                 20.915475   \n",
       "2019-08-07 19:05:00                    14.028976                 19.340984   \n",
       "2019-08-07 19:10:00                    14.035618                 19.739223   \n",
       "2019-08-07 19:15:00                    14.008907                 19.178883   \n",
       "2019-08-07 19:20:00                    14.037713                 21.415560   \n",
       "2019-08-07 19:25:00                    14.066124                 19.874863   \n",
       "2019-08-07 19:30:00                    14.081594                 21.256991   \n",
       "2019-08-07 19:35:00                    14.093634                 21.038237   \n",
       "2019-08-07 19:40:00                    14.102713                 19.229871   \n",
       "2019-08-07 19:45:00                    14.074129                 23.759595   \n",
       "2019-08-07 19:50:00                    14.038242                 21.441399   \n",
       "2019-08-07 19:55:00                    14.053194                 21.759321   \n",
       "2019-08-07 20:00:00                    14.075384                 21.883094   \n",
       "2019-08-07 20:05:00                    14.095019                 23.389553   \n",
       "2019-08-07 20:10:00                    14.086861                 21.385214   \n",
       "2019-08-07 20:15:00                    14.058206                 22.974974   \n",
       "2019-08-07 20:30:00                    13.916375                 39.912597   \n",
       "\n",
       "                     APU_Voltage_Binary  \n",
       "Time                                     \n",
       "2019-08-05 00:35:00                   1  \n",
       "2019-08-05 00:40:00                   1  \n",
       "2019-08-05 00:45:00                   1  \n",
       "2019-08-05 00:50:00                   1  \n",
       "2019-08-05 06:40:00                   0  \n",
       "2019-08-05 06:45:00                   0  \n",
       "2019-08-05 10:10:00                   0  \n",
       "2019-08-05 10:15:00                   0  \n",
       "2019-08-05 10:20:00                   0  \n",
       "2019-08-05 11:10:00                   0  \n",
       "2019-08-05 11:15:00                   0  \n",
       "2019-08-05 11:20:00                   0  \n",
       "2019-08-05 11:25:00                   0  \n",
       "2019-08-05 11:30:00                   0  \n",
       "2019-08-05 11:35:00                   0  \n",
       "2019-08-05 11:40:00                   0  \n",
       "2019-08-05 11:45:00                   0  \n",
       "2019-08-05 11:50:00                   0  \n",
       "2019-08-05 11:55:00                   0  \n",
       "2019-08-05 12:00:00                   0  \n",
       "2019-08-05 12:05:00                   0  \n",
       "2019-08-05 12:10:00                   0  \n",
       "2019-08-05 12:15:00                   0  \n",
       "2019-08-05 12:20:00                   0  \n",
       "2019-08-05 12:25:00                   0  \n",
       "2019-08-05 12:30:00                   0  \n",
       "2019-08-05 12:35:00                   0  \n",
       "2019-08-05 12:40:00                   0  \n",
       "2019-08-05 12:45:00                   0  \n",
       "2019-08-05 12:50:00                   0  \n",
       "...                                 ...  \n",
       "2019-08-07 17:55:00                   1  \n",
       "2019-08-07 18:00:00                   1  \n",
       "2019-08-07 18:05:00                   1  \n",
       "2019-08-07 18:10:00                   1  \n",
       "2019-08-07 18:15:00                   1  \n",
       "2019-08-07 18:20:00                   1  \n",
       "2019-08-07 18:25:00                   1  \n",
       "2019-08-07 18:30:00                   1  \n",
       "2019-08-07 18:35:00                   1  \n",
       "2019-08-07 18:40:00                   1  \n",
       "2019-08-07 18:45:00                   1  \n",
       "2019-08-07 18:50:00                   1  \n",
       "2019-08-07 18:55:00                   1  \n",
       "2019-08-07 19:00:00                   1  \n",
       "2019-08-07 19:05:00                   1  \n",
       "2019-08-07 19:10:00                   1  \n",
       "2019-08-07 19:15:00                   1  \n",
       "2019-08-07 19:20:00                   1  \n",
       "2019-08-07 19:25:00                   1  \n",
       "2019-08-07 19:30:00                   1  \n",
       "2019-08-07 19:35:00                   1  \n",
       "2019-08-07 19:40:00                   1  \n",
       "2019-08-07 19:45:00                   1  \n",
       "2019-08-07 19:50:00                   1  \n",
       "2019-08-07 19:55:00                   1  \n",
       "2019-08-07 20:00:00                   1  \n",
       "2019-08-07 20:05:00                   1  \n",
       "2019-08-07 20:10:00                   1  \n",
       "2019-08-07 20:15:00                   1  \n",
       "2019-08-07 20:30:00                   0  \n",
       "\n",
       "[339 rows x 3 columns]"
      ]
     },
     "execution_count": 15,
     "metadata": {},
     "output_type": "execute_result"
    }
   ],
   "source": [
    "mldf"
   ]
  },
  {
   "cell_type": "code",
   "execution_count": 29,
   "metadata": {},
   "outputs": [],
   "source": [
    "#train test and split\n",
    "X_train, X_test, y_train, y_test = train_test_split(mldf.iloc[:,:2],mldf.APU_Voltage_Binary, test_size = 0.2)"
   ]
  },
  {
   "cell_type": "code",
   "execution_count": 30,
   "metadata": {},
   "outputs": [
    {
     "name": "stdout",
     "output_type": "stream",
     "text": [
      "(339, 3) - full dataframe shape\n",
      "(68, 2) - Test(x) dataframe shape\n",
      "(271, 2) - Training(x) shape\n",
      "(68,) - Testing(y) shape\n",
      "(271,) - Testing(y) shape\n"
     ]
    }
   ],
   "source": [
    "print(mldf.shape, \"- full dataframe shape\")\n",
    "print(X_test.shape, \"- Test(x) dataframe shape\")\n",
    "print(X_train.shape, \"- Training(x) shape\")\n",
    "print(y_test.shape, \"- Testing(y) shape\")\n",
    "print(y_train.shape, \"- Testing(y) shape\")"
   ]
  },
  {
   "cell_type": "code",
   "execution_count": 31,
   "metadata": {},
   "outputs": [
    {
     "data": {
      "text/plain": [
       "LogisticRegression(C=1.0, class_weight=None, dual=False, fit_intercept=True,\n",
       "          intercept_scaling=1, max_iter=100, multi_class='warn',\n",
       "          n_jobs=None, penalty='l2', random_state=None, solver='lbfgs',\n",
       "          tol=0.0001, verbose=0, warm_start=False)"
      ]
     },
     "execution_count": 31,
     "metadata": {},
     "output_type": "execute_result"
    }
   ],
   "source": [
    "#train classifier\n",
    "logReg.fit(X_train,y_train)"
   ]
  },
  {
   "cell_type": "code",
   "execution_count": 32,
   "metadata": {},
   "outputs": [
    {
     "data": {
      "text/plain": [
       "0.940959409594096"
      ]
     },
     "execution_count": 32,
     "metadata": {},
     "output_type": "execute_result"
    }
   ],
   "source": [
    "#get some score values for 'accuracy'\n",
    "logReg.score(X_train,y_train)"
   ]
  },
  {
   "cell_type": "code",
   "execution_count": 33,
   "metadata": {},
   "outputs": [
    {
     "data": {
      "text/plain": [
       "0.8676470588235294"
      ]
     },
     "execution_count": 33,
     "metadata": {},
     "output_type": "execute_result"
    }
   ],
   "source": [
    "logReg.score(X_test,y_test)#this value shouls be less."
   ]
  },
  {
   "cell_type": "code",
   "execution_count": 34,
   "metadata": {},
   "outputs": [
    {
     "name": "stdout",
     "output_type": "stream",
     "text": [
      "0.07331235077056653\n"
     ]
    }
   ],
   "source": [
    "trainscore = logReg.score(X_train,y_train)\n",
    "testscore =logReg.score(X_test,y_test) #this value shouls be less.\n",
    "print(trainscore-testscore)"
   ]
  },
  {
   "cell_type": "code",
   "execution_count": 35,
   "metadata": {},
   "outputs": [
    {
     "data": {
      "text/plain": [
       "array([0, 1, 0, 0, 1, 1, 0, 1, 0, 0, 1, 0, 0, 1, 0, 0, 1, 0, 0, 0, 0, 1,\n",
       "       1, 0, 0, 1, 1, 1, 0, 0, 0, 1, 1, 0, 1, 1, 1, 1, 1, 1, 1, 1, 1, 1,\n",
       "       0, 0, 0, 0, 1, 1, 1, 0, 1, 1, 1, 0, 0, 1, 0, 1, 1, 1, 1, 1, 1, 1,\n",
       "       0, 0])"
      ]
     },
     "execution_count": 35,
     "metadata": {},
     "output_type": "execute_result"
    }
   ],
   "source": [
    "logReg.predict(X_test)"
   ]
  },
  {
   "cell_type": "code",
   "execution_count": 36,
   "metadata": {},
   "outputs": [
    {
     "name": "stdout",
     "output_type": "stream",
     "text": [
      "                     4649_Ch8_APU_BatteryVoltage  4649_Ch1_Alternator_250A\n",
      "Time                                                                      \n",
      "2019-08-07 11:15:00                    13.793395                 41.340747\n",
      "2019-08-07 19:30:00                    14.081594                 21.256991\n",
      "2019-08-07 16:10:00                    13.995050                 27.671864\n",
      "2019-08-05 11:50:00                    13.289516                 88.288440\n",
      "2019-08-07 18:40:00                    14.048876                 21.675714\n",
      "2019-08-07 20:10:00                    14.086861                 21.385214\n",
      "2019-08-05 16:45:00                    13.637604                 71.853447\n",
      "2019-08-05 22:35:00                    14.066735                 24.410852\n",
      "2019-08-06 09:35:00                    12.904221                148.660016\n",
      "2019-08-05 11:40:00                    13.231584                100.400228\n",
      "2019-08-07 13:25:00                    14.034143                 24.961357\n",
      "2019-08-05 16:40:00                    13.430218                107.682643\n",
      "2019-08-06 10:00:00                    13.074781                106.972171\n",
      "2019-08-06 17:15:00                    14.012227                 23.581741\n",
      "2019-08-06 14:25:00                    13.936465                 29.941691\n",
      "2019-08-07 10:40:00                    13.658626                 55.282754\n",
      "2019-08-05 22:20:00                    14.071082                 21.823583\n",
      "2019-08-05 17:45:00                    14.036078                 27.736416\n",
      "2019-08-06 14:00:00                    13.848892                 39.910264\n",
      "2019-08-07 15:40:00                    14.017074                 27.381708\n",
      "2019-08-07 11:35:00                    13.872420                 35.761107\n",
      "2019-08-07 13:10:00                    14.024274                 25.282406\n",
      "2019-08-05 17:50:00                    14.031960                 26.745130\n",
      "2019-08-05 13:05:00                    13.765291                 44.096125\n",
      "2019-08-05 13:40:00                    13.923527                 30.319953\n",
      "2019-08-05 17:25:00                    14.047272                 27.220458\n",
      "2019-08-05 00:45:00                    14.094511                 24.042178\n",
      "2019-08-07 17:30:00                    14.047483                 20.928006\n",
      "2019-08-07 15:05:00                    14.006220                 34.630134\n",
      "2019-08-07 15:15:00                    14.003543                 28.968948\n",
      "...                                          ...                       ...\n",
      "2019-08-05 16:20:00                    13.985857                 21.519335\n",
      "2019-08-07 15:55:00                    14.023690                 25.086824\n",
      "2019-08-05 19:00:00                    14.046166                 24.318952\n",
      "2019-08-05 19:40:00                    14.023894                 23.802752\n",
      "2019-08-05 14:40:00                    14.013554                 22.511673\n",
      "2019-08-05 14:25:00                    14.014670                 24.216545\n",
      "2019-08-05 12:25:00                    13.516815                 63.319429\n",
      "2019-08-07 11:50:00                    13.860587                 31.536717\n",
      "2019-08-07 11:30:00                    13.842613                 38.422239\n",
      "2019-08-07 15:10:00                    14.014107                 28.857907\n",
      "2019-08-05 18:15:00                    14.042408                 24.087059\n",
      "2019-08-05 14:15:00                    14.009658                 24.394013\n",
      "2019-08-07 13:40:00                    14.007749                 24.102127\n",
      "2019-08-05 13:20:00                    13.839887                 36.599451\n",
      "2019-08-05 19:15:00                    14.049565                 24.947293\n",
      "2019-08-07 12:45:00                    14.003885                 26.700958\n",
      "2019-08-05 18:45:00                    14.043100                 23.822528\n",
      "2019-08-07 10:50:00                    13.704171                 50.883049\n",
      "2019-08-05 06:40:00                    13.230398                150.719783\n",
      "2019-08-07 19:15:00                    14.008907                 19.178883\n",
      "2019-08-06 16:50:00                    13.939586                 45.696380\n",
      "2019-08-05 14:10:00                    14.004524                 25.182952\n",
      "2019-08-07 18:35:00                    14.054407                 20.343585\n",
      "2019-08-06 14:45:00                    13.990943                 26.547303\n",
      "2019-08-05 20:25:00                    14.049267                 24.822776\n",
      "2019-08-07 18:55:00                    14.050027                 19.494446\n",
      "2019-08-05 20:15:00                    14.044544                 24.675580\n",
      "2019-08-05 17:10:00                    14.035580                 25.815868\n",
      "2019-08-07 09:05:00                    13.412370                 77.375652\n",
      "2019-08-06 13:30:00                    13.741692                 78.657907\n",
      "\n",
      "[68 rows x 2 columns]\n"
     ]
    }
   ],
   "source": [
    "print(X_test)\n",
    "X_test.to_csv(\"C:\\\\Users\\\\willi\\\\Desktop\\\\MLTestdata.csv\")"
   ]
  },
  {
   "cell_type": "code",
   "execution_count": 41,
   "metadata": {},
   "outputs": [
    {
     "data": {
      "text/plain": [
       "array([[9.99982618e-01, 1.73824566e-05],\n",
       "       [8.69124474e-03, 9.91308755e-01],\n",
       "       [5.67938696e-01, 4.32061304e-01],\n",
       "       [1.00000000e+00, 2.24537236e-21],\n",
       "       [1.22176306e-02, 9.87782369e-01],\n",
       "       [9.55600452e-03, 9.90443995e-01],\n",
       "       [1.00000000e+00, 9.13247721e-16],\n",
       "       [9.18741704e-02, 9.08125830e-01],\n",
       "       [1.00000000e+00, 9.80310780e-42],\n",
       "       [1.00000000e+00, 1.87058693e-25],\n",
       "       [1.36447599e-01, 8.63552401e-01],\n",
       "       [1.00000000e+00, 7.64291541e-28],\n",
       "       [1.00000000e+00, 1.05713032e-27],\n",
       "       [5.23006501e-02, 9.47699350e-01],\n",
       "       [8.87343640e-01, 1.12656360e-01],\n",
       "       [1.00000000e+00, 3.35511392e-10],\n",
       "       [1.34879714e-02, 9.86512029e-01],\n",
       "       [5.73807170e-01, 4.26192830e-01],\n",
       "       [9.99945646e-01, 5.43542615e-05],\n",
       "       [5.08846606e-01, 4.91153394e-01],\n",
       "       [9.98641269e-01, 1.35873109e-03],\n",
       "       [1.69261536e-01, 8.30738464e-01],\n",
       "       [3.85618378e-01, 6.14381622e-01],\n",
       "       [9.99997968e-01, 2.03235196e-06],\n",
       "       [9.14061711e-01, 8.59382885e-02],\n",
       "       [4.72964583e-01, 5.27035417e-01],\n",
       "       [6.95704936e-02, 9.30429506e-01],\n",
       "       [6.90001308e-03, 9.93099987e-01],\n",
       "       [9.96465576e-01, 3.53442357e-03],\n",
       "       [7.80756646e-01, 2.19243354e-01],\n",
       "       [1.00000000e+00, 1.90908913e-43],\n",
       "       [3.48672123e-02, 9.65132788e-01],\n",
       "       [1.33607444e-02, 9.86639256e-01],\n",
       "       [1.00000000e+00, 1.71870705e-11],\n",
       "       [6.78693974e-02, 9.32130603e-01],\n",
       "       [3.72316476e-01, 6.27683524e-01],\n",
       "       [1.13867840e-01, 8.86132160e-01],\n",
       "       [3.03460431e-03, 9.96965396e-01],\n",
       "       [1.12777054e-02, 9.88722295e-01],\n",
       "       [1.49111214e-01, 8.50888786e-01],\n",
       "       [8.71479881e-02, 9.12852012e-01],\n",
       "       [6.10158271e-02, 9.38984173e-01],\n",
       "       [2.35569586e-02, 9.76443041e-01],\n",
       "       [8.25507516e-02, 9.17449248e-01],\n",
       "       [1.00000000e+00, 6.17394284e-13],\n",
       "       [9.65906829e-01, 3.40931709e-02],\n",
       "       [9.99829123e-01, 1.70876717e-04],\n",
       "       [7.64521341e-01, 2.35478659e-01],\n",
       "       [7.40739809e-02, 9.25926019e-01],\n",
       "       [9.38145695e-02, 9.06185431e-01],\n",
       "       [7.64067684e-02, 9.23593232e-01],\n",
       "       [9.99302989e-01, 6.97010965e-04],\n",
       "       [1.34037923e-01, 8.65962077e-01],\n",
       "       [3.81742164e-01, 6.18257836e-01],\n",
       "       [6.11964233e-02, 9.38803577e-01],\n",
       "       [9.99999990e-01, 1.03340330e-08],\n",
       "       [1.00000000e+00, 2.45352109e-42],\n",
       "       [1.84000642e-03, 9.98159994e-01],\n",
       "       [9.99999341e-01, 6.59068592e-07],\n",
       "       [1.60404012e-01, 8.39595988e-01],\n",
       "       [4.38510727e-03, 9.95614893e-01],\n",
       "       [3.56018938e-01, 6.43981062e-01],\n",
       "       [1.23281085e-01, 8.76718915e-01],\n",
       "       [2.28673334e-03, 9.97713267e-01],\n",
       "       [1.11803944e-01, 8.88196056e-01],\n",
       "       [2.33991113e-01, 7.66008887e-01],\n",
       "       [1.00000000e+00, 1.11211560e-17],\n",
       "       [1.00000000e+00, 5.08496697e-18]])"
      ]
     },
     "execution_count": 41,
     "metadata": {},
     "output_type": "execute_result"
    }
   ],
   "source": [
    "logReg.predict_proba(X_test) #Charged/NotCharged"
   ]
  },
  {
   "cell_type": "code",
   "execution_count": 42,
   "metadata": {},
   "outputs": [
    {
     "data": {
      "text/plain": [
       "<matplotlib.collections.PathCollection at 0x25c871bbe10>"
      ]
     },
     "execution_count": 42,
     "metadata": {},
     "output_type": "execute_result"
    },
    {
     "data": {
      "image/png": "[encoded data removed]",
      "text/plain": [
       "<Figure size 2160x360 with 1 Axes>"
      ]
     },
     "metadata": {
      "needs_background": "light"
     },
     "output_type": "display_data"
    }
   ],
   "source": [
    "\n",
    "plt.figure(figsize=(30,5))\n",
    "plt.scatter(mldf.index,mldf.APU_Voltage_Binary, color='darkslateblue')\n"
   ]
  },
  {
   "cell_type": "code",
   "execution_count": 43,
   "metadata": {},
   "outputs": [
    {
     "name": "stdout",
     "output_type": "stream",
     "text": [
      "[[25  4]\n",
      " [ 5 34]]\n"
     ]
    }
   ],
   "source": [
    "from sklearn import metrics\n",
    "Cmatrix = metrics.confusion_matrix(y_test, logReg.predict(X_test))\n",
    "print(Cmatrix)"
   ]
  },
  {
   "cell_type": "code",
   "execution_count": 44,
   "metadata": {},
   "outputs": [
    {
     "name": "stdout",
     "output_type": "stream",
     "text": [
      "              precision    recall  f1-score   support\n",
      "\n",
      "           0       0.86      0.83      0.85        30\n",
      "           1       0.87      0.89      0.88        38\n",
      "\n",
      "   micro avg       0.87      0.87      0.87        68\n",
      "   macro avg       0.87      0.86      0.87        68\n",
      "weighted avg       0.87      0.87      0.87        68\n",
      "\n"
     ]
    }
   ],
   "source": [
    "print(metrics.classification_report(logReg.predict(X_test), y_test) ) "
   ]
  }
 ],
 "metadata": {
  "kernelspec": {
   "display_name": "Python 3",
   "language": "python",
   "name": "python3"
  },
  "language_info": {
   "codemirror_mode": {
    "name": "ipython",
    "version": 3
   },
   "file_extension": ".py",
   "mimetype": "text/x-python",
   "name": "python",
   "nbconvert_exporter": "python",
   "pygments_lexer": "ipython3",
   "version": "3.7.1"
  }
 },
 "nbformat": 4,
 "nbformat_minor": 2
}
