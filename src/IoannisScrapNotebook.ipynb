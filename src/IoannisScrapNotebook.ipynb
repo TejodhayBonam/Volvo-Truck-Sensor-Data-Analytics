{
 "cells": [
  {
   "cell_type": "code",
   "execution_count": 1,
   "metadata": {},
   "outputs": [],
   "source": [
    "import os\n",
    "import numpy as np\n",
    "import pandas as pd\n",
    "import csv\n",
    "import matplotlib.pyplot as plt\n",
    "from scipy import stats\n",
    "\n",
    "truckTwoPath = \"../data/trucks/truck1.csv\"\n",
    "\n",
    "truckTwoDictPath = \"../data/dictionary/truck1_data_dictionary.csv\""
   ]
  },
  {
   "cell_type": "code",
   "execution_count": 2,
   "metadata": {},
   "outputs": [],
   "source": [
    "def get_truck_data():\n",
    "    trucks1 = pd.read_csv(os.path.join('../data/trucks/truck1.csv'),\n",
    "               sep=',',engine='python')\n",
    "    \n",
    "    return trucks1"
   ]
  },
  {
   "cell_type": "code",
   "execution_count": 3,
   "metadata": {},
   "outputs": [],
   "source": [
    "trucks1 = get_truck_data()"
   ]
  },
  {
   "cell_type": "code",
   "execution_count": 4,
   "metadata": {},
   "outputs": [],
   "source": [
    "def readCsv(truck):\n",
    "    return pd.read_csv(truck, header = [0])\n",
    "    \n",
    "def cullUtcCols(truckData):\n",
    "    noUTC = truckData.drop([\"UTC hour\", \"UTC minute\", \"UTC second\", \"UTC month\", \"UTC day\", \"UTC year\"], axis = 1)\n",
    "    return noUTC\n",
    "\n",
    "\"\"\"Takes a DataFrame and a conversion dictionary as parameters;\n",
    "    uses the dictionary to rename all matching columns then returns the changed DataFrame.\"\"\"\n",
    "def renameColumns(dataFrame, dictionary):\n",
    "    return dataFrame.rename(columns = dictionary)\n",
    "\n",
    "\"\"\"Finds threshold of Non-NA type using percentage and deletes rows.\"\"\"\n",
    "\n",
    "#If the number of values that are NOT Na type pass this percentage, the row will be deleted\n",
    "rowNaNThresholdPercent = 75\n",
    "def removeUnnecessaryRows(dataFrame):\n",
    "    length = len(dataFrame.columns)\n",
    "    TValue = (rowNaNThresholdPercent / 100) * length\n",
    "    print(\"Threshold value: \" + str(int(TValue)))\n",
    "    return dataFrame.dropna(thresh = int(TValue))\n",
    "\n",
    "\"\"\"Finds columns with all Na types and deletes them.\"\"\"\n",
    "def removeUnnecessaryColumns(dataFrame):\n",
    "    return dataFrame.dropna(axis=1, how='all')\n",
    "\n",
    "# NOTE: The following function is unused in this notebook, but it can be used to convert CSV files into\n",
    "# conversion dictionaries i.e. creating the column rename dictionaries, which was manually done in the\n",
    "# previous block manually.\n",
    "\n",
    "\"\"\"Creates a Python dictionary from a pre-defined CSV dictionary.\n",
    "This will only look at the first two columns of the given CSV file.\"\"\"\n",
    "def createPythonDictionary(dictionaryCSV):\n",
    "    # Initialize the resulting dictionary.\n",
    "    dictResult = {}\n",
    "    \n",
    "    # Opens the passed in CSV which defines the rename dictionary and iterates through it to store each value into a Python dictionary.\n",
    "    with open(dictionaryCSV, 'r') as f:\n",
    "        for row in csv.reader(f):\n",
    "            dictResult.update({row[0]:row[1]})\n",
    "    return dictResult\n",
    "\n"
   ]
  },
  {
   "cell_type": "code",
   "execution_count": 5,
   "metadata": {},
   "outputs": [],
   "source": [
    "trucks1 = removeUnnecessaryColumns(trucks1)"
   ]
  },
  {
   "cell_type": "code",
   "execution_count": 6,
   "metadata": {},
   "outputs": [
    {
     "name": "stdout",
     "output_type": "stream",
     "text": [
      "Threshold value: 35\n"
     ]
    }
   ],
   "source": [
    "trucks1 = removeUnnecessaryRows(trucks1)"
   ]
  },
  {
   "cell_type": "code",
   "execution_count": 33,
   "metadata": {},
   "outputs": [
    {
     "data": {
      "text/html": [
       "<div>\n",
       "<style scoped>\n",
       "    .dataframe tbody tr th:only-of-type {\n",
       "        vertical-align: middle;\n",
       "    }\n",
       "\n",
       "    .dataframe tbody tr th {\n",
       "        vertical-align: top;\n",
       "    }\n",
       "\n",
       "    .dataframe thead th {\n",
       "        text-align: right;\n",
       "    }\n",
       "</style>\n",
       "<table border=\"1\" class=\"dataframe\">\n",
       "  <thead>\n",
       "    <tr style=\"text-align: right;\">\n",
       "      <th></th>\n",
       "      <th>Time</th>\n",
       "      <th>1730_CH9_ AutomaticStartStop</th>\n",
       "      <th>1730_CH10_Truck_Batteries</th>\n",
       "      <th>4649_Ch1_Alternator_250A</th>\n",
       "      <th>4649_Ch2_BattOut_100A</th>\n",
       "      <th>4649_Ch3_Trailer_50A</th>\n",
       "      <th>4649_Ch4_Inverter_100A</th>\n",
       "      <th>4649_Ch5_Fridge_50A</th>\n",
       "      <th>4649_Ch6_200A_APU_BatteryBank</th>\n",
       "      <th>4649_Ch7_200A_BatterySeparator</th>\n",
       "      <th>...</th>\n",
       "      <th>WheelBasedVehicleSpeed</th>\n",
       "      <th>CPU load</th>\n",
       "      <th>UTC hour</th>\n",
       "      <th>UTC minute</th>\n",
       "      <th>UTC second</th>\n",
       "      <th>UTC month</th>\n",
       "      <th>UTC day</th>\n",
       "      <th>UTC year</th>\n",
       "      <th>GPS altitude</th>\n",
       "      <th>GPS speed</th>\n",
       "    </tr>\n",
       "  </thead>\n",
       "  <tbody>\n",
       "    <tr>\n",
       "      <th>16</th>\n",
       "      <td>08/07/2019 07:54:04.559</td>\n",
       "      <td>0.006409</td>\n",
       "      <td>13.946441</td>\n",
       "      <td>97.500381</td>\n",
       "      <td>27.971695</td>\n",
       "      <td>0.277523</td>\n",
       "      <td>1.337072</td>\n",
       "      <td>0.145914</td>\n",
       "      <td>-0.033379</td>\n",
       "      <td>0.843061</td>\n",
       "      <td>...</td>\n",
       "      <td>8.167969</td>\n",
       "      <td>40.0</td>\n",
       "      <td>11.0</td>\n",
       "      <td>54.0</td>\n",
       "      <td>4.0</td>\n",
       "      <td>8.0</td>\n",
       "      <td>7.0</td>\n",
       "      <td>19.0</td>\n",
       "      <td>0.0</td>\n",
       "      <td>6.1116</td>\n",
       "    </tr>\n",
       "    <tr>\n",
       "      <th>17</th>\n",
       "      <td>08/07/2019 07:54:04.659</td>\n",
       "      <td>0.007782</td>\n",
       "      <td>13.953765</td>\n",
       "      <td>96.985389</td>\n",
       "      <td>22.375448</td>\n",
       "      <td>0.275616</td>\n",
       "      <td>5.640116</td>\n",
       "      <td>0.134470</td>\n",
       "      <td>-0.004768</td>\n",
       "      <td>0.774395</td>\n",
       "      <td>...</td>\n",
       "      <td>8.167969</td>\n",
       "      <td>40.0</td>\n",
       "      <td>11.0</td>\n",
       "      <td>54.0</td>\n",
       "      <td>4.0</td>\n",
       "      <td>8.0</td>\n",
       "      <td>7.0</td>\n",
       "      <td>19.0</td>\n",
       "      <td>0.0</td>\n",
       "      <td>6.1116</td>\n",
       "    </tr>\n",
       "    <tr>\n",
       "      <th>18</th>\n",
       "      <td>08/07/2019 07:54:04.759</td>\n",
       "      <td>0.007782</td>\n",
       "      <td>13.956970</td>\n",
       "      <td>98.330091</td>\n",
       "      <td>18.987945</td>\n",
       "      <td>0.273709</td>\n",
       "      <td>1.287480</td>\n",
       "      <td>0.126841</td>\n",
       "      <td>-0.014305</td>\n",
       "      <td>0.736248</td>\n",
       "      <td>...</td>\n",
       "      <td>8.167969</td>\n",
       "      <td>40.0</td>\n",
       "      <td>11.0</td>\n",
       "      <td>54.0</td>\n",
       "      <td>4.0</td>\n",
       "      <td>8.0</td>\n",
       "      <td>7.0</td>\n",
       "      <td>19.0</td>\n",
       "      <td>0.0</td>\n",
       "      <td>6.1116</td>\n",
       "    </tr>\n",
       "    <tr>\n",
       "      <th>19</th>\n",
       "      <td>08/07/2019 07:54:04.859</td>\n",
       "      <td>0.007324</td>\n",
       "      <td>13.953307</td>\n",
       "      <td>94.076638</td>\n",
       "      <td>19.071870</td>\n",
       "      <td>0.277523</td>\n",
       "      <td>6.105516</td>\n",
       "      <td>0.136378</td>\n",
       "      <td>-0.071527</td>\n",
       "      <td>0.774395</td>\n",
       "      <td>...</td>\n",
       "      <td>8.117188</td>\n",
       "      <td>88.0</td>\n",
       "      <td>11.0</td>\n",
       "      <td>54.0</td>\n",
       "      <td>5.0</td>\n",
       "      <td>8.0</td>\n",
       "      <td>7.0</td>\n",
       "      <td>19.0</td>\n",
       "      <td>0.0</td>\n",
       "      <td>6.6672</td>\n",
       "    </tr>\n",
       "    <tr>\n",
       "      <th>20</th>\n",
       "      <td>08/07/2019 07:54:04.959</td>\n",
       "      <td>0.007324</td>\n",
       "      <td>13.957885</td>\n",
       "      <td>96.365492</td>\n",
       "      <td>21.677348</td>\n",
       "      <td>0.264172</td>\n",
       "      <td>3.751812</td>\n",
       "      <td>0.128748</td>\n",
       "      <td>-0.071527</td>\n",
       "      <td>0.759136</td>\n",
       "      <td>...</td>\n",
       "      <td>7.820312</td>\n",
       "      <td>88.0</td>\n",
       "      <td>11.0</td>\n",
       "      <td>54.0</td>\n",
       "      <td>5.0</td>\n",
       "      <td>8.0</td>\n",
       "      <td>7.0</td>\n",
       "      <td>19.0</td>\n",
       "      <td>0.0</td>\n",
       "      <td>6.6672</td>\n",
       "    </tr>\n",
       "  </tbody>\n",
       "</table>\n",
       "<p>5 rows × 47 columns</p>\n",
       "</div>"
      ],
      "text/plain": [
       "                       Time  1730_CH9_ AutomaticStartStop  \\\n",
       "16  08/07/2019 07:54:04.559                      0.006409   \n",
       "17  08/07/2019 07:54:04.659                      0.007782   \n",
       "18  08/07/2019 07:54:04.759                      0.007782   \n",
       "19  08/07/2019 07:54:04.859                      0.007324   \n",
       "20  08/07/2019 07:54:04.959                      0.007324   \n",
       "\n",
       "    1730_CH10_Truck_Batteries  4649_Ch1_Alternator_250A  \\\n",
       "16                  13.946441                 97.500381   \n",
       "17                  13.953765                 96.985389   \n",
       "18                  13.956970                 98.330091   \n",
       "19                  13.953307                 94.076638   \n",
       "20                  13.957885                 96.365492   \n",
       "\n",
       "    4649_Ch2_BattOut_100A  4649_Ch3_Trailer_50A  4649_Ch4_Inverter_100A  \\\n",
       "16              27.971695              0.277523                1.337072   \n",
       "17              22.375448              0.275616                5.640116   \n",
       "18              18.987945              0.273709                1.287480   \n",
       "19              19.071870              0.277523                6.105516   \n",
       "20              21.677348              0.264172                3.751812   \n",
       "\n",
       "    4649_Ch5_Fridge_50A  4649_Ch6_200A_APU_BatteryBank  \\\n",
       "16             0.145914                      -0.033379   \n",
       "17             0.134470                      -0.004768   \n",
       "18             0.126841                      -0.014305   \n",
       "19             0.136378                      -0.071527   \n",
       "20             0.128748                      -0.071527   \n",
       "\n",
       "    4649_Ch7_200A_BatterySeparator  ...  WheelBasedVehicleSpeed  CPU load  \\\n",
       "16                        0.843061  ...                8.167969      40.0   \n",
       "17                        0.774395  ...                8.167969      40.0   \n",
       "18                        0.736248  ...                8.167969      40.0   \n",
       "19                        0.774395  ...                8.117188      88.0   \n",
       "20                        0.759136  ...                7.820312      88.0   \n",
       "\n",
       "    UTC hour  UTC minute  UTC second  UTC month  UTC day  UTC year  \\\n",
       "16      11.0        54.0         4.0        8.0      7.0      19.0   \n",
       "17      11.0        54.0         4.0        8.0      7.0      19.0   \n",
       "18      11.0        54.0         4.0        8.0      7.0      19.0   \n",
       "19      11.0        54.0         5.0        8.0      7.0      19.0   \n",
       "20      11.0        54.0         5.0        8.0      7.0      19.0   \n",
       "\n",
       "    GPS altitude  GPS speed  \n",
       "16           0.0     6.1116  \n",
       "17           0.0     6.1116  \n",
       "18           0.0     6.1116  \n",
       "19           0.0     6.6672  \n",
       "20           0.0     6.6672  \n",
       "\n",
       "[5 rows x 47 columns]"
      ]
     },
     "execution_count": 33,
     "metadata": {},
     "output_type": "execute_result"
    }
   ],
   "source": [
    "trucks1.head()"
   ]
  },
  {
   "cell_type": "code",
   "execution_count": 7,
   "metadata": {},
   "outputs": [
    {
     "data": {
      "text/plain": [
       "27.59693043150082"
      ]
     },
     "execution_count": 7,
     "metadata": {},
     "output_type": "execute_result"
    }
   ],
   "source": [
    "trucks1['EngineAirIntakeTemp_BB1_X_E'].mean()"
   ]
  },
  {
   "cell_type": "code",
   "execution_count": 8,
   "metadata": {},
   "outputs": [
    {
     "data": {
      "text/plain": [
       "array([[<matplotlib.axes._subplots.AxesSubplot object at 0x000000010606FFD0>]],\n",
       "      dtype=object)"
      ]
     },
     "execution_count": 8,
     "metadata": {},
     "output_type": "execute_result"
    },
    {
     "data": {
      "image/png": "[encoded data removed]",
      "text/plain": [
       "<Figure size 432x288 with 1 Axes>"
      ]
     },
     "metadata": {
      "needs_background": "light"
     },
     "output_type": "display_data"
    }
   ],
   "source": [
    "trucks1.hist(column=\"AmbientAirTemperature_V\", bins=100)"
   ]
  },
  {
   "cell_type": "code",
   "execution_count": 9,
   "metadata": {},
   "outputs": [
    {
     "data": {
      "text/plain": [
       "array([[<matplotlib.axes._subplots.AxesSubplot object at 0x0000000009954B38>]],\n",
       "      dtype=object)"
      ]
     },
     "execution_count": 9,
     "metadata": {},
     "output_type": "execute_result"
    },
    {
     "data": {
      "image/png": "[encoded data removed]",
      "text/plain": [
       "<Figure size 432x288 with 1 Axes>"
      ]
     },
     "metadata": {
      "needs_background": "light"
     },
     "output_type": "display_data"
    }
   ],
   "source": [
    "trucks1.hist(column=\"EngineAirIntakeTemp_BB1_X_E\", bins=100)"
   ]
  },
  {
   "cell_type": "code",
   "execution_count": 10,
   "metadata": {},
   "outputs": [
    {
     "data": {
      "text/plain": [
       "array([[<matplotlib.axes._subplots.AxesSubplot object at 0x00000000259711D0>]],\n",
       "      dtype=object)"
      ]
     },
     "execution_count": 10,
     "metadata": {},
     "output_type": "execute_result"
    },
    {
     "data": {
      "image/png": "[encoded data removed]",
      "text/plain": [
       "<Figure size 432x288 with 1 Axes>"
      ]
     },
     "metadata": {
      "needs_background": "light"
     },
     "output_type": "display_data"
    }
   ],
   "source": [
    "trucks1.hist(column='EngineCoolantTemp_stat', bins=50)"
   ]
  },
  {
   "cell_type": "code",
   "execution_count": 11,
   "metadata": {},
   "outputs": [
    {
     "data": {
      "text/plain": [
       "array([[<matplotlib.axes._subplots.AxesSubplot object at 0x00000001030D77F0>]],\n",
       "      dtype=object)"
      ]
     },
     "execution_count": 11,
     "metadata": {},
     "output_type": "execute_result"
    },
    {
     "data": {
      "image/png": "[encoded data removed]",
      "text/plain": [
       "<Figure size 432x288 with 1 Axes>"
      ]
     },
     "metadata": {
      "needs_background": "light"
     },
     "output_type": "display_data"
    }
   ],
   "source": [
    "trucks1.hist(column='EngineOilTemperature', bins=100)"
   ]
  },
  {
   "cell_type": "code",
   "execution_count": 12,
   "metadata": {},
   "outputs": [
    {
     "data": {
      "text/plain": [
       "array([[<matplotlib.axes._subplots.AxesSubplot object at 0x00000000DACC7908>]],\n",
       "      dtype=object)"
      ]
     },
     "execution_count": 12,
     "metadata": {},
     "output_type": "execute_result"
    },
    {
     "data": {
      "image/png": "[encoded data removed]",
      "text/plain": [
       "<Figure size 432x288 with 1 Axes>"
      ]
     },
     "metadata": {
      "needs_background": "light"
     },
     "output_type": "display_data"
    }
   ],
   "source": [
    "trucks1.hist(column='EngExhaustGasTemp', bins=50)"
   ]
  },
  {
   "cell_type": "code",
   "execution_count": 13,
   "metadata": {},
   "outputs": [
    {
     "data": {
      "text/plain": [
       "array([[<matplotlib.axes._subplots.AxesSubplot object at 0x0000000100AC9080>]],\n",
       "      dtype=object)"
      ]
     },
     "execution_count": 13,
     "metadata": {},
     "output_type": "execute_result"
    },
    {
     "data": {
      "image/png": "[encoded data removed]",
      "text/plain": [
       "<Figure size 432x288 with 1 Axes>"
      ]
     },
     "metadata": {
      "needs_background": "light"
     },
     "output_type": "display_data"
    }
   ],
   "source": [
    "trucks1.hist(column='EngIntakeManifold1Temp', bins=50)"
   ]
  },
  {
   "cell_type": "code",
   "execution_count": 14,
   "metadata": {},
   "outputs": [
    {
     "data": {
      "text/plain": [
       "array([[<matplotlib.axes._subplots.AxesSubplot object at 0x00000000FCBA4A20>]],\n",
       "      dtype=object)"
      ]
     },
     "execution_count": 14,
     "metadata": {},
     "output_type": "execute_result"
    },
    {
     "data": {
      "image/png": "[encoded data removed]",
      "text/plain": [
       "<Figure size 432x288 with 1 Axes>"
      ]
     },
     "metadata": {
      "needs_background": "light"
     },
     "output_type": "display_data"
    }
   ],
   "source": [
    "trucks1.hist(column='TransmissionOilTemp', bins=100)"
   ]
  },
  {
   "cell_type": "code",
   "execution_count": 15,
   "metadata": {},
   "outputs": [
    {
     "data": {
      "text/plain": [
       "array([[<matplotlib.axes._subplots.AxesSubplot object at 0x00000000FCBB1CC0>]],\n",
       "      dtype=object)"
      ]
     },
     "execution_count": 15,
     "metadata": {},
     "output_type": "execute_result"
    },
    {
     "data": {
      "image/png": "[encoded data removed]",
      "text/plain": [
       "<Figure size 432x288 with 1 Axes>"
      ]
     },
     "metadata": {
      "needs_background": "light"
     },
     "output_type": "display_data"
    }
   ],
   "source": [
    "trucks1.hist(column='asu_UreaTankTemp', bins=100)"
   ]
  },
  {
   "cell_type": "code",
   "execution_count": 16,
   "metadata": {},
   "outputs": [
    {
     "data": {
      "text/plain": [
       "array([[<matplotlib.axes._subplots.AxesSubplot object at 0x00000000FA4DDDD8>]],\n",
       "      dtype=object)"
      ]
     },
     "execution_count": 16,
     "metadata": {},
     "output_type": "execute_result"
    },
    {
     "data": {
      "image/png": "[encoded data removed]",
      "text/plain": [
       "<Figure size 432x288 with 1 Axes>"
      ]
     },
     "metadata": {
      "needs_background": "light"
     },
     "output_type": "display_data"
    }
   ],
   "source": [
    "trucks1.hist(column='tse_TurboSpeed', bins=500)"
   ]
  },
  {
   "cell_type": "code",
   "execution_count": 17,
   "metadata": {},
   "outputs": [
    {
     "data": {
      "text/plain": [
       "54876.66593589009"
      ]
     },
     "execution_count": 17,
     "metadata": {},
     "output_type": "execute_result"
    }
   ],
   "source": [
    "trucks1['tse_TurboSpeed'].mean()"
   ]
  },
  {
   "cell_type": "code",
   "execution_count": 175,
   "metadata": {},
   "outputs": [],
   "source": [
    "truck = trucks1['tse_TurboSpeed']"
   ]
  },
  {
   "cell_type": "code",
   "execution_count": 73,
   "metadata": {},
   "outputs": [],
   "source": [
    "airintake = trucks1['EngineAirIntakeTemp_BB1_X_E']"
   ]
  },
  {
   "cell_type": "code",
   "execution_count": 86,
   "metadata": {},
   "outputs": [],
   "source": [
    "oiltemp = trucks1['EngineOilTemperature']"
   ]
  },
  {
   "cell_type": "code",
   "execution_count": 95,
   "metadata": {},
   "outputs": [],
   "source": [
    "urea = trucks1['asu_UreaTankTemp']"
   ]
  },
  {
   "cell_type": "code",
   "execution_count": 102,
   "metadata": {},
   "outputs": [],
   "source": [
    "coolant = trucks1['EngineCoolantTemp_stat']"
   ]
  },
  {
   "cell_type": "code",
   "execution_count": 108,
   "metadata": {},
   "outputs": [],
   "source": [
    "exhaust = trucks1['EngExhaustGasTemp']"
   ]
  },
  {
   "cell_type": "code",
   "execution_count": 121,
   "metadata": {},
   "outputs": [],
   "source": [
    "manifold = trucks1['EngIntakeManifold1Temp']"
   ]
  },
  {
   "cell_type": "code",
   "execution_count": 128,
   "metadata": {},
   "outputs": [],
   "source": [
    "transmission = trucks1['TransmissionOilTemp']"
   ]
  },
  {
   "cell_type": "code",
   "execution_count": 208,
   "metadata": {},
   "outputs": [],
   "source": [
    "truck1 = trucks1[['AmbientAirTemperature_V']].ffill().bfill()"
   ]
  },
  {
   "cell_type": "code",
   "execution_count": 20,
   "metadata": {},
   "outputs": [],
   "source": [
    "truck3 = trucks1[['EngineAirIntakeTemp_BB1_X_E']].ffill().bfill()"
   ]
  },
  {
   "cell_type": "code",
   "execution_count": 209,
   "metadata": {},
   "outputs": [],
   "source": [
    "truck = trucks1[['tse_TurboSpeed']].ffill().bfill()"
   ]
  },
  {
   "cell_type": "code",
   "execution_count": 159,
   "metadata": {},
   "outputs": [
    {
     "data": {
      "text/plain": [
       "array([[<matplotlib.axes._subplots.AxesSubplot object at 0x00000000D9308B38>]],\n",
       "      dtype=object)"
      ]
     },
     "execution_count": 159,
     "metadata": {},
     "output_type": "execute_result"
    },
    {
     "data": {
      "image/png": "[encoded data removed]",
      "text/plain": [
       "<Figure size 432x288 with 1 Axes>"
      ]
     },
     "metadata": {
      "needs_background": "light"
     },
     "output_type": "display_data"
    }
   ],
   "source": [
    "truck.hist(column='tse_TurboSpeed', bins=100)"
   ]
  },
  {
   "cell_type": "code",
   "execution_count": 160,
   "metadata": {},
   "outputs": [
    {
     "data": {
      "text/plain": [
       "array([[<matplotlib.axes._subplots.AxesSubplot object at 0x00000000DBA5B9E8>]],\n",
       "      dtype=object)"
      ]
     },
     "execution_count": 160,
     "metadata": {},
     "output_type": "execute_result"
    },
    {
     "data": {
      "image/png": "[encoded data removed]",
      "text/plain": [
       "<Figure size 432x288 with 1 Axes>"
      ]
     },
     "metadata": {
      "needs_background": "light"
     },
     "output_type": "display_data"
    }
   ],
   "source": [
    "truck1.hist(column='AmbientAirTemperature_V', bins=100)"
   ]
  },
  {
   "cell_type": "code",
   "execution_count": 161,
   "metadata": {},
   "outputs": [
    {
     "data": {
      "text/plain": [
       "54301.48128194424"
      ]
     },
     "execution_count": 161,
     "metadata": {},
     "output_type": "execute_result"
    }
   ],
   "source": [
    "truck['tse_TurboSpeed'].mean()"
   ]
  },
  {
   "cell_type": "code",
   "execution_count": 25,
   "metadata": {},
   "outputs": [
    {
     "data": {
      "text/plain": [
       "28.080522496561002"
      ]
     },
     "execution_count": 25,
     "metadata": {},
     "output_type": "execute_result"
    }
   ],
   "source": [
    "truck1['AmbientAirTemperature_V'].mean()"
   ]
  },
  {
   "cell_type": "code",
   "execution_count": 27,
   "metadata": {},
   "outputs": [
    {
     "data": {
      "text/plain": [
       "<matplotlib.axes._subplots.AxesSubplot at 0xe744e630>"
      ]
     },
     "execution_count": 27,
     "metadata": {},
     "output_type": "execute_result"
    },
    {
     "data": {
      "image/png": "[encoded data removed]",
      "text/plain": [
       "<Figure size 1080x720 with 1 Axes>"
      ]
     },
     "metadata": {
      "needs_background": "light"
     },
     "output_type": "display_data"
    }
   ],
   "source": [
    "fig = plt.figure(figsize = (15,10))\n",
    "ax = fig.gca()\n",
    "truck.tse_TurboSpeed.hist(bins=500, ax=ax)"
   ]
  },
  {
   "cell_type": "code",
   "execution_count": 32,
   "metadata": {},
   "outputs": [
    {
     "data": {
      "text/plain": [
       "<matplotlib.axes._subplots.AxesSubplot at 0xdd069ba8>"
      ]
     },
     "execution_count": 32,
     "metadata": {},
     "output_type": "execute_result"
    },
    {
     "data": {
      "image/png": "[encoded data removed]",
      "text/plain": [
       "<Figure size 1080x720 with 1 Axes>"
      ]
     },
     "metadata": {
      "needs_background": "light"
     },
     "output_type": "display_data"
    }
   ],
   "source": [
    "fig = plt.figure(figsize = (15,10))\n",
    "ax = fig.gca()\n",
    "truck1.AmbientAirTemperature_V.hist(bins=500, ax=ax)"
   ]
  },
  {
   "cell_type": "code",
   "execution_count": 36,
   "metadata": {},
   "outputs": [
    {
     "data": {
      "text/html": [
       "<div>\n",
       "<style scoped>\n",
       "    .dataframe tbody tr th:only-of-type {\n",
       "        vertical-align: middle;\n",
       "    }\n",
       "\n",
       "    .dataframe tbody tr th {\n",
       "        vertical-align: top;\n",
       "    }\n",
       "\n",
       "    .dataframe thead th {\n",
       "        text-align: right;\n",
       "    }\n",
       "</style>\n",
       "<table border=\"1\" class=\"dataframe\">\n",
       "  <thead>\n",
       "    <tr style=\"text-align: right;\">\n",
       "      <th></th>\n",
       "      <th>tse_TurboSpeed</th>\n",
       "    </tr>\n",
       "  </thead>\n",
       "  <tbody>\n",
       "    <tr>\n",
       "      <th>tse_TurboSpeed</th>\n",
       "      <td>1.0</td>\n",
       "    </tr>\n",
       "  </tbody>\n",
       "</table>\n",
       "</div>"
      ],
      "text/plain": [
       "                tse_TurboSpeed\n",
       "tse_TurboSpeed             1.0"
      ]
     },
     "execution_count": 36,
     "metadata": {},
     "output_type": "execute_result"
    }
   ],
   "source": [
    "truck.corr()"
   ]
  },
  {
   "cell_type": "code",
   "execution_count": 48,
   "metadata": {},
   "outputs": [
    {
     "name": "stderr",
     "output_type": "stream",
     "text": [
      "C:\\ProgramData\\Anaconda3\\lib\\site-packages\\ipykernel_launcher.py:1: FutureWarning: Sorting because non-concatenation axis is not aligned. A future version\n",
      "of pandas will change to not sort by default.\n",
      "\n",
      "To accept the future behavior, pass 'sort=False'.\n",
      "\n",
      "To retain the current behavior and silence the warning, pass 'sort=True'.\n",
      "\n",
      "  \"\"\"Entry point for launching an IPython kernel.\n"
     ]
    }
   ],
   "source": [
    "df = pd.concat([truck, truck1], axis=0, join='outer',ignore_index=False, keys=None, levels=None)"
   ]
  },
  {
   "cell_type": "code",
   "execution_count": 206,
   "metadata": {},
   "outputs": [],
   "source": [
    "df = [truck, truck1]\n"
   ]
  },
  {
   "cell_type": "code",
   "execution_count": 215,
   "metadata": {},
   "outputs": [],
   "source": [
    "result = pd.concat([truck, truck1, airintake, oiltemp, coolant, exhaust, manifold, transmission], axis=1, sort=False)"
   ]
  },
  {
   "cell_type": "code",
   "execution_count": 216,
   "metadata": {},
   "outputs": [
    {
     "data": {
      "text/html": [
       "<div>\n",
       "<style scoped>\n",
       "    .dataframe tbody tr th:only-of-type {\n",
       "        vertical-align: middle;\n",
       "    }\n",
       "\n",
       "    .dataframe tbody tr th {\n",
       "        vertical-align: top;\n",
       "    }\n",
       "\n",
       "    .dataframe thead th {\n",
       "        text-align: right;\n",
       "    }\n",
       "</style>\n",
       "<table border=\"1\" class=\"dataframe\">\n",
       "  <thead>\n",
       "    <tr style=\"text-align: right;\">\n",
       "      <th></th>\n",
       "      <th>tse_TurboSpeed</th>\n",
       "      <th>AmbientAirTemperature_V</th>\n",
       "      <th>EngineAirIntakeTemp_BB1_X_E</th>\n",
       "      <th>EngineOilTemperature</th>\n",
       "      <th>EngineCoolantTemp_stat</th>\n",
       "      <th>EngExhaustGasTemp</th>\n",
       "      <th>EngIntakeManifold1Temp</th>\n",
       "      <th>TransmissionOilTemp</th>\n",
       "    </tr>\n",
       "  </thead>\n",
       "  <tbody>\n",
       "    <tr>\n",
       "      <th>16</th>\n",
       "      <td>25049.353516</td>\n",
       "      <td>21.34375</td>\n",
       "      <td>21.0</td>\n",
       "      <td>26.65625</td>\n",
       "      <td>31.0</td>\n",
       "      <td>70.62500</td>\n",
       "      <td>27.0</td>\n",
       "      <td>27.84375</td>\n",
       "    </tr>\n",
       "    <tr>\n",
       "      <th>17</th>\n",
       "      <td>25049.353516</td>\n",
       "      <td>21.34375</td>\n",
       "      <td>21.0</td>\n",
       "      <td>26.65625</td>\n",
       "      <td>31.0</td>\n",
       "      <td>71.84375</td>\n",
       "      <td>27.0</td>\n",
       "      <td>27.84375</td>\n",
       "    </tr>\n",
       "    <tr>\n",
       "      <th>18</th>\n",
       "      <td>25049.353516</td>\n",
       "      <td>21.34375</td>\n",
       "      <td>21.0</td>\n",
       "      <td>26.65625</td>\n",
       "      <td>31.0</td>\n",
       "      <td>71.84375</td>\n",
       "      <td>27.0</td>\n",
       "      <td>27.84375</td>\n",
       "    </tr>\n",
       "    <tr>\n",
       "      <th>19</th>\n",
       "      <td>25049.353516</td>\n",
       "      <td>21.34375</td>\n",
       "      <td>21.0</td>\n",
       "      <td>26.65625</td>\n",
       "      <td>31.0</td>\n",
       "      <td>71.84375</td>\n",
       "      <td>27.0</td>\n",
       "      <td>27.84375</td>\n",
       "    </tr>\n",
       "    <tr>\n",
       "      <th>20</th>\n",
       "      <td>25049.353516</td>\n",
       "      <td>21.34375</td>\n",
       "      <td>21.0</td>\n",
       "      <td>26.65625</td>\n",
       "      <td>31.0</td>\n",
       "      <td>71.84375</td>\n",
       "      <td>27.0</td>\n",
       "      <td>27.84375</td>\n",
       "    </tr>\n",
       "  </tbody>\n",
       "</table>\n",
       "</div>"
      ],
      "text/plain": [
       "    tse_TurboSpeed  AmbientAirTemperature_V  EngineAirIntakeTemp_BB1_X_E  \\\n",
       "16    25049.353516                 21.34375                         21.0   \n",
       "17    25049.353516                 21.34375                         21.0   \n",
       "18    25049.353516                 21.34375                         21.0   \n",
       "19    25049.353516                 21.34375                         21.0   \n",
       "20    25049.353516                 21.34375                         21.0   \n",
       "\n",
       "    EngineOilTemperature  EngineCoolantTemp_stat  EngExhaustGasTemp  \\\n",
       "16              26.65625                    31.0           70.62500   \n",
       "17              26.65625                    31.0           71.84375   \n",
       "18              26.65625                    31.0           71.84375   \n",
       "19              26.65625                    31.0           71.84375   \n",
       "20              26.65625                    31.0           71.84375   \n",
       "\n",
       "    EngIntakeManifold1Temp  TransmissionOilTemp  \n",
       "16                    27.0             27.84375  \n",
       "17                    27.0             27.84375  \n",
       "18                    27.0             27.84375  \n",
       "19                    27.0             27.84375  \n",
       "20                    27.0             27.84375  "
      ]
     },
     "execution_count": 216,
     "metadata": {},
     "output_type": "execute_result"
    }
   ],
   "source": [
    "result.head()"
   ]
  },
  {
   "cell_type": "code",
   "execution_count": 217,
   "metadata": {},
   "outputs": [],
   "source": [
    "correlations = result.corr()"
   ]
  },
  {
   "cell_type": "code",
   "execution_count": 218,
   "metadata": {},
   "outputs": [
    {
     "data": {
      "text/html": [
       "<div>\n",
       "<style scoped>\n",
       "    .dataframe tbody tr th:only-of-type {\n",
       "        vertical-align: middle;\n",
       "    }\n",
       "\n",
       "    .dataframe tbody tr th {\n",
       "        vertical-align: top;\n",
       "    }\n",
       "\n",
       "    .dataframe thead th {\n",
       "        text-align: right;\n",
       "    }\n",
       "</style>\n",
       "<table border=\"1\" class=\"dataframe\">\n",
       "  <thead>\n",
       "    <tr style=\"text-align: right;\">\n",
       "      <th></th>\n",
       "      <th>tse_TurboSpeed</th>\n",
       "      <th>AmbientAirTemperature_V</th>\n",
       "      <th>EngineAirIntakeTemp_BB1_X_E</th>\n",
       "      <th>EngineOilTemperature</th>\n",
       "      <th>EngineCoolantTemp_stat</th>\n",
       "      <th>EngExhaustGasTemp</th>\n",
       "      <th>EngIntakeManifold1Temp</th>\n",
       "      <th>TransmissionOilTemp</th>\n",
       "    </tr>\n",
       "  </thead>\n",
       "  <tbody>\n",
       "    <tr>\n",
       "      <th>tse_TurboSpeed</th>\n",
       "      <td>1.000000</td>\n",
       "      <td>0.051154</td>\n",
       "      <td>0.052106</td>\n",
       "      <td>0.273175</td>\n",
       "      <td>0.231088</td>\n",
       "      <td>0.653213</td>\n",
       "      <td>-0.270149</td>\n",
       "      <td>0.155856</td>\n",
       "    </tr>\n",
       "    <tr>\n",
       "      <th>AmbientAirTemperature_V</th>\n",
       "      <td>0.051154</td>\n",
       "      <td>1.000000</td>\n",
       "      <td>0.995044</td>\n",
       "      <td>0.334933</td>\n",
       "      <td>0.276370</td>\n",
       "      <td>0.182330</td>\n",
       "      <td>0.533735</td>\n",
       "      <td>0.356249</td>\n",
       "    </tr>\n",
       "    <tr>\n",
       "      <th>EngineAirIntakeTemp_BB1_X_E</th>\n",
       "      <td>0.052106</td>\n",
       "      <td>0.995044</td>\n",
       "      <td>1.000000</td>\n",
       "      <td>0.334156</td>\n",
       "      <td>0.275390</td>\n",
       "      <td>0.182946</td>\n",
       "      <td>0.529265</td>\n",
       "      <td>0.355307</td>\n",
       "    </tr>\n",
       "    <tr>\n",
       "      <th>EngineOilTemperature</th>\n",
       "      <td>0.273175</td>\n",
       "      <td>0.334933</td>\n",
       "      <td>0.334156</td>\n",
       "      <td>1.000000</td>\n",
       "      <td>0.869863</td>\n",
       "      <td>0.552278</td>\n",
       "      <td>0.476385</td>\n",
       "      <td>0.947928</td>\n",
       "    </tr>\n",
       "    <tr>\n",
       "      <th>EngineCoolantTemp_stat</th>\n",
       "      <td>0.231088</td>\n",
       "      <td>0.276370</td>\n",
       "      <td>0.275390</td>\n",
       "      <td>0.869863</td>\n",
       "      <td>1.000000</td>\n",
       "      <td>0.579996</td>\n",
       "      <td>0.575601</td>\n",
       "      <td>0.835591</td>\n",
       "    </tr>\n",
       "    <tr>\n",
       "      <th>EngExhaustGasTemp</th>\n",
       "      <td>0.653213</td>\n",
       "      <td>0.182330</td>\n",
       "      <td>0.182946</td>\n",
       "      <td>0.552278</td>\n",
       "      <td>0.579996</td>\n",
       "      <td>1.000000</td>\n",
       "      <td>-0.116094</td>\n",
       "      <td>0.392420</td>\n",
       "    </tr>\n",
       "    <tr>\n",
       "      <th>EngIntakeManifold1Temp</th>\n",
       "      <td>-0.270149</td>\n",
       "      <td>0.533735</td>\n",
       "      <td>0.529265</td>\n",
       "      <td>0.476385</td>\n",
       "      <td>0.575601</td>\n",
       "      <td>-0.116094</td>\n",
       "      <td>1.000000</td>\n",
       "      <td>0.618264</td>\n",
       "    </tr>\n",
       "    <tr>\n",
       "      <th>TransmissionOilTemp</th>\n",
       "      <td>0.155856</td>\n",
       "      <td>0.356249</td>\n",
       "      <td>0.355307</td>\n",
       "      <td>0.947928</td>\n",
       "      <td>0.835591</td>\n",
       "      <td>0.392420</td>\n",
       "      <td>0.618264</td>\n",
       "      <td>1.000000</td>\n",
       "    </tr>\n",
       "  </tbody>\n",
       "</table>\n",
       "</div>"
      ],
      "text/plain": [
       "                             tse_TurboSpeed  AmbientAirTemperature_V  \\\n",
       "tse_TurboSpeed                     1.000000                 0.051154   \n",
       "AmbientAirTemperature_V            0.051154                 1.000000   \n",
       "EngineAirIntakeTemp_BB1_X_E        0.052106                 0.995044   \n",
       "EngineOilTemperature               0.273175                 0.334933   \n",
       "EngineCoolantTemp_stat             0.231088                 0.276370   \n",
       "EngExhaustGasTemp                  0.653213                 0.182330   \n",
       "EngIntakeManifold1Temp            -0.270149                 0.533735   \n",
       "TransmissionOilTemp                0.155856                 0.356249   \n",
       "\n",
       "                             EngineAirIntakeTemp_BB1_X_E  \\\n",
       "tse_TurboSpeed                                  0.052106   \n",
       "AmbientAirTemperature_V                         0.995044   \n",
       "EngineAirIntakeTemp_BB1_X_E                     1.000000   \n",
       "EngineOilTemperature                            0.334156   \n",
       "EngineCoolantTemp_stat                          0.275390   \n",
       "EngExhaustGasTemp                               0.182946   \n",
       "EngIntakeManifold1Temp                          0.529265   \n",
       "TransmissionOilTemp                             0.355307   \n",
       "\n",
       "                             EngineOilTemperature  EngineCoolantTemp_stat  \\\n",
       "tse_TurboSpeed                           0.273175                0.231088   \n",
       "AmbientAirTemperature_V                  0.334933                0.276370   \n",
       "EngineAirIntakeTemp_BB1_X_E              0.334156                0.275390   \n",
       "EngineOilTemperature                     1.000000                0.869863   \n",
       "EngineCoolantTemp_stat                   0.869863                1.000000   \n",
       "EngExhaustGasTemp                        0.552278                0.579996   \n",
       "EngIntakeManifold1Temp                   0.476385                0.575601   \n",
       "TransmissionOilTemp                      0.947928                0.835591   \n",
       "\n",
       "                             EngExhaustGasTemp  EngIntakeManifold1Temp  \\\n",
       "tse_TurboSpeed                        0.653213               -0.270149   \n",
       "AmbientAirTemperature_V               0.182330                0.533735   \n",
       "EngineAirIntakeTemp_BB1_X_E           0.182946                0.529265   \n",
       "EngineOilTemperature                  0.552278                0.476385   \n",
       "EngineCoolantTemp_stat                0.579996                0.575601   \n",
       "EngExhaustGasTemp                     1.000000               -0.116094   \n",
       "EngIntakeManifold1Temp               -0.116094                1.000000   \n",
       "TransmissionOilTemp                   0.392420                0.618264   \n",
       "\n",
       "                             TransmissionOilTemp  \n",
       "tse_TurboSpeed                          0.155856  \n",
       "AmbientAirTemperature_V                 0.356249  \n",
       "EngineAirIntakeTemp_BB1_X_E             0.355307  \n",
       "EngineOilTemperature                    0.947928  \n",
       "EngineCoolantTemp_stat                  0.835591  \n",
       "EngExhaustGasTemp                       0.392420  \n",
       "EngIntakeManifold1Temp                  0.618264  \n",
       "TransmissionOilTemp                     1.000000  "
      ]
     },
     "execution_count": 218,
     "metadata": {},
     "output_type": "execute_result"
    }
   ],
   "source": [
    "correlations"
   ]
  },
  {
   "cell_type": "code",
   "execution_count": 219,
   "metadata": {},
   "outputs": [
    {
     "data": {
      "image/png": "[encoded data removed]",
      "text/plain": [
       "<Figure size 432x288 with 2 Axes>"
      ]
     },
     "metadata": {
      "needs_background": "light"
     },
     "output_type": "display_data"
    }
   ],
   "source": [
    "fig = plt.figure()\n",
    "ax = fig.add_subplot(111)\n",
    "names = ['Turbo', 'Air', 'Intake', 'Oil', 'Cool', 'Ex', 'Mani', 'Trans']\n",
    "cax = ax.matshow(correlations, vmin=-1, vmax=1)\n",
    "fig.colorbar(cax)\n",
    "ticks = np.arange(0,8,1)\n",
    "ax.set_xticks(ticks)\n",
    "ax.set_yticks(ticks)\n",
    "ax.set_xticklabels(names)\n",
    "ax.set_yticklabels(names)\n",
    "plt.show()"
   ]
  },
  {
   "cell_type": "code",
   "execution_count": 203,
   "metadata": {},
   "outputs": [],
   "source": [
    "point_estimates = []         # Make empty list to hold point estimates\n",
    "\n",
    "for x in range(0,1000):         # Generate 200 samples\n",
    "    \n",
    "    point_estimates.append(trucks1['tse_TurboSpeed'].sample(n=500).mean())\n"
   ]
  },
  {
   "cell_type": "code",
   "execution_count": 204,
   "metadata": {},
   "outputs": [
    {
     "data": {
      "text/plain": [
       "<matplotlib.axes._subplots.AxesSubplot at 0xdb9cacc0>"
      ]
     },
     "execution_count": 204,
     "metadata": {},
     "output_type": "execute_result"
    },
    {
     "data": {
      "image/png": "[encoded data removed]",
      "text/plain": [
       "<Figure size 432x288 with 1 Axes>"
      ]
     },
     "metadata": {
      "needs_background": "light"
     },
     "output_type": "display_data"
    }
   ],
   "source": [
    "pd.Series(point_estimates).hist(bins=100)"
   ]
  },
  {
   "cell_type": "code",
   "execution_count": 195,
   "metadata": {},
   "outputs": [
    {
     "data": {
      "text/plain": [
       "54876.66593589009"
      ]
     },
     "execution_count": 195,
     "metadata": {},
     "output_type": "execute_result"
    }
   ],
   "source": [
    "trucks1['tse_TurboSpeed'].mean()"
   ]
  },
  {
   "cell_type": "code",
   "execution_count": 182,
   "metadata": {},
   "outputs": [
    {
     "ename": "KeyError",
     "evalue": "'tse_TurboSpeed'",
     "output_type": "error",
     "traceback": [
      "\u001b[1;31m---------------------------------------------------------------------------\u001b[0m",
      "\u001b[1;31mKeyError\u001b[0m                                  Traceback (most recent call last)",
      "\u001b[1;32mC:\\ProgramData\\Anaconda3\\lib\\site-packages\\pandas\\core\\indexes\\base.py\u001b[0m in \u001b[0;36mget_loc\u001b[1;34m(self, key, method, tolerance)\u001b[0m\n\u001b[0;32m   2656\u001b[0m             \u001b[1;32mtry\u001b[0m\u001b[1;33m:\u001b[0m\u001b[1;33m\u001b[0m\u001b[1;33m\u001b[0m\u001b[0m\n\u001b[1;32m-> 2657\u001b[1;33m                 \u001b[1;32mreturn\u001b[0m \u001b[0mself\u001b[0m\u001b[1;33m.\u001b[0m\u001b[0m_engine\u001b[0m\u001b[1;33m.\u001b[0m\u001b[0mget_loc\u001b[0m\u001b[1;33m(\u001b[0m\u001b[0mkey\u001b[0m\u001b[1;33m)\u001b[0m\u001b[1;33m\u001b[0m\u001b[1;33m\u001b[0m\u001b[0m\n\u001b[0m\u001b[0;32m   2658\u001b[0m             \u001b[1;32mexcept\u001b[0m \u001b[0mKeyError\u001b[0m\u001b[1;33m:\u001b[0m\u001b[1;33m\u001b[0m\u001b[1;33m\u001b[0m\u001b[0m\n",
      "\u001b[1;32mpandas/_libs/index.pyx\u001b[0m in \u001b[0;36mpandas._libs.index.IndexEngine.get_loc\u001b[1;34m()\u001b[0m\n",
      "\u001b[1;32mpandas/_libs/index.pyx\u001b[0m in \u001b[0;36mpandas._libs.index.IndexEngine.get_loc\u001b[1;34m()\u001b[0m\n",
      "\u001b[1;32mpandas/_libs/hashtable_class_helper.pxi\u001b[0m in \u001b[0;36mpandas._libs.hashtable.PyObjectHashTable.get_item\u001b[1;34m()\u001b[0m\n",
      "\u001b[1;32mpandas/_libs/hashtable_class_helper.pxi\u001b[0m in \u001b[0;36mpandas._libs.hashtable.PyObjectHashTable.get_item\u001b[1;34m()\u001b[0m\n",
      "\u001b[1;31mKeyError\u001b[0m: 'tse_TurboSpeed'",
      "\nDuring handling of the above exception, another exception occurred:\n",
      "\u001b[1;31mKeyError\u001b[0m                                  Traceback (most recent call last)",
      "\u001b[1;32m<ipython-input-182-a76497d4c03a>\u001b[0m in \u001b[0;36m<module>\u001b[1;34m\u001b[0m\n\u001b[1;32m----> 1\u001b[1;33m \u001b[0mtruckturbo\u001b[0m \u001b[1;33m=\u001b[0m \u001b[0mtruck\u001b[0m\u001b[1;33m.\u001b[0m\u001b[0mset_index\u001b[0m\u001b[1;33m(\u001b[0m\u001b[1;34m'tse_TurboSpeed'\u001b[0m\u001b[1;33m,\u001b[0m \u001b[0minplace\u001b[0m\u001b[1;33m=\u001b[0m\u001b[1;32mTrue\u001b[0m\u001b[1;33m)\u001b[0m\u001b[1;33m\u001b[0m\u001b[1;33m\u001b[0m\u001b[0m\n\u001b[0m",
      "\u001b[1;32mC:\\ProgramData\\Anaconda3\\lib\\site-packages\\pandas\\core\\frame.py\u001b[0m in \u001b[0;36mset_index\u001b[1;34m(self, keys, drop, append, inplace, verify_integrity)\u001b[0m\n\u001b[0;32m   4176\u001b[0m                 \u001b[0mnames\u001b[0m\u001b[1;33m.\u001b[0m\u001b[0mappend\u001b[0m\u001b[1;33m(\u001b[0m\u001b[1;32mNone\u001b[0m\u001b[1;33m)\u001b[0m\u001b[1;33m\u001b[0m\u001b[1;33m\u001b[0m\u001b[0m\n\u001b[0;32m   4177\u001b[0m             \u001b[1;32melse\u001b[0m\u001b[1;33m:\u001b[0m\u001b[1;33m\u001b[0m\u001b[1;33m\u001b[0m\u001b[0m\n\u001b[1;32m-> 4178\u001b[1;33m                 \u001b[0mlevel\u001b[0m \u001b[1;33m=\u001b[0m \u001b[0mframe\u001b[0m\u001b[1;33m[\u001b[0m\u001b[0mcol\u001b[0m\u001b[1;33m]\u001b[0m\u001b[1;33m.\u001b[0m\u001b[0m_values\u001b[0m\u001b[1;33m\u001b[0m\u001b[1;33m\u001b[0m\u001b[0m\n\u001b[0m\u001b[0;32m   4179\u001b[0m                 \u001b[0mnames\u001b[0m\u001b[1;33m.\u001b[0m\u001b[0mappend\u001b[0m\u001b[1;33m(\u001b[0m\u001b[0mcol\u001b[0m\u001b[1;33m)\u001b[0m\u001b[1;33m\u001b[0m\u001b[1;33m\u001b[0m\u001b[0m\n\u001b[0;32m   4180\u001b[0m                 \u001b[1;32mif\u001b[0m \u001b[0mdrop\u001b[0m\u001b[1;33m:\u001b[0m\u001b[1;33m\u001b[0m\u001b[1;33m\u001b[0m\u001b[0m\n",
      "\u001b[1;32mC:\\ProgramData\\Anaconda3\\lib\\site-packages\\pandas\\core\\frame.py\u001b[0m in \u001b[0;36m__getitem__\u001b[1;34m(self, key)\u001b[0m\n\u001b[0;32m   2925\u001b[0m             \u001b[1;32mif\u001b[0m \u001b[0mself\u001b[0m\u001b[1;33m.\u001b[0m\u001b[0mcolumns\u001b[0m\u001b[1;33m.\u001b[0m\u001b[0mnlevels\u001b[0m \u001b[1;33m>\u001b[0m \u001b[1;36m1\u001b[0m\u001b[1;33m:\u001b[0m\u001b[1;33m\u001b[0m\u001b[1;33m\u001b[0m\u001b[0m\n\u001b[0;32m   2926\u001b[0m                 \u001b[1;32mreturn\u001b[0m \u001b[0mself\u001b[0m\u001b[1;33m.\u001b[0m\u001b[0m_getitem_multilevel\u001b[0m\u001b[1;33m(\u001b[0m\u001b[0mkey\u001b[0m\u001b[1;33m)\u001b[0m\u001b[1;33m\u001b[0m\u001b[1;33m\u001b[0m\u001b[0m\n\u001b[1;32m-> 2927\u001b[1;33m             \u001b[0mindexer\u001b[0m \u001b[1;33m=\u001b[0m \u001b[0mself\u001b[0m\u001b[1;33m.\u001b[0m\u001b[0mcolumns\u001b[0m\u001b[1;33m.\u001b[0m\u001b[0mget_loc\u001b[0m\u001b[1;33m(\u001b[0m\u001b[0mkey\u001b[0m\u001b[1;33m)\u001b[0m\u001b[1;33m\u001b[0m\u001b[1;33m\u001b[0m\u001b[0m\n\u001b[0m\u001b[0;32m   2928\u001b[0m             \u001b[1;32mif\u001b[0m \u001b[0mis_integer\u001b[0m\u001b[1;33m(\u001b[0m\u001b[0mindexer\u001b[0m\u001b[1;33m)\u001b[0m\u001b[1;33m:\u001b[0m\u001b[1;33m\u001b[0m\u001b[1;33m\u001b[0m\u001b[0m\n\u001b[0;32m   2929\u001b[0m                 \u001b[0mindexer\u001b[0m \u001b[1;33m=\u001b[0m \u001b[1;33m[\u001b[0m\u001b[0mindexer\u001b[0m\u001b[1;33m]\u001b[0m\u001b[1;33m\u001b[0m\u001b[1;33m\u001b[0m\u001b[0m\n",
      "\u001b[1;32mC:\\ProgramData\\Anaconda3\\lib\\site-packages\\pandas\\core\\indexes\\base.py\u001b[0m in \u001b[0;36mget_loc\u001b[1;34m(self, key, method, tolerance)\u001b[0m\n\u001b[0;32m   2657\u001b[0m                 \u001b[1;32mreturn\u001b[0m \u001b[0mself\u001b[0m\u001b[1;33m.\u001b[0m\u001b[0m_engine\u001b[0m\u001b[1;33m.\u001b[0m\u001b[0mget_loc\u001b[0m\u001b[1;33m(\u001b[0m\u001b[0mkey\u001b[0m\u001b[1;33m)\u001b[0m\u001b[1;33m\u001b[0m\u001b[1;33m\u001b[0m\u001b[0m\n\u001b[0;32m   2658\u001b[0m             \u001b[1;32mexcept\u001b[0m \u001b[0mKeyError\u001b[0m\u001b[1;33m:\u001b[0m\u001b[1;33m\u001b[0m\u001b[1;33m\u001b[0m\u001b[0m\n\u001b[1;32m-> 2659\u001b[1;33m                 \u001b[1;32mreturn\u001b[0m \u001b[0mself\u001b[0m\u001b[1;33m.\u001b[0m\u001b[0m_engine\u001b[0m\u001b[1;33m.\u001b[0m\u001b[0mget_loc\u001b[0m\u001b[1;33m(\u001b[0m\u001b[0mself\u001b[0m\u001b[1;33m.\u001b[0m\u001b[0m_maybe_cast_indexer\u001b[0m\u001b[1;33m(\u001b[0m\u001b[0mkey\u001b[0m\u001b[1;33m)\u001b[0m\u001b[1;33m)\u001b[0m\u001b[1;33m\u001b[0m\u001b[1;33m\u001b[0m\u001b[0m\n\u001b[0m\u001b[0;32m   2660\u001b[0m         \u001b[0mindexer\u001b[0m \u001b[1;33m=\u001b[0m \u001b[0mself\u001b[0m\u001b[1;33m.\u001b[0m\u001b[0mget_indexer\u001b[0m\u001b[1;33m(\u001b[0m\u001b[1;33m[\u001b[0m\u001b[0mkey\u001b[0m\u001b[1;33m]\u001b[0m\u001b[1;33m,\u001b[0m \u001b[0mmethod\u001b[0m\u001b[1;33m=\u001b[0m\u001b[0mmethod\u001b[0m\u001b[1;33m,\u001b[0m \u001b[0mtolerance\u001b[0m\u001b[1;33m=\u001b[0m\u001b[0mtolerance\u001b[0m\u001b[1;33m)\u001b[0m\u001b[1;33m\u001b[0m\u001b[1;33m\u001b[0m\u001b[0m\n\u001b[0;32m   2661\u001b[0m         \u001b[1;32mif\u001b[0m \u001b[0mindexer\u001b[0m\u001b[1;33m.\u001b[0m\u001b[0mndim\u001b[0m \u001b[1;33m>\u001b[0m \u001b[1;36m1\u001b[0m \u001b[1;32mor\u001b[0m \u001b[0mindexer\u001b[0m\u001b[1;33m.\u001b[0m\u001b[0msize\u001b[0m \u001b[1;33m>\u001b[0m \u001b[1;36m1\u001b[0m\u001b[1;33m:\u001b[0m\u001b[1;33m\u001b[0m\u001b[1;33m\u001b[0m\u001b[0m\n",
      "\u001b[1;32mpandas/_libs/index.pyx\u001b[0m in \u001b[0;36mpandas._libs.index.IndexEngine.get_loc\u001b[1;34m()\u001b[0m\n",
      "\u001b[1;32mpandas/_libs/index.pyx\u001b[0m in \u001b[0;36mpandas._libs.index.IndexEngine.get_loc\u001b[1;34m()\u001b[0m\n",
      "\u001b[1;32mpandas/_libs/hashtable_class_helper.pxi\u001b[0m in \u001b[0;36mpandas._libs.hashtable.PyObjectHashTable.get_item\u001b[1;34m()\u001b[0m\n",
      "\u001b[1;32mpandas/_libs/hashtable_class_helper.pxi\u001b[0m in \u001b[0;36mpandas._libs.hashtable.PyObjectHashTable.get_item\u001b[1;34m()\u001b[0m\n",
      "\u001b[1;31mKeyError\u001b[0m: 'tse_TurboSpeed'"
     ]
    }
   ],
   "source": [
    "truckturbo = truck.set_index('tse_TurboSpeed', inplace=True)"
   ]
  },
  {
   "cell_type": "code",
   "execution_count": 184,
   "metadata": {},
   "outputs": [],
   "source": [
    "truckturbo"
   ]
  },
  {
   "cell_type": "code",
   "execution_count": 194,
   "metadata": {},
   "outputs": [
    {
     "data": {
      "text/html": [
       "<div>\n",
       "<style scoped>\n",
       "    .dataframe tbody tr th:only-of-type {\n",
       "        vertical-align: middle;\n",
       "    }\n",
       "\n",
       "    .dataframe tbody tr th {\n",
       "        vertical-align: top;\n",
       "    }\n",
       "\n",
       "    .dataframe thead th {\n",
       "        text-align: right;\n",
       "    }\n",
       "</style>\n",
       "<table border=\"1\" class=\"dataframe\">\n",
       "  <thead>\n",
       "    <tr style=\"text-align: right;\">\n",
       "      <th></th>\n",
       "    </tr>\n",
       "    <tr>\n",
       "      <th>tse_TurboSpeed</th>\n",
       "    </tr>\n",
       "  </thead>\n",
       "  <tbody>\n",
       "    <tr>\n",
       "      <th>25049.353516</th>\n",
       "    </tr>\n",
       "    <tr>\n",
       "      <th>25049.353516</th>\n",
       "    </tr>\n",
       "    <tr>\n",
       "      <th>25049.353516</th>\n",
       "    </tr>\n",
       "    <tr>\n",
       "      <th>25049.353516</th>\n",
       "    </tr>\n",
       "    <tr>\n",
       "      <th>25049.353516</th>\n",
       "    </tr>\n",
       "    <tr>\n",
       "      <th>25049.353516</th>\n",
       "    </tr>\n",
       "    <tr>\n",
       "      <th>25049.353516</th>\n",
       "    </tr>\n",
       "    <tr>\n",
       "      <th>25049.353516</th>\n",
       "    </tr>\n",
       "    <tr>\n",
       "      <th>25049.353516</th>\n",
       "    </tr>\n",
       "    <tr>\n",
       "      <th>25049.353516</th>\n",
       "    </tr>\n",
       "    <tr>\n",
       "      <th>25049.353516</th>\n",
       "    </tr>\n",
       "    <tr>\n",
       "      <th>25049.353516</th>\n",
       "    </tr>\n",
       "    <tr>\n",
       "      <th>25049.353516</th>\n",
       "    </tr>\n",
       "    <tr>\n",
       "      <th>25049.353516</th>\n",
       "    </tr>\n",
       "    <tr>\n",
       "      <th>25049.353516</th>\n",
       "    </tr>\n",
       "    <tr>\n",
       "      <th>25049.353516</th>\n",
       "    </tr>\n",
       "    <tr>\n",
       "      <th>25049.353516</th>\n",
       "    </tr>\n",
       "    <tr>\n",
       "      <th>25049.353516</th>\n",
       "    </tr>\n",
       "    <tr>\n",
       "      <th>25049.353516</th>\n",
       "    </tr>\n",
       "    <tr>\n",
       "      <th>25049.353516</th>\n",
       "    </tr>\n",
       "    <tr>\n",
       "      <th>25049.353516</th>\n",
       "    </tr>\n",
       "    <tr>\n",
       "      <th>25049.353516</th>\n",
       "    </tr>\n",
       "    <tr>\n",
       "      <th>25049.353516</th>\n",
       "    </tr>\n",
       "    <tr>\n",
       "      <th>25049.353516</th>\n",
       "    </tr>\n",
       "    <tr>\n",
       "      <th>25049.353516</th>\n",
       "    </tr>\n",
       "    <tr>\n",
       "      <th>25049.353516</th>\n",
       "    </tr>\n",
       "    <tr>\n",
       "      <th>25049.353516</th>\n",
       "    </tr>\n",
       "    <tr>\n",
       "      <th>25049.353516</th>\n",
       "    </tr>\n",
       "    <tr>\n",
       "      <th>25049.353516</th>\n",
       "    </tr>\n",
       "    <tr>\n",
       "      <th>25049.353516</th>\n",
       "    </tr>\n",
       "    <tr>\n",
       "      <th>...</th>\n",
       "    </tr>\n",
       "    <tr>\n",
       "      <th>68260.437500</th>\n",
       "    </tr>\n",
       "    <tr>\n",
       "      <th>68260.437500</th>\n",
       "    </tr>\n",
       "    <tr>\n",
       "      <th>68260.437500</th>\n",
       "    </tr>\n",
       "    <tr>\n",
       "      <th>68260.437500</th>\n",
       "    </tr>\n",
       "    <tr>\n",
       "      <th>68260.437500</th>\n",
       "    </tr>\n",
       "    <tr>\n",
       "      <th>68260.437500</th>\n",
       "    </tr>\n",
       "    <tr>\n",
       "      <th>68260.437500</th>\n",
       "    </tr>\n",
       "    <tr>\n",
       "      <th>68260.437500</th>\n",
       "    </tr>\n",
       "    <tr>\n",
       "      <th>68260.437500</th>\n",
       "    </tr>\n",
       "    <tr>\n",
       "      <th>68260.437500</th>\n",
       "    </tr>\n",
       "    <tr>\n",
       "      <th>68260.437500</th>\n",
       "    </tr>\n",
       "    <tr>\n",
       "      <th>68260.437500</th>\n",
       "    </tr>\n",
       "    <tr>\n",
       "      <th>68260.437500</th>\n",
       "    </tr>\n",
       "    <tr>\n",
       "      <th>68260.437500</th>\n",
       "    </tr>\n",
       "    <tr>\n",
       "      <th>68260.437500</th>\n",
       "    </tr>\n",
       "    <tr>\n",
       "      <th>68260.437500</th>\n",
       "    </tr>\n",
       "    <tr>\n",
       "      <th>68260.437500</th>\n",
       "    </tr>\n",
       "    <tr>\n",
       "      <th>68260.437500</th>\n",
       "    </tr>\n",
       "    <tr>\n",
       "      <th>68260.437500</th>\n",
       "    </tr>\n",
       "    <tr>\n",
       "      <th>68260.437500</th>\n",
       "    </tr>\n",
       "    <tr>\n",
       "      <th>68260.437500</th>\n",
       "    </tr>\n",
       "    <tr>\n",
       "      <th>68260.437500</th>\n",
       "    </tr>\n",
       "    <tr>\n",
       "      <th>68260.437500</th>\n",
       "    </tr>\n",
       "    <tr>\n",
       "      <th>68260.437500</th>\n",
       "    </tr>\n",
       "    <tr>\n",
       "      <th>68260.437500</th>\n",
       "    </tr>\n",
       "    <tr>\n",
       "      <th>68260.437500</th>\n",
       "    </tr>\n",
       "    <tr>\n",
       "      <th>68260.437500</th>\n",
       "    </tr>\n",
       "    <tr>\n",
       "      <th>68260.437500</th>\n",
       "    </tr>\n",
       "    <tr>\n",
       "      <th>68260.437500</th>\n",
       "    </tr>\n",
       "    <tr>\n",
       "      <th>68260.437500</th>\n",
       "    </tr>\n",
       "  </tbody>\n",
       "</table>\n",
       "<p>1216197 rows × 0 columns</p>\n",
       "</div>"
      ],
      "text/plain": [
       "Empty DataFrame\n",
       "Columns: []\n",
       "Index: [25049.353515625, 25049.353515625, 25049.353515625, 25049.353515625, 25049.353515625, 25049.353515625, 25049.353515625, 25049.353515625, 25049.353515625, 25049.353515625, 25049.353515625, 25049.353515625, 25049.353515625, 25049.353515625, 25049.353515625, 25049.353515625, 25049.353515625, 25049.353515625, 25049.353515625, 25049.353515625, 25049.353515625, 25049.353515625, 25049.353515625, 25049.353515625, 25049.353515625, 25049.353515625, 25049.353515625, 25049.353515625, 25049.353515625, 25049.353515625, 25049.353515625, 25049.353515625, 25049.353515625, 25049.353515625, 25049.353515625, 25049.353515625, 25049.353515625, 25049.353515625, 25049.353515625, 25049.353515625, 25049.353515625, 25049.353515625, 25049.353515625, 25049.353515625, 25049.353515625, 25049.353515625, 25049.353515625, 25049.353515625, 25049.353515625, 25049.353515625, 25049.353515625, 25049.353515625, 25049.353515625, 25049.353515625, 25049.353515625, 25049.353515625, 25049.353515625, 25049.353515625, 25049.353515625, 25049.353515625, 25049.353515625, 25049.353515625, 25049.353515625, 25049.353515625, 25049.353515625, 25049.353515625, 25049.353515625, 25049.353515625, 25049.353515625, 25049.353515625, 25049.353515625, 25049.353515625, 25049.353515625, 25049.353515625, 25049.353515625, 25049.353515625, 25049.353515625, 25049.353515625, 25049.353515625, 25049.353515625, 25049.353515625, 25049.353515625, 25049.353515625, 25049.353515625, 25049.353515625, 25090.908203125, 25249.13671875, 25410.568359375, 25560.2265625, 25688.5703125, 25745.048828125, 25781.279296875, 25767.29296875, 25765.22265625, 25788.9453125, 25835.1015625, 25869.34765625, 25927.34765625, 26003.171875, 26064.548828125, ...]\n",
       "\n",
       "[1216197 rows x 0 columns]"
      ]
     },
     "execution_count": 194,
     "metadata": {},
     "output_type": "execute_result"
    }
   ],
   "source": [
    "truck"
   ]
  },
  {
   "cell_type": "code",
   "execution_count": null,
   "metadata": {},
   "outputs": [],
   "source": []
  },
  {
   "cell_type": "code",
   "execution_count": null,
   "metadata": {},
   "outputs": [],
   "source": []
  }
 ],
 "metadata": {
  "kernelspec": {
   "display_name": "Python 3",
   "language": "python",
   "name": "python3"
  },
  "language_info": {
   "codemirror_mode": {
    "name": "ipython",
    "version": 3
   },
   "file_extension": ".py",
   "mimetype": "text/x-python",
   "name": "python",
   "nbconvert_exporter": "python",
   "pygments_lexer": "ipython3",
   "version": "3.7.3"
  }
 },
 "nbformat": 4,
 "nbformat_minor": 2
}
