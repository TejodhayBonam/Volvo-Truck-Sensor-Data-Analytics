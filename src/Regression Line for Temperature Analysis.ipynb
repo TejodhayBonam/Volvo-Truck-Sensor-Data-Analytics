{
 "cells": [
  {
   "cell_type": "code",
   "execution_count": 1,
   "metadata": {},
   "outputs": [],
   "source": [
    "import os\n",
    "import numpy as np\n",
    "import pandas as pd\n",
    "import matplotlib.pyplot as plt\n",
    "import csv\n",
    "from scipy.stats import kde\n",
    "import seaborn as sns\n",
    "import scipy.stats as stats\n",
    "from IPython.display import HTML, display\n",
    "from datetime import datetime\n",
    "import statsmodels.formula.api as smf\n",
    "from sklearn import datasets, linear_model\n",
    "from sklearn.model_selection import train_test_split\n",
    "from sklearn.linear_model import LinearRegression\n",
    "import statsmodels.api as sm\n",
    "\n",
    "\n",
    "\n",
    "truckTwoPath = \"../data/trucks/truck2.csv\"\n",
    "truckOnePath = \"../data/trucks/truck1.csv\"\n",
    "\n",
    "truckTwoDictPath = \"../data/dictionary/truck2_data_dictionary.csv\"\n",
    "truckOneDictPath = \"../data/dictionary/truck1_data_dictionary.csv\""
   ]
  },
  {
   "cell_type": "code",
   "execution_count": 2,
   "metadata": {},
   "outputs": [],
   "source": [
    "def get_truck_data():\n",
    "    trucks2 = pd.read_csv(os.path.join('../data/trucks/truck2.csv'),\n",
    "               sep=',',engine='python')\n",
    "    \n",
    "    return trucks2\n",
    "\n",
    "def get_truck1_data():\n",
    "    trucks1 = pd.read_csv(os.path.join('../data/trucks/truck1.csv'),sep=',',engine='python')\n",
    "    \n",
    "    return trucks1"
   ]
  },
  {
   "cell_type": "code",
   "execution_count": 3,
   "metadata": {},
   "outputs": [],
   "source": [
    "trucks2 = get_truck_data()"
   ]
  },
  {
   "cell_type": "code",
   "execution_count": 4,
   "metadata": {},
   "outputs": [],
   "source": [
    "trucks1 = get_truck1_data()"
   ]
  },
  {
   "cell_type": "code",
   "execution_count": 5,
   "metadata": {},
   "outputs": [],
   "source": [
    "def readCsv(truck):\n",
    "    return pd.read_csv(truck, header = [0])\n",
    "    \n",
    "def cullUtcCols(truckData):\n",
    "    noUTC = truckData.drop([\"UTC hour\", \"UTC minute\", \"UTC second\", \"UTC month\", \"UTC day\", \"UTC year\"], axis = 1)\n",
    "    return noUTC\n",
    "\n",
    "\"\"\"Takes a DataFrame and a conversion dictionary as parameters;\n",
    "    uses the dictionary to rename all matching columns then returns the changed DataFrame.\"\"\"\n",
    "def renameColumns(dataFrame, dictionary):\n",
    "    return dataFrame.rename(columns = dictionary)\n",
    "\n",
    "\"\"\"Finds threshold of Non-NA type using percentage and deletes rows.\"\"\"\n",
    "\n",
    "#If the number of values that are NOT Na type pass this percentage, the row will be deleted\n",
    "rowNaNThresholdPercent = 75\n",
    "def removeUnnecessaryRows(dataFrame):\n",
    "    length = len(dataFrame.columns)\n",
    "    TValue = (rowNaNThresholdPercent / 100) * length\n",
    "    print(\"Threshold value: \" + str(int(TValue)))\n",
    "    return dataFrame.dropna(thresh = int(TValue))\n",
    "\n",
    "\"\"\"Finds columns with all Na types and deletes them.\"\"\"\n",
    "def removeUnnecessaryColumns(dataFrame):\n",
    "    return dataFrame.dropna(axis=1, how='all')\n",
    "\n",
    "# NOTE: The following function is unused in this notebook, but it can be used to convert CSV files into\n",
    "# conversion dictionaries i.e. creating the column rename dictionaries, which was manually done in the\n",
    "# previous block manually.\n",
    "\n",
    "\"\"\"Creates a Python dictionary from a pre-defined CSV dictionary.\n",
    "This will only look at the first two columns of the given CSV file.\"\"\"\n",
    "def createPythonDictionary(dictionaryCSV):\n",
    "    # Initialize the resulting dictionary.\n",
    "    dictResult = {}\n",
    "    \n",
    "    # Opens the passed in CSV which defines the rename dictionary and iterates through it to store each value into a Python dictionary.\n",
    "    with open(dictionaryCSV, 'r') as f:\n",
    "        for row in csv.reader(f):\n",
    "            dictResult.update({row[0]:row[1]})\n",
    "    return dictResult\n",
    "\n"
   ]
  },
  {
   "cell_type": "code",
   "execution_count": 6,
   "metadata": {},
   "outputs": [],
   "source": [
    "##### Remove columns we're not interested in\n",
    "truck2_temp_only = trucks2.drop(['Time', 'C_1115_1_Alternator_250A', 'C_1115_2_BattOut_100A', 'C_1115_3_Fridge_20A' ,'EngineAirIntakeTemp_BB1_X_E', 'C_1115_4_Trailer_50A', 'C_1115_5_Inventer_100A','asu_UreaTankTemp', 'EngExhaustGasTemp','tse_TurboSpeed', 'TotalVehicleDistanceHighRes', 'EngineSpeed', 'WheelBasedVehicleSpeed', 'EngineKeyPosition', 'SteeringWheelAngle1', 'BarometricPressure_BB1_X_E', 'CPU load', 'UTC hour', 'UTC minute', 'UTC second', 'UTC month', 'UTC day', 'UTC year', 'GPS altitude', 'GPS speed', 'BoostPressure', 'VehicleSpeed', 'CruiseCtrlSetSpeed','VehicleWeightVP15', 'RoadInclinationVP15', 'TransOilPress', 'TransOilLevel', 'ActualEnginePercentTorque', 'ActualEnginePercentTorqueHiRes', 'DrvrDemandEngPercentTorque', 'EngDemandPercentTorque', 'EnginePercentLoadAtCurrentSpd', 'EngineOilLevel', 'EngineOilPressure', 'EngDslPrtclateFilterIntakePress', 'EngIntakeManifold1Press'], axis=1)\n"
   ]
  },
  {
   "cell_type": "code",
   "execution_count": 7,
   "metadata": {},
   "outputs": [
    {
     "data": {
      "text/html": [
       "<div>\n",
       "<style scoped>\n",
       "    .dataframe tbody tr th:only-of-type {\n",
       "        vertical-align: middle;\n",
       "    }\n",
       "\n",
       "    .dataframe tbody tr th {\n",
       "        vertical-align: top;\n",
       "    }\n",
       "\n",
       "    .dataframe thead th {\n",
       "        text-align: right;\n",
       "    }\n",
       "</style>\n",
       "<table border=\"1\" class=\"dataframe\">\n",
       "  <thead>\n",
       "    <tr style=\"text-align: right;\">\n",
       "      <th></th>\n",
       "      <th>Time</th>\n",
       "      <th>1730_CH9_ AutomaticStartStop</th>\n",
       "      <th>1730_CH10_Truck_Batteries</th>\n",
       "      <th>4649_Ch1_Alternator_250A</th>\n",
       "      <th>4649_Ch2_BattOut_100A</th>\n",
       "      <th>4649_Ch3_Trailer_50A</th>\n",
       "      <th>4649_Ch4_Inverter_100A</th>\n",
       "      <th>4649_Ch5_Fridge_50A</th>\n",
       "      <th>4649_Ch6_200A_APU_BatteryBank</th>\n",
       "      <th>4649_Ch7_200A_BatterySeparator</th>\n",
       "      <th>...</th>\n",
       "      <th>WheelBasedVehicleSpeed</th>\n",
       "      <th>CPU load</th>\n",
       "      <th>UTC hour</th>\n",
       "      <th>UTC minute</th>\n",
       "      <th>UTC second</th>\n",
       "      <th>UTC month</th>\n",
       "      <th>UTC day</th>\n",
       "      <th>UTC year</th>\n",
       "      <th>GPS altitude</th>\n",
       "      <th>GPS speed</th>\n",
       "    </tr>\n",
       "  </thead>\n",
       "  <tbody>\n",
       "    <tr>\n",
       "      <th>0</th>\n",
       "      <td>08/07/2019 07:54:02.959</td>\n",
       "      <td>NaN</td>\n",
       "      <td>NaN</td>\n",
       "      <td>NaN</td>\n",
       "      <td>NaN</td>\n",
       "      <td>NaN</td>\n",
       "      <td>NaN</td>\n",
       "      <td>NaN</td>\n",
       "      <td>NaN</td>\n",
       "      <td>NaN</td>\n",
       "      <td>...</td>\n",
       "      <td>7.968750</td>\n",
       "      <td>40.0</td>\n",
       "      <td>11.0</td>\n",
       "      <td>54.0</td>\n",
       "      <td>3.0</td>\n",
       "      <td>8.0</td>\n",
       "      <td>7.0</td>\n",
       "      <td>19.0</td>\n",
       "      <td>0.0</td>\n",
       "      <td>NaN</td>\n",
       "    </tr>\n",
       "    <tr>\n",
       "      <th>1</th>\n",
       "      <td>08/07/2019 07:54:03.059</td>\n",
       "      <td>NaN</td>\n",
       "      <td>NaN</td>\n",
       "      <td>NaN</td>\n",
       "      <td>NaN</td>\n",
       "      <td>NaN</td>\n",
       "      <td>NaN</td>\n",
       "      <td>NaN</td>\n",
       "      <td>NaN</td>\n",
       "      <td>NaN</td>\n",
       "      <td>...</td>\n",
       "      <td>8.042969</td>\n",
       "      <td>40.0</td>\n",
       "      <td>11.0</td>\n",
       "      <td>54.0</td>\n",
       "      <td>3.0</td>\n",
       "      <td>8.0</td>\n",
       "      <td>7.0</td>\n",
       "      <td>19.0</td>\n",
       "      <td>0.0</td>\n",
       "      <td>NaN</td>\n",
       "    </tr>\n",
       "    <tr>\n",
       "      <th>2</th>\n",
       "      <td>08/07/2019 07:54:03.159</td>\n",
       "      <td>NaN</td>\n",
       "      <td>NaN</td>\n",
       "      <td>NaN</td>\n",
       "      <td>NaN</td>\n",
       "      <td>NaN</td>\n",
       "      <td>NaN</td>\n",
       "      <td>NaN</td>\n",
       "      <td>NaN</td>\n",
       "      <td>NaN</td>\n",
       "      <td>...</td>\n",
       "      <td>8.042969</td>\n",
       "      <td>40.0</td>\n",
       "      <td>11.0</td>\n",
       "      <td>54.0</td>\n",
       "      <td>3.0</td>\n",
       "      <td>8.0</td>\n",
       "      <td>7.0</td>\n",
       "      <td>19.0</td>\n",
       "      <td>0.0</td>\n",
       "      <td>NaN</td>\n",
       "    </tr>\n",
       "    <tr>\n",
       "      <th>3</th>\n",
       "      <td>08/07/2019 07:54:03.259</td>\n",
       "      <td>NaN</td>\n",
       "      <td>NaN</td>\n",
       "      <td>NaN</td>\n",
       "      <td>NaN</td>\n",
       "      <td>NaN</td>\n",
       "      <td>NaN</td>\n",
       "      <td>NaN</td>\n",
       "      <td>NaN</td>\n",
       "      <td>NaN</td>\n",
       "      <td>...</td>\n",
       "      <td>8.105469</td>\n",
       "      <td>40.0</td>\n",
       "      <td>11.0</td>\n",
       "      <td>54.0</td>\n",
       "      <td>3.0</td>\n",
       "      <td>8.0</td>\n",
       "      <td>7.0</td>\n",
       "      <td>19.0</td>\n",
       "      <td>0.0</td>\n",
       "      <td>NaN</td>\n",
       "    </tr>\n",
       "    <tr>\n",
       "      <th>4</th>\n",
       "      <td>08/07/2019 07:54:03.359</td>\n",
       "      <td>NaN</td>\n",
       "      <td>NaN</td>\n",
       "      <td>NaN</td>\n",
       "      <td>NaN</td>\n",
       "      <td>NaN</td>\n",
       "      <td>NaN</td>\n",
       "      <td>NaN</td>\n",
       "      <td>NaN</td>\n",
       "      <td>NaN</td>\n",
       "      <td>...</td>\n",
       "      <td>8.105469</td>\n",
       "      <td>40.0</td>\n",
       "      <td>11.0</td>\n",
       "      <td>54.0</td>\n",
       "      <td>3.0</td>\n",
       "      <td>8.0</td>\n",
       "      <td>7.0</td>\n",
       "      <td>19.0</td>\n",
       "      <td>0.0</td>\n",
       "      <td>NaN</td>\n",
       "    </tr>\n",
       "  </tbody>\n",
       "</table>\n",
       "<p>5 rows × 51 columns</p>\n",
       "</div>"
      ],
      "text/plain": [
       "                      Time  1730_CH9_ AutomaticStartStop  \\\n",
       "0  08/07/2019 07:54:02.959                           NaN   \n",
       "1  08/07/2019 07:54:03.059                           NaN   \n",
       "2  08/07/2019 07:54:03.159                           NaN   \n",
       "3  08/07/2019 07:54:03.259                           NaN   \n",
       "4  08/07/2019 07:54:03.359                           NaN   \n",
       "\n",
       "   1730_CH10_Truck_Batteries  4649_Ch1_Alternator_250A  4649_Ch2_BattOut_100A  \\\n",
       "0                        NaN                       NaN                    NaN   \n",
       "1                        NaN                       NaN                    NaN   \n",
       "2                        NaN                       NaN                    NaN   \n",
       "3                        NaN                       NaN                    NaN   \n",
       "4                        NaN                       NaN                    NaN   \n",
       "\n",
       "   4649_Ch3_Trailer_50A  4649_Ch4_Inverter_100A  4649_Ch5_Fridge_50A  \\\n",
       "0                   NaN                     NaN                  NaN   \n",
       "1                   NaN                     NaN                  NaN   \n",
       "2                   NaN                     NaN                  NaN   \n",
       "3                   NaN                     NaN                  NaN   \n",
       "4                   NaN                     NaN                  NaN   \n",
       "\n",
       "   4649_Ch6_200A_APU_BatteryBank  4649_Ch7_200A_BatterySeparator  ...  \\\n",
       "0                            NaN                             NaN  ...   \n",
       "1                            NaN                             NaN  ...   \n",
       "2                            NaN                             NaN  ...   \n",
       "3                            NaN                             NaN  ...   \n",
       "4                            NaN                             NaN  ...   \n",
       "\n",
       "   WheelBasedVehicleSpeed  CPU load  UTC hour  UTC minute  UTC second  \\\n",
       "0                7.968750      40.0      11.0        54.0         3.0   \n",
       "1                8.042969      40.0      11.0        54.0         3.0   \n",
       "2                8.042969      40.0      11.0        54.0         3.0   \n",
       "3                8.105469      40.0      11.0        54.0         3.0   \n",
       "4                8.105469      40.0      11.0        54.0         3.0   \n",
       "\n",
       "   UTC month  UTC day  UTC year  GPS altitude  GPS speed  \n",
       "0        8.0      7.0      19.0           0.0        NaN  \n",
       "1        8.0      7.0      19.0           0.0        NaN  \n",
       "2        8.0      7.0      19.0           0.0        NaN  \n",
       "3        8.0      7.0      19.0           0.0        NaN  \n",
       "4        8.0      7.0      19.0           0.0        NaN  \n",
       "\n",
       "[5 rows x 51 columns]"
      ]
     },
     "execution_count": 7,
     "metadata": {},
     "output_type": "execute_result"
    }
   ],
   "source": [
    "trucks1.head()"
   ]
  },
  {
   "cell_type": "code",
   "execution_count": 8,
   "metadata": {},
   "outputs": [],
   "source": [
    "trucks1_temp_only = trucks1.drop(['Time', 'EngineAirIntakeTemp_BB1_X_E', 'asu_UreaTankTemp', 'EngExhaustGasTemp','tse_TurboSpeed', 'TotalVehicleDistanceHighRes', 'EngineSpeed', 'WheelBasedVehicleSpeed', 'EngineKeyPosition', 'SteeringWheelAngle1', 'BarometricPressure_BB1_X_E', 'CPU load', 'UTC hour', 'UTC minute', 'UTC second', 'UTC month', 'UTC day', 'UTC year', 'GPS altitude', 'GPS speed', 'BoostPressure', 'VehicleSpeed', 'CruiseCtrlSetSpeed','VehicleWeightVP15', 'RoadInclinationVP15', 'TransOilPress', 'TransOilLevel', 'ActualEnginePercentTorque', 'ActualEnginePercentTorqueHiRes', 'DrvrDemandEngPercentTorque', 'EngDemandPercentTorque', 'EnginePercentLoadAtCurrentSpd', 'EngineOilLevel', 'EngineOilPressure', 'EngDslPrtclateFilterIntakePress', 'EngIntakeManifold1Press'], axis=1)"
   ]
  },
  {
   "cell_type": "code",
   "execution_count": 9,
   "metadata": {},
   "outputs": [],
   "source": [
    "truck2_temp_only = removeUnnecessaryColumns(truck2_temp_only)"
   ]
  },
  {
   "cell_type": "code",
   "execution_count": 10,
   "metadata": {},
   "outputs": [],
   "source": [
    "trucks1_temp_only = removeUnnecessaryColumns(trucks1_temp_only)"
   ]
  },
  {
   "cell_type": "code",
   "execution_count": 11,
   "metadata": {},
   "outputs": [
    {
     "name": "stdout",
     "output_type": "stream",
     "text": [
      "Threshold value: 3\n"
     ]
    }
   ],
   "source": [
    "truck2_temp_only = removeUnnecessaryRows(truck2_temp_only)"
   ]
  },
  {
   "cell_type": "code",
   "execution_count": 12,
   "metadata": {},
   "outputs": [
    {
     "name": "stdout",
     "output_type": "stream",
     "text": [
      "Threshold value: 11\n"
     ]
    }
   ],
   "source": [
    "trucks1_temp_only = removeUnnecessaryRows(trucks1_temp_only)"
   ]
  },
  {
   "cell_type": "code",
   "execution_count": 13,
   "metadata": {},
   "outputs": [],
   "source": [
    "truck_fill = truck2_temp_only[['EngineCoolantTemp_stat', 'EngineOilTemperature', 'EngIntakeManifold1Temp', 'TransmissionOilTemp', 'AmbientAirTemperature_V']].ffill().bfill()\n"
   ]
  },
  {
   "cell_type": "code",
   "execution_count": 14,
   "metadata": {},
   "outputs": [],
   "source": [
    "truck1_fill = trucks1_temp_only[['EngineCoolantTemp_stat', 'EngineOilTemperature', 'EngIntakeManifold1Temp', 'TransmissionOilTemp', 'AmbientAirTemperature_V']].ffill().bfill()\n"
   ]
  },
  {
   "cell_type": "code",
   "execution_count": 15,
   "metadata": {},
   "outputs": [],
   "source": [
    "truck2_temp_only = truck_fill"
   ]
  },
  {
   "cell_type": "code",
   "execution_count": 16,
   "metadata": {},
   "outputs": [],
   "source": [
    "truck1_temp_only = truck1_fill"
   ]
  },
  {
   "cell_type": "code",
   "execution_count": 17,
   "metadata": {},
   "outputs": [],
   "source": [
    "X = truck2_temp_only[['EngineCoolantTemp_stat', 'EngineOilTemperature', 'TransmissionOilTemp', 'AmbientAirTemperature_V']].values\n",
    "y = truck2_temp_only['EngIntakeManifold1Temp'].values"
   ]
  },
  {
   "cell_type": "code",
   "execution_count": 18,
   "metadata": {},
   "outputs": [],
   "source": [
    "X1 = truck1_temp_only[['EngineCoolantTemp_stat', 'EngineOilTemperature', 'TransmissionOilTemp', 'AmbientAirTemperature_V']].values\n",
    "y1 = truck1_temp_only['EngIntakeManifold1Temp'].values"
   ]
  },
  {
   "cell_type": "code",
   "execution_count": 56,
   "metadata": {},
   "outputs": [],
   "source": [
    "x_test = truck1_temp_only[['AmbientAirTemperature_V']].values\n",
    "y_test = truck1_temp_only[['EngIntakeManifold1Temp']].values"
   ]
  },
  {
   "cell_type": "code",
   "execution_count": 19,
   "metadata": {
    "scrolled": true
   },
   "outputs": [
    {
     "data": {
      "text/html": [
       "<div>\n",
       "<style scoped>\n",
       "    .dataframe tbody tr th:only-of-type {\n",
       "        vertical-align: middle;\n",
       "    }\n",
       "\n",
       "    .dataframe tbody tr th {\n",
       "        vertical-align: top;\n",
       "    }\n",
       "\n",
       "    .dataframe thead th {\n",
       "        text-align: right;\n",
       "    }\n",
       "</style>\n",
       "<table border=\"1\" class=\"dataframe\">\n",
       "  <thead>\n",
       "    <tr style=\"text-align: right;\">\n",
       "      <th></th>\n",
       "      <th>EngineCoolantTemp_stat</th>\n",
       "      <th>EngineOilTemperature</th>\n",
       "      <th>EngIntakeManifold1Temp</th>\n",
       "      <th>TransmissionOilTemp</th>\n",
       "      <th>AmbientAirTemperature_V</th>\n",
       "    </tr>\n",
       "  </thead>\n",
       "  <tbody>\n",
       "    <tr>\n",
       "      <th>16</th>\n",
       "      <td>31.0</td>\n",
       "      <td>26.65625</td>\n",
       "      <td>27.0</td>\n",
       "      <td>27.84375</td>\n",
       "      <td>21.34375</td>\n",
       "    </tr>\n",
       "    <tr>\n",
       "      <th>17</th>\n",
       "      <td>31.0</td>\n",
       "      <td>26.65625</td>\n",
       "      <td>27.0</td>\n",
       "      <td>27.84375</td>\n",
       "      <td>21.34375</td>\n",
       "    </tr>\n",
       "    <tr>\n",
       "      <th>18</th>\n",
       "      <td>31.0</td>\n",
       "      <td>26.65625</td>\n",
       "      <td>27.0</td>\n",
       "      <td>27.84375</td>\n",
       "      <td>21.34375</td>\n",
       "    </tr>\n",
       "    <tr>\n",
       "      <th>19</th>\n",
       "      <td>31.0</td>\n",
       "      <td>26.65625</td>\n",
       "      <td>27.0</td>\n",
       "      <td>27.84375</td>\n",
       "      <td>21.34375</td>\n",
       "    </tr>\n",
       "    <tr>\n",
       "      <th>20</th>\n",
       "      <td>31.0</td>\n",
       "      <td>26.65625</td>\n",
       "      <td>27.0</td>\n",
       "      <td>27.84375</td>\n",
       "      <td>21.34375</td>\n",
       "    </tr>\n",
       "  </tbody>\n",
       "</table>\n",
       "</div>"
      ],
      "text/plain": [
       "    EngineCoolantTemp_stat  EngineOilTemperature  EngIntakeManifold1Temp  \\\n",
       "16                    31.0              26.65625                    27.0   \n",
       "17                    31.0              26.65625                    27.0   \n",
       "18                    31.0              26.65625                    27.0   \n",
       "19                    31.0              26.65625                    27.0   \n",
       "20                    31.0              26.65625                    27.0   \n",
       "\n",
       "    TransmissionOilTemp  AmbientAirTemperature_V  \n",
       "16             27.84375                 21.34375  \n",
       "17             27.84375                 21.34375  \n",
       "18             27.84375                 21.34375  \n",
       "19             27.84375                 21.34375  \n",
       "20             27.84375                 21.34375  "
      ]
     },
     "execution_count": 19,
     "metadata": {},
     "output_type": "execute_result"
    }
   ],
   "source": [
    "truck1_temp_only.head()"
   ]
  },
  {
   "cell_type": "code",
   "execution_count": 20,
   "metadata": {},
   "outputs": [
    {
     "data": {
      "text/html": [
       "<div>\n",
       "<style scoped>\n",
       "    .dataframe tbody tr th:only-of-type {\n",
       "        vertical-align: middle;\n",
       "    }\n",
       "\n",
       "    .dataframe tbody tr th {\n",
       "        vertical-align: top;\n",
       "    }\n",
       "\n",
       "    .dataframe thead th {\n",
       "        text-align: right;\n",
       "    }\n",
       "</style>\n",
       "<table border=\"1\" class=\"dataframe\">\n",
       "  <thead>\n",
       "    <tr style=\"text-align: right;\">\n",
       "      <th></th>\n",
       "      <th>EngineCoolantTemp_stat</th>\n",
       "      <th>EngineOilTemperature</th>\n",
       "      <th>EngIntakeManifold1Temp</th>\n",
       "      <th>TransmissionOilTemp</th>\n",
       "      <th>AmbientAirTemperature_V</th>\n",
       "    </tr>\n",
       "  </thead>\n",
       "  <tbody>\n",
       "    <tr>\n",
       "      <th>0</th>\n",
       "      <td>79.0</td>\n",
       "      <td>118.875</td>\n",
       "      <td>33.0</td>\n",
       "      <td>85.0</td>\n",
       "      <td>16.9375</td>\n",
       "    </tr>\n",
       "    <tr>\n",
       "      <th>1</th>\n",
       "      <td>79.0</td>\n",
       "      <td>118.875</td>\n",
       "      <td>33.0</td>\n",
       "      <td>85.0</td>\n",
       "      <td>16.9375</td>\n",
       "    </tr>\n",
       "    <tr>\n",
       "      <th>2</th>\n",
       "      <td>79.0</td>\n",
       "      <td>118.875</td>\n",
       "      <td>33.0</td>\n",
       "      <td>85.0</td>\n",
       "      <td>16.9375</td>\n",
       "    </tr>\n",
       "    <tr>\n",
       "      <th>3</th>\n",
       "      <td>79.0</td>\n",
       "      <td>118.875</td>\n",
       "      <td>33.0</td>\n",
       "      <td>85.0</td>\n",
       "      <td>16.9375</td>\n",
       "    </tr>\n",
       "    <tr>\n",
       "      <th>4</th>\n",
       "      <td>79.0</td>\n",
       "      <td>118.875</td>\n",
       "      <td>33.0</td>\n",
       "      <td>85.0</td>\n",
       "      <td>16.9375</td>\n",
       "    </tr>\n",
       "  </tbody>\n",
       "</table>\n",
       "</div>"
      ],
      "text/plain": [
       "   EngineCoolantTemp_stat  EngineOilTemperature  EngIntakeManifold1Temp  \\\n",
       "0                    79.0               118.875                    33.0   \n",
       "1                    79.0               118.875                    33.0   \n",
       "2                    79.0               118.875                    33.0   \n",
       "3                    79.0               118.875                    33.0   \n",
       "4                    79.0               118.875                    33.0   \n",
       "\n",
       "   TransmissionOilTemp  AmbientAirTemperature_V  \n",
       "0                 85.0                  16.9375  \n",
       "1                 85.0                  16.9375  \n",
       "2                 85.0                  16.9375  \n",
       "3                 85.0                  16.9375  \n",
       "4                 85.0                  16.9375  "
      ]
     },
     "execution_count": 20,
     "metadata": {},
     "output_type": "execute_result"
    }
   ],
   "source": [
    "truck2_temp_only.head()"
   ]
  },
  {
   "cell_type": "code",
   "execution_count": 21,
   "metadata": {},
   "outputs": [],
   "source": [
    "X_train, X_test, y_train, y_test = train_test_split(X,y, random_state = 0)"
   ]
  },
  {
   "cell_type": "code",
   "execution_count": 58,
   "metadata": {},
   "outputs": [],
   "source": [
    "#For Truck1:\n",
    "X1_train, X1_test, y1_train, y1_test = train_test_split(X1,y1, random_state = 0)"
   ]
  },
  {
   "cell_type": "code",
   "execution_count": 59,
   "metadata": {},
   "outputs": [],
   "source": [
    "X_test_train, X_test_test, y_test_train, y_test_test = train_test_split(x_test,y_test, random_state = 0)"
   ]
  },
  {
   "cell_type": "code",
   "execution_count": 23,
   "metadata": {},
   "outputs": [
    {
     "data": {
      "text/plain": [
       "LinearRegression(copy_X=True, fit_intercept=True, n_jobs=None, normalize=False)"
      ]
     },
     "execution_count": 23,
     "metadata": {},
     "output_type": "execute_result"
    }
   ],
   "source": [
    "regressor = LinearRegression()\n",
    "regressor.fit(X_train, y_train)"
   ]
  },
  {
   "cell_type": "code",
   "execution_count": 63,
   "metadata": {},
   "outputs": [
    {
     "data": {
      "text/plain": [
       "LinearRegression(copy_X=True, fit_intercept=True, n_jobs=None, normalize=False)"
      ]
     },
     "execution_count": 63,
     "metadata": {},
     "output_type": "execute_result"
    }
   ],
   "source": [
    "regressor1 = LinearRegression()\n",
    "regressor1.fit(X1_train, y1_train)"
   ]
  },
  {
   "cell_type": "code",
   "execution_count": 64,
   "metadata": {},
   "outputs": [
    {
     "data": {
      "text/plain": [
       "LinearRegression(copy_X=True, fit_intercept=True, n_jobs=None, normalize=False)"
      ]
     },
     "execution_count": 64,
     "metadata": {},
     "output_type": "execute_result"
    }
   ],
   "source": [
    "regressor_test = LinearRegression()\n",
    "regressor_test.fit(X_test_train, y_test_train)"
   ]
  },
  {
   "cell_type": "code",
   "execution_count": 65,
   "metadata": {},
   "outputs": [],
   "source": [
    "y_pred = regressor.predict(X_test)"
   ]
  },
  {
   "cell_type": "code",
   "execution_count": 66,
   "metadata": {},
   "outputs": [],
   "source": [
    "y1_pred = regressor1.predict(X1_test)"
   ]
  },
  {
   "cell_type": "code",
   "execution_count": 67,
   "metadata": {},
   "outputs": [],
   "source": [
    "y_test_pred = regressor_test.predict(X_test_test)"
   ]
  },
  {
   "cell_type": "code",
   "execution_count": 27,
   "metadata": {},
   "outputs": [
    {
     "data": {
      "text/plain": [
       "array([26.45723444, 25.40167567, 34.77650902, ..., 25.6452871 ,\n",
       "       23.33666751, 31.26604536])"
      ]
     },
     "execution_count": 27,
     "metadata": {},
     "output_type": "execute_result"
    }
   ],
   "source": [
    "y_pred"
   ]
  },
  {
   "cell_type": "code",
   "execution_count": 28,
   "metadata": {},
   "outputs": [
    {
     "data": {
      "text/plain": [
       "array([54.32953716, 52.10322167, 50.99051761, ..., 50.67627569,\n",
       "       52.3216914 , 51.84372437])"
      ]
     },
     "execution_count": 28,
     "metadata": {},
     "output_type": "execute_result"
    }
   ],
   "source": [
    "y1_pred"
   ]
  },
  {
   "cell_type": "code",
   "execution_count": 68,
   "metadata": {},
   "outputs": [
    {
     "data": {
      "text/plain": [
       "array([[54.33239903],\n",
       "       [51.62335042],\n",
       "       [51.84910447],\n",
       "       ...,\n",
       "       [51.2040929 ],\n",
       "       [52.33286315],\n",
       "       [51.62335042]])"
      ]
     },
     "execution_count": 68,
     "metadata": {},
     "output_type": "execute_result"
    }
   ],
   "source": [
    "y_test_pred"
   ]
  },
  {
   "cell_type": "code",
   "execution_count": 29,
   "metadata": {},
   "outputs": [
    {
     "data": {
      "text/plain": [
       "array([31., 24., 41., ..., 25., 22., 30.])"
      ]
     },
     "execution_count": 29,
     "metadata": {},
     "output_type": "execute_result"
    }
   ],
   "source": [
    "y_test"
   ]
  },
  {
   "cell_type": "code",
   "execution_count": 30,
   "metadata": {},
   "outputs": [
    {
     "data": {
      "text/plain": [
       "array([52., 48., 55., ..., 50., 52., 50.])"
      ]
     },
     "execution_count": 30,
     "metadata": {},
     "output_type": "execute_result"
    }
   ],
   "source": [
    "y1_test"
   ]
  },
  {
   "cell_type": "code",
   "execution_count": 69,
   "metadata": {},
   "outputs": [
    {
     "data": {
      "text/plain": [
       "array([[52.],\n",
       "       [48.],\n",
       "       [55.],\n",
       "       ...,\n",
       "       [50.],\n",
       "       [52.],\n",
       "       [50.]])"
      ]
     },
     "execution_count": 69,
     "metadata": {},
     "output_type": "execute_result"
    }
   ],
   "source": [
    "y_test_test"
   ]
  },
  {
   "cell_type": "code",
   "execution_count": 31,
   "metadata": {},
   "outputs": [
    {
     "data": {
      "text/plain": [
       "Text(0, 0.5, 'Truck 2 Predictions')"
      ]
     },
     "execution_count": 31,
     "metadata": {},
     "output_type": "execute_result"
    },
    {
     "data": {
      "image/png": "[encoded data removed]",
      "text/plain": [
       "<Figure size 1080x360 with 1 Axes>"
      ]
     },
     "metadata": {
      "needs_background": "light"
     },
     "output_type": "display_data"
    }
   ],
   "source": [
    "plt.figure(figsize=(15,5))\n",
    "plt.rcParams['agg.path.chunksize'] = 10000\n",
    "plt.plot(y_test, y_pred)\n",
    "plt.xlabel(\"Truck 2 True Values\")\n",
    "plt.ylabel('Truck 2 Predictions')"
   ]
  },
  {
   "cell_type": "code",
   "execution_count": 32,
   "metadata": {},
   "outputs": [
    {
     "data": {
      "text/plain": [
       "Text(0, 0.5, 'Truck 1 Predictions')"
      ]
     },
     "execution_count": 32,
     "metadata": {},
     "output_type": "execute_result"
    },
    {
     "data": {
      "image/png": "[encoded data removed]",
      "text/plain": [
       "<Figure size 1080x360 with 1 Axes>"
      ]
     },
     "metadata": {
      "needs_background": "light"
     },
     "output_type": "display_data"
    }
   ],
   "source": [
    "plt.figure(figsize=(15,5))\n",
    "plt.rcParams['agg.path.chunksize'] = 10000\n",
    "plt.plot(y1_test, y1_pred)\n",
    "plt.xlabel(\"Truck 1 True Values\")\n",
    "plt.ylabel('Truck 1 Predictions')"
   ]
  },
  {
   "cell_type": "code",
   "execution_count": 33,
   "metadata": {},
   "outputs": [
    {
     "data": {
      "text/plain": [
       "Text(0, 0.5, 'Truck 2 Predictions')"
      ]
     },
     "execution_count": 33,
     "metadata": {},
     "output_type": "execute_result"
    },
    {
     "data": {
      "image/png": "[encoded data removed]",
      "text/plain": [
       "<Figure size 1080x360 with 1 Axes>"
      ]
     },
     "metadata": {
      "needs_background": "light"
     },
     "output_type": "display_data"
    }
   ],
   "source": [
    "plt.figure(figsize=(15,5))\n",
    "plt.scatter(y_test, y_pred)\n",
    "plt.xlabel(\"Truck 2 True Values\")\n",
    "plt.ylabel('Truck 2 Predictions')"
   ]
  },
  {
   "cell_type": "code",
   "execution_count": 34,
   "metadata": {},
   "outputs": [
    {
     "data": {
      "text/plain": [
       "Text(0, 0.5, 'Truck 1 Predictions')"
      ]
     },
     "execution_count": 34,
     "metadata": {},
     "output_type": "execute_result"
    },
    {
     "data": {
      "image/png": "[encoded data removed]",
      "text/plain": [
       "<Figure size 1080x360 with 1 Axes>"
      ]
     },
     "metadata": {
      "needs_background": "light"
     },
     "output_type": "display_data"
    }
   ],
   "source": [
    "plt.figure(figsize=(15,5))\n",
    "plt.scatter(y1_test, y1_pred)\n",
    "plt.xlabel(\"Truck 1 True Values\")\n",
    "plt.ylabel('Truck 1 Predictions')"
   ]
  },
  {
   "cell_type": "code",
   "execution_count": 71,
   "metadata": {},
   "outputs": [
    {
     "data": {
      "text/plain": [
       "Text(0, 0.5, 'Truck 1 Engine Intake')"
      ]
     },
     "execution_count": 71,
     "metadata": {},
     "output_type": "execute_result"
    },
    {
     "data": {
      "image/png": "[encoded data removed]",
      "text/plain": [
       "<Figure size 1080x360 with 1 Axes>"
      ]
     },
     "metadata": {
      "needs_background": "light"
     },
     "output_type": "display_data"
    }
   ],
   "source": [
    "plt.figure(figsize=(15,5))\n",
    "plt.scatter(y_test_test, y_test_pred)\n",
    "plt.xlabel(\"Truck 1 Temperature\")\n",
    "plt.ylabel('Truck 1 Engine Intake')"
   ]
  },
  {
   "cell_type": "code",
   "execution_count": 35,
   "metadata": {},
   "outputs": [],
   "source": [
    "lm = linear_model.LinearRegression()\n",
    "\n",
    "model = lm.fit(X_train, y_train)\n",
    "predictions = lm.predict(X_test)"
   ]
  },
  {
   "cell_type": "code",
   "execution_count": 36,
   "metadata": {},
   "outputs": [],
   "source": [
    "lm1 = linear_model.LinearRegression()\n",
    "\n",
    "model1 = lm1.fit(X1_train, y1_train)\n",
    "predictions1 = lm1.predict(X1_test)"
   ]
  },
  {
   "cell_type": "code",
   "execution_count": 72,
   "metadata": {},
   "outputs": [],
   "source": [
    "lm_test = linear_model.LinearRegression()\n",
    "\n",
    "model_test = lm_test.fit(X_test_train, y_test_train)\n",
    "predictions_test = lm_test.predict(X_test_test)"
   ]
  },
  {
   "cell_type": "code",
   "execution_count": 37,
   "metadata": {},
   "outputs": [
    {
     "data": {
      "text/plain": [
       "array([26.45723444, 25.40167567, 34.77650902, ..., 25.6452871 ,\n",
       "       23.33666751, 31.26604536])"
      ]
     },
     "execution_count": 37,
     "metadata": {},
     "output_type": "execute_result"
    }
   ],
   "source": [
    "predictions"
   ]
  },
  {
   "cell_type": "code",
   "execution_count": 38,
   "metadata": {},
   "outputs": [
    {
     "data": {
      "text/plain": [
       "array([54.32953716, 52.10322167, 50.99051761, ..., 50.67627569,\n",
       "       52.3216914 , 51.84372437])"
      ]
     },
     "execution_count": 38,
     "metadata": {},
     "output_type": "execute_result"
    }
   ],
   "source": [
    "predictions1"
   ]
  },
  {
   "cell_type": "code",
   "execution_count": 73,
   "metadata": {},
   "outputs": [
    {
     "data": {
      "text/plain": [
       "array([[54.33239903],\n",
       "       [51.62335042],\n",
       "       [51.84910447],\n",
       "       ...,\n",
       "       [51.2040929 ],\n",
       "       [52.33286315],\n",
       "       [51.62335042]])"
      ]
     },
     "execution_count": 73,
     "metadata": {},
     "output_type": "execute_result"
    }
   ],
   "source": [
    "predictions_test"
   ]
  },
  {
   "cell_type": "code",
   "execution_count": 39,
   "metadata": {},
   "outputs": [
    {
     "data": {
      "text/plain": [
       "0.7062050718088208"
      ]
     },
     "execution_count": 39,
     "metadata": {},
     "output_type": "execute_result"
    }
   ],
   "source": [
    "model1.score(X1_test, y1_test)"
   ]
  },
  {
   "cell_type": "code",
   "execution_count": 40,
   "metadata": {},
   "outputs": [
    {
     "data": {
      "text/plain": [
       "0.7341028591090475"
      ]
     },
     "execution_count": 40,
     "metadata": {},
     "output_type": "execute_result"
    }
   ],
   "source": [
    "model.score(X_test,y_test)"
   ]
  },
  {
   "cell_type": "code",
   "execution_count": 75,
   "metadata": {},
   "outputs": [
    {
     "data": {
      "text/plain": [
       "0.28359838354829503"
      ]
     },
     "execution_count": 75,
     "metadata": {},
     "output_type": "execute_result"
    }
   ],
   "source": [
    "model_test.score(X_test_test,y_test_test)"
   ]
  },
  {
   "cell_type": "code",
   "execution_count": 41,
   "metadata": {},
   "outputs": [],
   "source": [
    "X = np.append(arr = np.ones((1686308, 1)).astype(int), values = X, axis=1)"
   ]
  },
  {
   "cell_type": "code",
   "execution_count": 43,
   "metadata": {},
   "outputs": [],
   "source": [
    "X1 = np.append(arr = np.ones((1216197, 1)).astype(int), values = X1, axis=1)"
   ]
  },
  {
   "cell_type": "code",
   "execution_count": 44,
   "metadata": {},
   "outputs": [
    {
     "data": {
      "text/plain": [
       "array([[  1.     ,  79.     , 118.875  ,  85.     ,  16.9375 ],\n",
       "       [  1.     ,  79.     , 118.875  ,  85.     ,  16.9375 ],\n",
       "       [  1.     ,  79.     , 118.875  ,  85.     ,  16.9375 ],\n",
       "       ...,\n",
       "       [  1.     ,  78.     , 116.375  ,  82.59375,  13.34375],\n",
       "       [  1.     ,  78.     , 116.375  ,  82.59375,  13.34375],\n",
       "       [  1.     ,  78.     , 116.375  ,  82.59375,  13.34375]])"
      ]
     },
     "execution_count": 44,
     "metadata": {},
     "output_type": "execute_result"
    }
   ],
   "source": [
    "X"
   ]
  },
  {
   "cell_type": "code",
   "execution_count": 45,
   "metadata": {},
   "outputs": [
    {
     "data": {
      "text/plain": [
       "array([[  1.     ,  31.     ,  26.65625,  27.84375,  21.34375],\n",
       "       [  1.     ,  31.     ,  26.65625,  27.84375,  21.34375],\n",
       "       [  1.     ,  31.     ,  26.65625,  27.84375,  21.34375],\n",
       "       ...,\n",
       "       [  1.     ,  82.     , 111.0625 ,  78.34375,  28.75   ],\n",
       "       [  1.     ,  82.     , 111.0625 ,  78.34375,  28.75   ],\n",
       "       [  1.     ,  82.     , 111.0625 ,  78.34375,  28.75   ]])"
      ]
     },
     "execution_count": 45,
     "metadata": {},
     "output_type": "execute_result"
    }
   ],
   "source": [
    "X1"
   ]
  },
  {
   "cell_type": "code",
   "execution_count": 46,
   "metadata": {},
   "outputs": [],
   "source": [
    "#### Only using variables that are significantly significant with backward elimination\n",
    "X_opt = X[:, [0, 1, 2, 3, 4]]"
   ]
  },
  {
   "cell_type": "code",
   "execution_count": 47,
   "metadata": {},
   "outputs": [],
   "source": [
    "X_opt1 = X1[:, [0, 1, 2, 3, 4]]"
   ]
  },
  {
   "cell_type": "code",
   "execution_count": 48,
   "metadata": {},
   "outputs": [
    {
     "data": {
      "text/plain": [
       "array([[  1.     ,  79.     , 118.875  ,  85.     ,  16.9375 ],\n",
       "       [  1.     ,  79.     , 118.875  ,  85.     ,  16.9375 ],\n",
       "       [  1.     ,  79.     , 118.875  ,  85.     ,  16.9375 ],\n",
       "       ...,\n",
       "       [  1.     ,  78.     , 116.375  ,  82.59375,  13.34375],\n",
       "       [  1.     ,  78.     , 116.375  ,  82.59375,  13.34375],\n",
       "       [  1.     ,  78.     , 116.375  ,  82.59375,  13.34375]])"
      ]
     },
     "execution_count": 48,
     "metadata": {},
     "output_type": "execute_result"
    }
   ],
   "source": [
    "X_opt"
   ]
  },
  {
   "cell_type": "code",
   "execution_count": 49,
   "metadata": {},
   "outputs": [
    {
     "data": {
      "text/plain": [
       "array([[  1.     ,  31.     ,  26.65625,  27.84375,  21.34375],\n",
       "       [  1.     ,  31.     ,  26.65625,  27.84375,  21.34375],\n",
       "       [  1.     ,  31.     ,  26.65625,  27.84375,  21.34375],\n",
       "       ...,\n",
       "       [  1.     ,  82.     , 111.0625 ,  78.34375,  28.75   ],\n",
       "       [  1.     ,  82.     , 111.0625 ,  78.34375,  28.75   ],\n",
       "       [  1.     ,  82.     , 111.0625 ,  78.34375,  28.75   ]])"
      ]
     },
     "execution_count": 49,
     "metadata": {},
     "output_type": "execute_result"
    }
   ],
   "source": [
    "X_opt1"
   ]
  },
  {
   "cell_type": "code",
   "execution_count": 50,
   "metadata": {},
   "outputs": [],
   "source": [
    "##### Creating a new regressor from statsmodels\n",
    "regressor_OLS = sm.OLS(endog = y, exog = X_opt).fit()"
   ]
  },
  {
   "cell_type": "code",
   "execution_count": 51,
   "metadata": {},
   "outputs": [],
   "source": [
    "regressor_OLS1 = sm.OLS(endog = y1, exog = X_opt1).fit()"
   ]
  },
  {
   "cell_type": "code",
   "execution_count": 52,
   "metadata": {},
   "outputs": [
    {
     "data": {
      "text/plain": [
       "<statsmodels.regression.linear_model.RegressionResultsWrapper at 0x52b83518>"
      ]
     },
     "execution_count": 52,
     "metadata": {},
     "output_type": "execute_result"
    }
   ],
   "source": [
    "regressor_OLS"
   ]
  },
  {
   "cell_type": "code",
   "execution_count": 53,
   "metadata": {},
   "outputs": [
    {
     "data": {
      "text/plain": [
       "<statsmodels.regression.linear_model.RegressionResultsWrapper at 0x53ec78d0>"
      ]
     },
     "execution_count": 53,
     "metadata": {},
     "output_type": "execute_result"
    }
   ],
   "source": [
    "regressor_OLS1"
   ]
  },
  {
   "cell_type": "code",
   "execution_count": 54,
   "metadata": {
    "scrolled": true
   },
   "outputs": [
    {
     "data": {
      "text/html": [
       "<table class=\"simpletable\">\n",
       "<caption>OLS Regression Results</caption>\n",
       "<tr>\n",
       "  <th>Dep. Variable:</th>            <td>y</td>        <th>  R-squared:         </th>  <td>   0.735</td>  \n",
       "</tr>\n",
       "<tr>\n",
       "  <th>Model:</th>                   <td>OLS</td>       <th>  Adj. R-squared:    </th>  <td>   0.735</td>  \n",
       "</tr>\n",
       "<tr>\n",
       "  <th>Method:</th>             <td>Least Squares</td>  <th>  F-statistic:       </th>  <td>1.167e+06</td> \n",
       "</tr>\n",
       "<tr>\n",
       "  <th>Date:</th>             <td>Wed, 11 Dec 2019</td> <th>  Prob (F-statistic):</th>   <td>  0.00</td>   \n",
       "</tr>\n",
       "<tr>\n",
       "  <th>Time:</th>                 <td>23:47:21</td>     <th>  Log-Likelihood:    </th> <td>-4.8943e+06</td>\n",
       "</tr>\n",
       "<tr>\n",
       "  <th>No. Observations:</th>      <td>1686308</td>     <th>  AIC:               </th>  <td>9.789e+06</td> \n",
       "</tr>\n",
       "<tr>\n",
       "  <th>Df Residuals:</th>          <td>1686303</td>     <th>  BIC:               </th>  <td>9.789e+06</td> \n",
       "</tr>\n",
       "<tr>\n",
       "  <th>Df Model:</th>              <td>     4</td>      <th>                     </th>      <td> </td>     \n",
       "</tr>\n",
       "<tr>\n",
       "  <th>Covariance Type:</th>      <td>nonrobust</td>    <th>                     </th>      <td> </td>     \n",
       "</tr>\n",
       "</table>\n",
       "<table class=\"simpletable\">\n",
       "<tr>\n",
       "    <td></td>       <th>coef</th>     <th>std err</th>      <th>t</th>      <th>P>|t|</th>  <th>[0.025</th>    <th>0.975]</th>  \n",
       "</tr>\n",
       "<tr>\n",
       "  <th>const</th> <td>  -33.8231</td> <td>    0.132</td> <td> -256.293</td> <td> 0.000</td> <td>  -34.082</td> <td>  -33.564</td>\n",
       "</tr>\n",
       "<tr>\n",
       "  <th>x1</th>    <td>    1.1370</td> <td>    0.002</td> <td>  582.600</td> <td> 0.000</td> <td>    1.133</td> <td>    1.141</td>\n",
       "</tr>\n",
       "<tr>\n",
       "  <th>x2</th>    <td>   -0.6087</td> <td>    0.001</td> <td>-1001.456</td> <td> 0.000</td> <td>   -0.610</td> <td>   -0.607</td>\n",
       "</tr>\n",
       "<tr>\n",
       "  <th>x3</th>    <td>    0.3967</td> <td>    0.001</td> <td>  272.600</td> <td> 0.000</td> <td>    0.394</td> <td>    0.400</td>\n",
       "</tr>\n",
       "<tr>\n",
       "  <th>x4</th>    <td>    0.8608</td> <td>    0.001</td> <td> 1139.289</td> <td> 0.000</td> <td>    0.859</td> <td>    0.862</td>\n",
       "</tr>\n",
       "</table>\n",
       "<table class=\"simpletable\">\n",
       "<tr>\n",
       "  <th>Omnibus:</th>       <td>347849.307</td> <th>  Durbin-Watson:     </th>  <td>   0.002</td>  \n",
       "</tr>\n",
       "<tr>\n",
       "  <th>Prob(Omnibus):</th>   <td> 0.000</td>   <th>  Jarque-Bera (JB):  </th> <td>1102257.968</td>\n",
       "</tr>\n",
       "<tr>\n",
       "  <th>Skew:</th>            <td> 1.056</td>   <th>  Prob(JB):          </th>  <td>    0.00</td>  \n",
       "</tr>\n",
       "<tr>\n",
       "  <th>Kurtosis:</th>        <td> 6.351</td>   <th>  Cond. No.          </th>  <td>6.23e+03</td>  \n",
       "</tr>\n",
       "</table><br/><br/>Warnings:<br/>[1] Standard Errors assume that the covariance matrix of the errors is correctly specified.<br/>[2] The condition number is large, 6.23e+03. This might indicate that there are<br/>strong multicollinearity or other numerical problems."
      ],
      "text/plain": [
       "<class 'statsmodels.iolib.summary.Summary'>\n",
       "\"\"\"\n",
       "                            OLS Regression Results                            \n",
       "==============================================================================\n",
       "Dep. Variable:                      y   R-squared:                       0.735\n",
       "Model:                            OLS   Adj. R-squared:                  0.735\n",
       "Method:                 Least Squares   F-statistic:                 1.167e+06\n",
       "Date:                Wed, 11 Dec 2019   Prob (F-statistic):               0.00\n",
       "Time:                        23:47:21   Log-Likelihood:            -4.8943e+06\n",
       "No. Observations:             1686308   AIC:                         9.789e+06\n",
       "Df Residuals:                 1686303   BIC:                         9.789e+06\n",
       "Df Model:                           4                                         \n",
       "Covariance Type:            nonrobust                                         \n",
       "==============================================================================\n",
       "                 coef    std err          t      P>|t|      [0.025      0.975]\n",
       "------------------------------------------------------------------------------\n",
       "const        -33.8231      0.132   -256.293      0.000     -34.082     -33.564\n",
       "x1             1.1370      0.002    582.600      0.000       1.133       1.141\n",
       "x2            -0.6087      0.001  -1001.456      0.000      -0.610      -0.607\n",
       "x3             0.3967      0.001    272.600      0.000       0.394       0.400\n",
       "x4             0.8608      0.001   1139.289      0.000       0.859       0.862\n",
       "==============================================================================\n",
       "Omnibus:                   347849.307   Durbin-Watson:                   0.002\n",
       "Prob(Omnibus):                  0.000   Jarque-Bera (JB):          1102257.968\n",
       "Skew:                           1.056   Prob(JB):                         0.00\n",
       "Kurtosis:                       6.351   Cond. No.                     6.23e+03\n",
       "==============================================================================\n",
       "\n",
       "Warnings:\n",
       "[1] Standard Errors assume that the covariance matrix of the errors is correctly specified.\n",
       "[2] The condition number is large, 6.23e+03. This might indicate that there are\n",
       "strong multicollinearity or other numerical problems.\n",
       "\"\"\""
      ]
     },
     "execution_count": 54,
     "metadata": {},
     "output_type": "execute_result"
    }
   ],
   "source": [
    "regressor_OLS.summary()"
   ]
  },
  {
   "cell_type": "code",
   "execution_count": 55,
   "metadata": {},
   "outputs": [
    {
     "data": {
      "text/html": [
       "<table class=\"simpletable\">\n",
       "<caption>OLS Regression Results</caption>\n",
       "<tr>\n",
       "  <th>Dep. Variable:</th>            <td>y</td>        <th>  R-squared:         </th>  <td>   0.704</td>  \n",
       "</tr>\n",
       "<tr>\n",
       "  <th>Model:</th>                   <td>OLS</td>       <th>  Adj. R-squared:    </th>  <td>   0.704</td>  \n",
       "</tr>\n",
       "<tr>\n",
       "  <th>Method:</th>             <td>Least Squares</td>  <th>  F-statistic:       </th>  <td>7.241e+05</td> \n",
       "</tr>\n",
       "<tr>\n",
       "  <th>Date:</th>             <td>Wed, 11 Dec 2019</td> <th>  Prob (F-statistic):</th>   <td>  0.00</td>   \n",
       "</tr>\n",
       "<tr>\n",
       "  <th>Time:</th>                 <td>23:47:21</td>     <th>  Log-Likelihood:    </th> <td>-3.0963e+06</td>\n",
       "</tr>\n",
       "<tr>\n",
       "  <th>No. Observations:</th>      <td>1216197</td>     <th>  AIC:               </th>  <td>6.193e+06</td> \n",
       "</tr>\n",
       "<tr>\n",
       "  <th>Df Residuals:</th>          <td>1216192</td>     <th>  BIC:               </th>  <td>6.193e+06</td> \n",
       "</tr>\n",
       "<tr>\n",
       "  <th>Df Model:</th>              <td>     4</td>      <th>                     </th>      <td> </td>     \n",
       "</tr>\n",
       "<tr>\n",
       "  <th>Covariance Type:</th>      <td>nonrobust</td>    <th>                     </th>      <td> </td>     \n",
       "</tr>\n",
       "</table>\n",
       "<table class=\"simpletable\">\n",
       "<tr>\n",
       "    <td></td>       <th>coef</th>     <th>std err</th>      <th>t</th>      <th>P>|t|</th>  <th>[0.025</th>    <th>0.975]</th>  \n",
       "</tr>\n",
       "<tr>\n",
       "  <th>const</th> <td>   -7.8663</td> <td>    0.044</td> <td> -176.954</td> <td> 0.000</td> <td>   -7.953</td> <td>   -7.779</td>\n",
       "</tr>\n",
       "<tr>\n",
       "  <th>x1</th>    <td>    0.5260</td> <td>    0.001</td> <td>  618.388</td> <td> 0.000</td> <td>    0.524</td> <td>    0.528</td>\n",
       "</tr>\n",
       "<tr>\n",
       "  <th>x2</th>    <td>   -0.5932</td> <td>    0.001</td> <td> -894.889</td> <td> 0.000</td> <td>   -0.595</td> <td>   -0.592</td>\n",
       "</tr>\n",
       "<tr>\n",
       "  <th>x3</th>    <td>    0.7914</td> <td>    0.001</td> <td>  916.350</td> <td> 0.000</td> <td>    0.790</td> <td>    0.793</td>\n",
       "</tr>\n",
       "<tr>\n",
       "  <th>x4</th>    <td>    0.7143</td> <td>    0.001</td> <td>  699.112</td> <td> 0.000</td> <td>    0.712</td> <td>    0.716</td>\n",
       "</tr>\n",
       "</table>\n",
       "<table class=\"simpletable\">\n",
       "<tr>\n",
       "  <th>Omnibus:</th>       <td>340260.757</td> <th>  Durbin-Watson:     </th>  <td>   0.002</td>  \n",
       "</tr>\n",
       "<tr>\n",
       "  <th>Prob(Omnibus):</th>   <td> 0.000</td>   <th>  Jarque-Bera (JB):  </th> <td>1288210.875</td>\n",
       "</tr>\n",
       "<tr>\n",
       "  <th>Skew:</th>            <td> 1.365</td>   <th>  Prob(JB):          </th>  <td>    0.00</td>  \n",
       "</tr>\n",
       "<tr>\n",
       "  <th>Kurtosis:</th>        <td> 7.239</td>   <th>  Cond. No.          </th>  <td>2.48e+03</td>  \n",
       "</tr>\n",
       "</table><br/><br/>Warnings:<br/>[1] Standard Errors assume that the covariance matrix of the errors is correctly specified.<br/>[2] The condition number is large, 2.48e+03. This might indicate that there are<br/>strong multicollinearity or other numerical problems."
      ],
      "text/plain": [
       "<class 'statsmodels.iolib.summary.Summary'>\n",
       "\"\"\"\n",
       "                            OLS Regression Results                            \n",
       "==============================================================================\n",
       "Dep. Variable:                      y   R-squared:                       0.704\n",
       "Model:                            OLS   Adj. R-squared:                  0.704\n",
       "Method:                 Least Squares   F-statistic:                 7.241e+05\n",
       "Date:                Wed, 11 Dec 2019   Prob (F-statistic):               0.00\n",
       "Time:                        23:47:21   Log-Likelihood:            -3.0963e+06\n",
       "No. Observations:             1216197   AIC:                         6.193e+06\n",
       "Df Residuals:                 1216192   BIC:                         6.193e+06\n",
       "Df Model:                           4                                         \n",
       "Covariance Type:            nonrobust                                         \n",
       "==============================================================================\n",
       "                 coef    std err          t      P>|t|      [0.025      0.975]\n",
       "------------------------------------------------------------------------------\n",
       "const         -7.8663      0.044   -176.954      0.000      -7.953      -7.779\n",
       "x1             0.5260      0.001    618.388      0.000       0.524       0.528\n",
       "x2            -0.5932      0.001   -894.889      0.000      -0.595      -0.592\n",
       "x3             0.7914      0.001    916.350      0.000       0.790       0.793\n",
       "x4             0.7143      0.001    699.112      0.000       0.712       0.716\n",
       "==============================================================================\n",
       "Omnibus:                   340260.757   Durbin-Watson:                   0.002\n",
       "Prob(Omnibus):                  0.000   Jarque-Bera (JB):          1288210.875\n",
       "Skew:                           1.365   Prob(JB):                         0.00\n",
       "Kurtosis:                       7.239   Cond. No.                     2.48e+03\n",
       "==============================================================================\n",
       "\n",
       "Warnings:\n",
       "[1] Standard Errors assume that the covariance matrix of the errors is correctly specified.\n",
       "[2] The condition number is large, 2.48e+03. This might indicate that there are\n",
       "strong multicollinearity or other numerical problems.\n",
       "\"\"\""
      ]
     },
     "execution_count": 55,
     "metadata": {},
     "output_type": "execute_result"
    }
   ],
   "source": [
    "regressor_OLS1.summary()"
   ]
  },
  {
   "cell_type": "code",
   "execution_count": null,
   "metadata": {},
   "outputs": [],
   "source": []
  }
 ],
 "metadata": {
  "kernelspec": {
   "display_name": "Python 3",
   "language": "python",
   "name": "python3"
  },
  "language_info": {
   "codemirror_mode": {
    "name": "ipython",
    "version": 3
   },
   "file_extension": ".py",
   "mimetype": "text/x-python",
   "name": "python",
   "nbconvert_exporter": "python",
   "pygments_lexer": "ipython3",
   "version": "3.7.3"
  }
 },
 "nbformat": 4,
 "nbformat_minor": 2
}
