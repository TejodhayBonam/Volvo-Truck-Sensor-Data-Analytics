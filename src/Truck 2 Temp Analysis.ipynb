{
 "cells": [
  {
   "cell_type": "code",
   "execution_count": 1,
   "metadata": {},
   "outputs": [],
   "source": [
    "import os\n",
    "import numpy as np\n",
    "import pandas as pd\n",
    "import csv\n",
    "import matplotlib.pyplot as plt\n",
    "from scipy import stats\n",
    "\n",
    "truckTwoPath = \"../data/trucks/truck2.csv\"\n",
    "\n",
    "truckTwoDictPath = \"../data/dictionary/truck2_data_dictionary.csv\""
   ]
  },
  {
   "cell_type": "code",
   "execution_count": 2,
   "metadata": {},
   "outputs": [],
   "source": [
    "def get_truck_data():\n",
    "    trucks2 = pd.read_csv(os.path.join('../data/trucks/truck2.csv'),\n",
    "               sep=',',engine='python')\n",
    "    \n",
    "    return trucks2"
   ]
  },
  {
   "cell_type": "code",
   "execution_count": 3,
   "metadata": {},
   "outputs": [],
   "source": [
    "trucks2 = get_truck_data()\n"
   ]
  },
  {
   "cell_type": "code",
   "execution_count": 4,
   "metadata": {},
   "outputs": [],
   "source": [
    "def readCsv(truck):\n",
    "    return pd.read_csv(truck, header = [0])\n",
    "    \n",
    "def cullUtcCols(truckData):\n",
    "    noUTC = truckData.drop([\"UTC hour\", \"UTC minute\", \"UTC second\", \"UTC month\", \"UTC day\", \"UTC year\"], axis = 1)\n",
    "    return noUTC\n",
    "\n",
    "\"\"\"Takes a DataFrame and a conversion dictionary as parameters;\n",
    "    uses the dictionary to rename all matching columns then returns the changed DataFrame.\"\"\"\n",
    "def renameColumns(dataFrame, dictionary):\n",
    "    return dataFrame.rename(columns = dictionary)\n",
    "\n",
    "\"\"\"Finds threshold of Non-NA type using percentage and deletes rows.\"\"\"\n",
    "\n",
    "#If the number of values that are NOT Na type pass this percentage, the row will be deleted\n",
    "rowNaNThresholdPercent = 75\n",
    "def removeUnnecessaryRows(dataFrame):\n",
    "    length = len(dataFrame.columns)\n",
    "    TValue = (rowNaNThresholdPercent / 100) * length\n",
    "    print(\"Threshold value: \" + str(int(TValue)))\n",
    "    return dataFrame.dropna(thresh = int(TValue))\n",
    "\n",
    "\"\"\"Finds columns with all Na types and deletes them.\"\"\"\n",
    "def removeUnnecessaryColumns(dataFrame):\n",
    "    return dataFrame.dropna(axis=1, how='all')\n",
    "\n",
    "# NOTE: The following function is unused in this notebook, but it can be used to convert CSV files into\n",
    "# conversion dictionaries i.e. creating the column rename dictionaries, which was manually done in the\n",
    "# previous block manually.\n",
    "\n",
    "\"\"\"Creates a Python dictionary from a pre-defined CSV dictionary.\n",
    "This will only look at the first two columns of the given CSV file.\"\"\"\n",
    "def createPythonDictionary(dictionaryCSV):\n",
    "    # Initialize the resulting dictionary.\n",
    "    dictResult = {}\n",
    "    \n",
    "    # Opens the passed in CSV which defines the rename dictionary and iterates through it to store each value into a Python dictionary.\n",
    "    with open(dictionaryCSV, 'r') as f:\n",
    "        for row in csv.reader(f):\n",
    "            dictResult.update({row[0]:row[1]})\n",
    "    return dictResult\n",
    "\n"
   ]
  },
  {
   "cell_type": "code",
   "execution_count": 5,
   "metadata": {},
   "outputs": [],
   "source": [
    "trucks2 = removeUnnecessaryColumns(trucks2)"
   ]
  },
  {
   "cell_type": "code",
   "execution_count": 6,
   "metadata": {},
   "outputs": [
    {
     "name": "stdout",
     "output_type": "stream",
     "text": [
      "Threshold value: 32\n"
     ]
    }
   ],
   "source": [
    "trucks2 = removeUnnecessaryRows(trucks2)"
   ]
  },
  {
   "cell_type": "code",
   "execution_count": 7,
   "metadata": {},
   "outputs": [
    {
     "data": {
      "text/plain": [
       "0          16.93750\n",
       "1          16.93750\n",
       "2          16.93750\n",
       "3          16.93750\n",
       "4          16.93750\n",
       "5          16.93750\n",
       "6          16.93750\n",
       "7          16.93750\n",
       "8          16.93750\n",
       "9          16.93750\n",
       "10         16.93750\n",
       "11         16.93750\n",
       "12         16.93750\n",
       "13         16.93750\n",
       "14         16.93750\n",
       "15         16.93750\n",
       "16         16.93750\n",
       "17         16.93750\n",
       "18         16.93750\n",
       "19         16.93750\n",
       "20         16.93750\n",
       "21         16.93750\n",
       "22         16.93750\n",
       "23         16.93750\n",
       "24         16.93750\n",
       "25         16.93750\n",
       "26         16.93750\n",
       "27         16.93750\n",
       "28         16.93750\n",
       "29         16.93750\n",
       "             ...   \n",
       "1686293    13.40625\n",
       "1686294    13.34375\n",
       "1686295    13.34375\n",
       "1686296    13.34375\n",
       "1686297    13.34375\n",
       "1686298    13.34375\n",
       "1686299    13.34375\n",
       "1686300    13.34375\n",
       "1686301    13.34375\n",
       "1686302    13.34375\n",
       "1686303    13.34375\n",
       "1686304    13.34375\n",
       "1686305    13.34375\n",
       "1686306    13.34375\n",
       "1686307    13.34375\n",
       "1686308    13.34375\n",
       "1686309    13.34375\n",
       "1686310    13.34375\n",
       "1686311    13.34375\n",
       "1686312    13.34375\n",
       "1686313    13.34375\n",
       "1686314    13.34375\n",
       "1686315    13.34375\n",
       "1686316    13.34375\n",
       "1686317    13.34375\n",
       "1686318    13.34375\n",
       "1686319    13.34375\n",
       "1686320    13.34375\n",
       "1686321    13.34375\n",
       "1686322    13.34375\n",
       "Name: AmbientAirTemperature_V, Length: 1686256, dtype: float64"
      ]
     },
     "execution_count": 7,
     "metadata": {},
     "output_type": "execute_result"
    }
   ],
   "source": [
    "trucks2.loc[:, 'AmbientAirTemperature_V']"
   ]
  },
  {
   "cell_type": "code",
   "execution_count": 8,
   "metadata": {},
   "outputs": [
    {
     "data": {
      "text/plain": [
       "11.41745914163482"
      ]
     },
     "execution_count": 8,
     "metadata": {},
     "output_type": "execute_result"
    }
   ],
   "source": [
    "trucks2['AmbientAirTemperature_V'].mean()"
   ]
  },
  {
   "cell_type": "code",
   "execution_count": 9,
   "metadata": {},
   "outputs": [
    {
     "data": {
      "text/plain": [
       "10.926552278521473"
      ]
     },
     "execution_count": 9,
     "metadata": {},
     "output_type": "execute_result"
    }
   ],
   "source": [
    "trucks2['EngineAirIntakeTemp_BB1_X_E'].mean()"
   ]
  },
  {
   "cell_type": "code",
   "execution_count": 10,
   "metadata": {},
   "outputs": [
    {
     "data": {
      "text/plain": [
       "array([[<matplotlib.axes._subplots.AxesSubplot object at 0x00000000099085C0>]],\n",
       "      dtype=object)"
      ]
     },
     "execution_count": 10,
     "metadata": {},
     "output_type": "execute_result"
    },
    {
     "data": {
      "image/png": "[encoded data removed]",
      "text/plain": [
       "<Figure size 432x288 with 1 Axes>"
      ]
     },
     "metadata": {
      "needs_background": "light"
     },
     "output_type": "display_data"
    }
   ],
   "source": [
    "trucks2.hist(column=\"AmbientAirTemperature_V\", bins=100)"
   ]
  },
  {
   "cell_type": "code",
   "execution_count": 11,
   "metadata": {},
   "outputs": [
    {
     "data": {
      "text/plain": [
       "array([[<matplotlib.axes._subplots.AxesSubplot object at 0x000000013720FEB8>]],\n",
       "      dtype=object)"
      ]
     },
     "execution_count": 11,
     "metadata": {},
     "output_type": "execute_result"
    },
    {
     "data": {
      "image/png": "[encoded data removed]",
      "text/plain": [
       "<Figure size 432x288 with 1 Axes>"
      ]
     },
     "metadata": {
      "needs_background": "light"
     },
     "output_type": "display_data"
    }
   ],
   "source": [
    "trucks2.hist(column=\"EngineAirIntakeTemp_BB1_X_E\", bins=100)"
   ]
  },
  {
   "cell_type": "code",
   "execution_count": 12,
   "metadata": {},
   "outputs": [
    {
     "data": {
      "text/plain": [
       "array([[<matplotlib.axes._subplots.AxesSubplot object at 0x0000000134AD4400>]],\n",
       "      dtype=object)"
      ]
     },
     "execution_count": 12,
     "metadata": {},
     "output_type": "execute_result"
    },
    {
     "data": {
      "image/png": "[encoded data removed]",
      "text/plain": [
       "<Figure size 432x288 with 1 Axes>"
      ]
     },
     "metadata": {
      "needs_background": "light"
     },
     "output_type": "display_data"
    }
   ],
   "source": [
    "trucks2.hist(column='EngineCoolantTemp_stat', bins=50)"
   ]
  },
  {
   "cell_type": "code",
   "execution_count": 13,
   "metadata": {},
   "outputs": [
    {
     "data": {
      "text/plain": [
       "array([[<matplotlib.axes._subplots.AxesSubplot object at 0x0000000134AB5BA8>]],\n",
       "      dtype=object)"
      ]
     },
     "execution_count": 13,
     "metadata": {},
     "output_type": "execute_result"
    },
    {
     "data": {
      "image/png": "[encoded data removed]",
      "text/plain": [
       "<Figure size 432x288 with 1 Axes>"
      ]
     },
     "metadata": {
      "needs_background": "light"
     },
     "output_type": "display_data"
    }
   ],
   "source": [
    "trucks2.hist(column='EngineOilTemperature', bins=100)"
   ]
  },
  {
   "cell_type": "code",
   "execution_count": 14,
   "metadata": {},
   "outputs": [
    {
     "data": {
      "text/plain": [
       "array([[<matplotlib.axes._subplots.AxesSubplot object at 0x000000011D21CF98>]],\n",
       "      dtype=object)"
      ]
     },
     "execution_count": 14,
     "metadata": {},
     "output_type": "execute_result"
    },
    {
     "data": {
      "image/png": "[encoded data removed]",
      "text/plain": [
       "<Figure size 432x288 with 1 Axes>"
      ]
     },
     "metadata": {
      "needs_background": "light"
     },
     "output_type": "display_data"
    }
   ],
   "source": [
    "trucks2.hist(column='EngExhaustGasTemp', bins=50)"
   ]
  },
  {
   "cell_type": "code",
   "execution_count": 15,
   "metadata": {},
   "outputs": [
    {
     "data": {
      "text/plain": [
       "array([[<matplotlib.axes._subplots.AxesSubplot object at 0x000000011E413BE0>]],\n",
       "      dtype=object)"
      ]
     },
     "execution_count": 15,
     "metadata": {},
     "output_type": "execute_result"
    },
    {
     "data": {
      "image/png": "[encoded data removed]",
      "text/plain": [
       "<Figure size 432x288 with 1 Axes>"
      ]
     },
     "metadata": {
      "needs_background": "light"
     },
     "output_type": "display_data"
    }
   ],
   "source": [
    "trucks2.hist(column='EngIntakeManifold1Temp', bins=50)"
   ]
  },
  {
   "cell_type": "code",
   "execution_count": 16,
   "metadata": {},
   "outputs": [
    {
     "data": {
      "text/plain": [
       "array([[<matplotlib.axes._subplots.AxesSubplot object at 0x0000000114CDB6A0>]],\n",
       "      dtype=object)"
      ]
     },
     "execution_count": 16,
     "metadata": {},
     "output_type": "execute_result"
    },
    {
     "data": {
      "image/png": "[encoded data removed]",
      "text/plain": [
       "<Figure size 432x288 with 1 Axes>"
      ]
     },
     "metadata": {
      "needs_background": "light"
     },
     "output_type": "display_data"
    }
   ],
   "source": [
    "trucks2.hist(column='TransmissionOilTemp', bins=100)"
   ]
  },
  {
   "cell_type": "code",
   "execution_count": 17,
   "metadata": {},
   "outputs": [
    {
     "data": {
      "text/plain": [
       "array([[<matplotlib.axes._subplots.AxesSubplot object at 0x0000000113195588>]],\n",
       "      dtype=object)"
      ]
     },
     "execution_count": 17,
     "metadata": {},
     "output_type": "execute_result"
    },
    {
     "data": {
      "image/png": "[encoded data removed]",
      "text/plain": [
       "<Figure size 432x288 with 1 Axes>"
      ]
     },
     "metadata": {
      "needs_background": "light"
     },
     "output_type": "display_data"
    }
   ],
   "source": [
    "trucks2.hist(column='asu_UreaTankTemp', bins=100)"
   ]
  },
  {
   "cell_type": "code",
   "execution_count": 18,
   "metadata": {},
   "outputs": [
    {
     "data": {
      "text/plain": [
       "array([[<matplotlib.axes._subplots.AxesSubplot object at 0x000000011CD35860>]],\n",
       "      dtype=object)"
      ]
     },
     "execution_count": 18,
     "metadata": {},
     "output_type": "execute_result"
    },
    {
     "data": {
      "image/png": "[encoded data removed]",
      "text/plain": [
       "<Figure size 432x288 with 1 Axes>"
      ]
     },
     "metadata": {
      "needs_background": "light"
     },
     "output_type": "display_data"
    }
   ],
   "source": [
    "trucks2.hist(column='tse_TurboSpeed', bins=500)"
   ]
  },
  {
   "cell_type": "code",
   "execution_count": 19,
   "metadata": {},
   "outputs": [
    {
     "data": {
      "text/plain": [
       "0          16.0\n",
       "1          16.0\n",
       "2          16.0\n",
       "3          16.0\n",
       "4          16.0\n",
       "5          16.0\n",
       "6          16.0\n",
       "7          16.0\n",
       "8          16.0\n",
       "9          16.0\n",
       "10         16.0\n",
       "11         16.0\n",
       "12         16.0\n",
       "13         16.0\n",
       "14         16.0\n",
       "15         16.0\n",
       "16         16.0\n",
       "17         16.0\n",
       "18         16.0\n",
       "19         16.0\n",
       "20         16.0\n",
       "21         16.0\n",
       "22         16.0\n",
       "23         16.0\n",
       "24         16.0\n",
       "25         16.0\n",
       "26         16.0\n",
       "27         16.0\n",
       "28         16.0\n",
       "29         16.0\n",
       "           ... \n",
       "1686293    13.0\n",
       "1686294    13.0\n",
       "1686295    13.0\n",
       "1686296    13.0\n",
       "1686297    13.0\n",
       "1686298    13.0\n",
       "1686299    13.0\n",
       "1686300    13.0\n",
       "1686301    13.0\n",
       "1686302    13.0\n",
       "1686303    13.0\n",
       "1686304    13.0\n",
       "1686305    13.0\n",
       "1686306    13.0\n",
       "1686307    13.0\n",
       "1686308    13.0\n",
       "1686309    13.0\n",
       "1686310    13.0\n",
       "1686311    13.0\n",
       "1686312    13.0\n",
       "1686313    13.0\n",
       "1686314    13.0\n",
       "1686315    13.0\n",
       "1686316    13.0\n",
       "1686317    13.0\n",
       "1686318    13.0\n",
       "1686319    13.0\n",
       "1686320    13.0\n",
       "1686321    13.0\n",
       "1686322    13.0\n",
       "Name: EngineAirIntakeTemp_BB1_X_E, Length: 1686256, dtype: float64"
      ]
     },
     "execution_count": 19,
     "metadata": {},
     "output_type": "execute_result"
    }
   ],
   "source": [
    "trucks2.loc[:, 'EngineAirIntakeTemp_BB1_X_E']"
   ]
  },
  {
   "cell_type": "code",
   "execution_count": 20,
   "metadata": {},
   "outputs": [
    {
     "data": {
      "text/plain": [
       "0                   NaN\n",
       "1                   NaN\n",
       "2                   NaN\n",
       "3                   NaN\n",
       "4                   NaN\n",
       "5                   NaN\n",
       "6                   NaN\n",
       "7                   NaN\n",
       "8                   NaN\n",
       "9                   NaN\n",
       "10                  NaN\n",
       "11                  NaN\n",
       "12                  NaN\n",
       "13                  NaN\n",
       "14                  NaN\n",
       "15                  NaN\n",
       "16                  NaN\n",
       "17                  NaN\n",
       "18                  NaN\n",
       "19                  NaN\n",
       "20                  NaN\n",
       "21                  NaN\n",
       "22                  NaN\n",
       "23                  NaN\n",
       "24                  NaN\n",
       "25                  NaN\n",
       "26                  NaN\n",
       "27                  NaN\n",
       "28                  NaN\n",
       "29                  NaN\n",
       "               ...     \n",
       "1686293    73574.351562\n",
       "1686294    73567.468750\n",
       "1686295    73566.242188\n",
       "1686296    73591.960938\n",
       "1686297    73626.054688\n",
       "1686298    73589.015625\n",
       "1686299    73497.453125\n",
       "1686300    73449.281250\n",
       "1686301    73388.132812\n",
       "1686302    73329.226562\n",
       "1686303    73276.648438\n",
       "1686304    73259.531250\n",
       "1686305    73270.226562\n",
       "1686306    73227.960938\n",
       "1686307    73195.351562\n",
       "1686308    73209.257812\n",
       "1686309    73208.273438\n",
       "1686310    73174.976562\n",
       "1686311    73160.781250\n",
       "1686312    73104.007812\n",
       "1686313    73012.179688\n",
       "1686314    72893.453125\n",
       "1686315    72784.460938\n",
       "1686316    72693.734375\n",
       "1686317    72665.203125\n",
       "1686318    72653.578125\n",
       "1686319    72556.023438\n",
       "1686320    72479.265625\n",
       "1686321    72410.914062\n",
       "1686322    72304.234375\n",
       "Name: tse_TurboSpeed, Length: 1686256, dtype: float64"
      ]
     },
     "execution_count": 20,
     "metadata": {},
     "output_type": "execute_result"
    }
   ],
   "source": [
    "trucks2.loc[:, 'tse_TurboSpeed']"
   ]
  },
  {
   "cell_type": "code",
   "execution_count": 21,
   "metadata": {},
   "outputs": [
    {
     "data": {
      "text/plain": [
       "51901.1815191138"
      ]
     },
     "execution_count": 21,
     "metadata": {},
     "output_type": "execute_result"
    }
   ],
   "source": [
    "trucks2['tse_TurboSpeed'].mean()"
   ]
  },
  {
   "cell_type": "code",
   "execution_count": 22,
   "metadata": {},
   "outputs": [],
   "source": [
    "truck = trucks2['tse_TurboSpeed']"
   ]
  },
  {
   "cell_type": "code",
   "execution_count": 23,
   "metadata": {},
   "outputs": [],
   "source": [
    "truck1 = trucks2[['AmbientAirTemperature_V']].ffill().bfill()"
   ]
  },
  {
   "cell_type": "code",
   "execution_count": 24,
   "metadata": {},
   "outputs": [],
   "source": [
    "truck3 = trucks2[['EngineAirIntakeTemp_BB1_X_E']].ffill().bfill()"
   ]
  },
  {
   "cell_type": "code",
   "execution_count": 25,
   "metadata": {},
   "outputs": [
    {
     "data": {
      "text/html": [
       "<div>\n",
       "<style scoped>\n",
       "    .dataframe tbody tr th:only-of-type {\n",
       "        vertical-align: middle;\n",
       "    }\n",
       "\n",
       "    .dataframe tbody tr th {\n",
       "        vertical-align: top;\n",
       "    }\n",
       "\n",
       "    .dataframe thead th {\n",
       "        text-align: right;\n",
       "    }\n",
       "</style>\n",
       "<table border=\"1\" class=\"dataframe\">\n",
       "  <thead>\n",
       "    <tr style=\"text-align: right;\">\n",
       "      <th></th>\n",
       "      <th>AmbientAirTemperature_V</th>\n",
       "    </tr>\n",
       "  </thead>\n",
       "  <tbody>\n",
       "    <tr>\n",
       "      <th>0</th>\n",
       "      <td>16.93750</td>\n",
       "    </tr>\n",
       "    <tr>\n",
       "      <th>1</th>\n",
       "      <td>16.93750</td>\n",
       "    </tr>\n",
       "    <tr>\n",
       "      <th>2</th>\n",
       "      <td>16.93750</td>\n",
       "    </tr>\n",
       "    <tr>\n",
       "      <th>3</th>\n",
       "      <td>16.93750</td>\n",
       "    </tr>\n",
       "    <tr>\n",
       "      <th>4</th>\n",
       "      <td>16.93750</td>\n",
       "    </tr>\n",
       "    <tr>\n",
       "      <th>5</th>\n",
       "      <td>16.93750</td>\n",
       "    </tr>\n",
       "    <tr>\n",
       "      <th>6</th>\n",
       "      <td>16.93750</td>\n",
       "    </tr>\n",
       "    <tr>\n",
       "      <th>7</th>\n",
       "      <td>16.93750</td>\n",
       "    </tr>\n",
       "    <tr>\n",
       "      <th>8</th>\n",
       "      <td>16.93750</td>\n",
       "    </tr>\n",
       "    <tr>\n",
       "      <th>9</th>\n",
       "      <td>16.93750</td>\n",
       "    </tr>\n",
       "    <tr>\n",
       "      <th>10</th>\n",
       "      <td>16.93750</td>\n",
       "    </tr>\n",
       "    <tr>\n",
       "      <th>11</th>\n",
       "      <td>16.93750</td>\n",
       "    </tr>\n",
       "    <tr>\n",
       "      <th>12</th>\n",
       "      <td>16.93750</td>\n",
       "    </tr>\n",
       "    <tr>\n",
       "      <th>13</th>\n",
       "      <td>16.93750</td>\n",
       "    </tr>\n",
       "    <tr>\n",
       "      <th>14</th>\n",
       "      <td>16.93750</td>\n",
       "    </tr>\n",
       "    <tr>\n",
       "      <th>15</th>\n",
       "      <td>16.93750</td>\n",
       "    </tr>\n",
       "    <tr>\n",
       "      <th>16</th>\n",
       "      <td>16.93750</td>\n",
       "    </tr>\n",
       "    <tr>\n",
       "      <th>17</th>\n",
       "      <td>16.93750</td>\n",
       "    </tr>\n",
       "    <tr>\n",
       "      <th>18</th>\n",
       "      <td>16.93750</td>\n",
       "    </tr>\n",
       "    <tr>\n",
       "      <th>19</th>\n",
       "      <td>16.93750</td>\n",
       "    </tr>\n",
       "    <tr>\n",
       "      <th>20</th>\n",
       "      <td>16.93750</td>\n",
       "    </tr>\n",
       "    <tr>\n",
       "      <th>21</th>\n",
       "      <td>16.93750</td>\n",
       "    </tr>\n",
       "    <tr>\n",
       "      <th>22</th>\n",
       "      <td>16.93750</td>\n",
       "    </tr>\n",
       "    <tr>\n",
       "      <th>23</th>\n",
       "      <td>16.93750</td>\n",
       "    </tr>\n",
       "    <tr>\n",
       "      <th>24</th>\n",
       "      <td>16.93750</td>\n",
       "    </tr>\n",
       "    <tr>\n",
       "      <th>25</th>\n",
       "      <td>16.93750</td>\n",
       "    </tr>\n",
       "    <tr>\n",
       "      <th>26</th>\n",
       "      <td>16.93750</td>\n",
       "    </tr>\n",
       "    <tr>\n",
       "      <th>27</th>\n",
       "      <td>16.93750</td>\n",
       "    </tr>\n",
       "    <tr>\n",
       "      <th>28</th>\n",
       "      <td>16.93750</td>\n",
       "    </tr>\n",
       "    <tr>\n",
       "      <th>29</th>\n",
       "      <td>16.93750</td>\n",
       "    </tr>\n",
       "    <tr>\n",
       "      <th>...</th>\n",
       "      <td>...</td>\n",
       "    </tr>\n",
       "    <tr>\n",
       "      <th>1686293</th>\n",
       "      <td>13.40625</td>\n",
       "    </tr>\n",
       "    <tr>\n",
       "      <th>1686294</th>\n",
       "      <td>13.34375</td>\n",
       "    </tr>\n",
       "    <tr>\n",
       "      <th>1686295</th>\n",
       "      <td>13.34375</td>\n",
       "    </tr>\n",
       "    <tr>\n",
       "      <th>1686296</th>\n",
       "      <td>13.34375</td>\n",
       "    </tr>\n",
       "    <tr>\n",
       "      <th>1686297</th>\n",
       "      <td>13.34375</td>\n",
       "    </tr>\n",
       "    <tr>\n",
       "      <th>1686298</th>\n",
       "      <td>13.34375</td>\n",
       "    </tr>\n",
       "    <tr>\n",
       "      <th>1686299</th>\n",
       "      <td>13.34375</td>\n",
       "    </tr>\n",
       "    <tr>\n",
       "      <th>1686300</th>\n",
       "      <td>13.34375</td>\n",
       "    </tr>\n",
       "    <tr>\n",
       "      <th>1686301</th>\n",
       "      <td>13.34375</td>\n",
       "    </tr>\n",
       "    <tr>\n",
       "      <th>1686302</th>\n",
       "      <td>13.34375</td>\n",
       "    </tr>\n",
       "    <tr>\n",
       "      <th>1686303</th>\n",
       "      <td>13.34375</td>\n",
       "    </tr>\n",
       "    <tr>\n",
       "      <th>1686304</th>\n",
       "      <td>13.34375</td>\n",
       "    </tr>\n",
       "    <tr>\n",
       "      <th>1686305</th>\n",
       "      <td>13.34375</td>\n",
       "    </tr>\n",
       "    <tr>\n",
       "      <th>1686306</th>\n",
       "      <td>13.34375</td>\n",
       "    </tr>\n",
       "    <tr>\n",
       "      <th>1686307</th>\n",
       "      <td>13.34375</td>\n",
       "    </tr>\n",
       "    <tr>\n",
       "      <th>1686308</th>\n",
       "      <td>13.34375</td>\n",
       "    </tr>\n",
       "    <tr>\n",
       "      <th>1686309</th>\n",
       "      <td>13.34375</td>\n",
       "    </tr>\n",
       "    <tr>\n",
       "      <th>1686310</th>\n",
       "      <td>13.34375</td>\n",
       "    </tr>\n",
       "    <tr>\n",
       "      <th>1686311</th>\n",
       "      <td>13.34375</td>\n",
       "    </tr>\n",
       "    <tr>\n",
       "      <th>1686312</th>\n",
       "      <td>13.34375</td>\n",
       "    </tr>\n",
       "    <tr>\n",
       "      <th>1686313</th>\n",
       "      <td>13.34375</td>\n",
       "    </tr>\n",
       "    <tr>\n",
       "      <th>1686314</th>\n",
       "      <td>13.34375</td>\n",
       "    </tr>\n",
       "    <tr>\n",
       "      <th>1686315</th>\n",
       "      <td>13.34375</td>\n",
       "    </tr>\n",
       "    <tr>\n",
       "      <th>1686316</th>\n",
       "      <td>13.34375</td>\n",
       "    </tr>\n",
       "    <tr>\n",
       "      <th>1686317</th>\n",
       "      <td>13.34375</td>\n",
       "    </tr>\n",
       "    <tr>\n",
       "      <th>1686318</th>\n",
       "      <td>13.34375</td>\n",
       "    </tr>\n",
       "    <tr>\n",
       "      <th>1686319</th>\n",
       "      <td>13.34375</td>\n",
       "    </tr>\n",
       "    <tr>\n",
       "      <th>1686320</th>\n",
       "      <td>13.34375</td>\n",
       "    </tr>\n",
       "    <tr>\n",
       "      <th>1686321</th>\n",
       "      <td>13.34375</td>\n",
       "    </tr>\n",
       "    <tr>\n",
       "      <th>1686322</th>\n",
       "      <td>13.34375</td>\n",
       "    </tr>\n",
       "  </tbody>\n",
       "</table>\n",
       "<p>1686256 rows × 1 columns</p>\n",
       "</div>"
      ],
      "text/plain": [
       "         AmbientAirTemperature_V\n",
       "0                       16.93750\n",
       "1                       16.93750\n",
       "2                       16.93750\n",
       "3                       16.93750\n",
       "4                       16.93750\n",
       "5                       16.93750\n",
       "6                       16.93750\n",
       "7                       16.93750\n",
       "8                       16.93750\n",
       "9                       16.93750\n",
       "10                      16.93750\n",
       "11                      16.93750\n",
       "12                      16.93750\n",
       "13                      16.93750\n",
       "14                      16.93750\n",
       "15                      16.93750\n",
       "16                      16.93750\n",
       "17                      16.93750\n",
       "18                      16.93750\n",
       "19                      16.93750\n",
       "20                      16.93750\n",
       "21                      16.93750\n",
       "22                      16.93750\n",
       "23                      16.93750\n",
       "24                      16.93750\n",
       "25                      16.93750\n",
       "26                      16.93750\n",
       "27                      16.93750\n",
       "28                      16.93750\n",
       "29                      16.93750\n",
       "...                          ...\n",
       "1686293                 13.40625\n",
       "1686294                 13.34375\n",
       "1686295                 13.34375\n",
       "1686296                 13.34375\n",
       "1686297                 13.34375\n",
       "1686298                 13.34375\n",
       "1686299                 13.34375\n",
       "1686300                 13.34375\n",
       "1686301                 13.34375\n",
       "1686302                 13.34375\n",
       "1686303                 13.34375\n",
       "1686304                 13.34375\n",
       "1686305                 13.34375\n",
       "1686306                 13.34375\n",
       "1686307                 13.34375\n",
       "1686308                 13.34375\n",
       "1686309                 13.34375\n",
       "1686310                 13.34375\n",
       "1686311                 13.34375\n",
       "1686312                 13.34375\n",
       "1686313                 13.34375\n",
       "1686314                 13.34375\n",
       "1686315                 13.34375\n",
       "1686316                 13.34375\n",
       "1686317                 13.34375\n",
       "1686318                 13.34375\n",
       "1686319                 13.34375\n",
       "1686320                 13.34375\n",
       "1686321                 13.34375\n",
       "1686322                 13.34375\n",
       "\n",
       "[1686256 rows x 1 columns]"
      ]
     },
     "execution_count": 25,
     "metadata": {},
     "output_type": "execute_result"
    }
   ],
   "source": [
    "truck1"
   ]
  },
  {
   "cell_type": "code",
   "execution_count": 26,
   "metadata": {},
   "outputs": [
    {
     "data": {
      "text/plain": [
       "0                   NaN\n",
       "1                   NaN\n",
       "2                   NaN\n",
       "3                   NaN\n",
       "4                   NaN\n",
       "5                   NaN\n",
       "6                   NaN\n",
       "7                   NaN\n",
       "8                   NaN\n",
       "9                   NaN\n",
       "10                  NaN\n",
       "11                  NaN\n",
       "12                  NaN\n",
       "13                  NaN\n",
       "14                  NaN\n",
       "15                  NaN\n",
       "16                  NaN\n",
       "17                  NaN\n",
       "18                  NaN\n",
       "19                  NaN\n",
       "20                  NaN\n",
       "21                  NaN\n",
       "22                  NaN\n",
       "23                  NaN\n",
       "24                  NaN\n",
       "25                  NaN\n",
       "26                  NaN\n",
       "27                  NaN\n",
       "28                  NaN\n",
       "29                  NaN\n",
       "               ...     \n",
       "1686293    73574.351562\n",
       "1686294    73567.468750\n",
       "1686295    73566.242188\n",
       "1686296    73591.960938\n",
       "1686297    73626.054688\n",
       "1686298    73589.015625\n",
       "1686299    73497.453125\n",
       "1686300    73449.281250\n",
       "1686301    73388.132812\n",
       "1686302    73329.226562\n",
       "1686303    73276.648438\n",
       "1686304    73259.531250\n",
       "1686305    73270.226562\n",
       "1686306    73227.960938\n",
       "1686307    73195.351562\n",
       "1686308    73209.257812\n",
       "1686309    73208.273438\n",
       "1686310    73174.976562\n",
       "1686311    73160.781250\n",
       "1686312    73104.007812\n",
       "1686313    73012.179688\n",
       "1686314    72893.453125\n",
       "1686315    72784.460938\n",
       "1686316    72693.734375\n",
       "1686317    72665.203125\n",
       "1686318    72653.578125\n",
       "1686319    72556.023438\n",
       "1686320    72479.265625\n",
       "1686321    72410.914062\n",
       "1686322    72304.234375\n",
       "Name: tse_TurboSpeed, Length: 1686256, dtype: float64"
      ]
     },
     "execution_count": 26,
     "metadata": {},
     "output_type": "execute_result"
    }
   ],
   "source": [
    "truck"
   ]
  },
  {
   "cell_type": "code",
   "execution_count": 27,
   "metadata": {},
   "outputs": [
    {
     "data": {
      "text/plain": [
       "count    1.624559e+06\n",
       "mean     5.190118e+04\n",
       "std      2.182253e+04\n",
       "min      0.000000e+00\n",
       "25%      3.463129e+04\n",
       "50%      5.498862e+04\n",
       "75%      7.065277e+04\n",
       "max      9.174719e+04\n",
       "Name: tse_TurboSpeed, dtype: float64"
      ]
     },
     "execution_count": 27,
     "metadata": {},
     "output_type": "execute_result"
    }
   ],
   "source": [
    "truck.describe()"
   ]
  },
  {
   "cell_type": "code",
   "execution_count": null,
   "metadata": {},
   "outputs": [],
   "source": []
  },
  {
   "cell_type": "code",
   "execution_count": 28,
   "metadata": {},
   "outputs": [],
   "source": [
    "truck = trucks2[['tse_TurboSpeed']].ffill().bfill()"
   ]
  },
  {
   "cell_type": "code",
   "execution_count": 29,
   "metadata": {},
   "outputs": [
    {
     "data": {
      "text/html": [
       "<div>\n",
       "<style scoped>\n",
       "    .dataframe tbody tr th:only-of-type {\n",
       "        vertical-align: middle;\n",
       "    }\n",
       "\n",
       "    .dataframe tbody tr th {\n",
       "        vertical-align: top;\n",
       "    }\n",
       "\n",
       "    .dataframe thead th {\n",
       "        text-align: right;\n",
       "    }\n",
       "</style>\n",
       "<table border=\"1\" class=\"dataframe\">\n",
       "  <thead>\n",
       "    <tr style=\"text-align: right;\">\n",
       "      <th></th>\n",
       "      <th>tse_TurboSpeed</th>\n",
       "    </tr>\n",
       "  </thead>\n",
       "  <tbody>\n",
       "    <tr>\n",
       "      <th>0</th>\n",
       "      <td>70969.250000</td>\n",
       "    </tr>\n",
       "    <tr>\n",
       "      <th>1</th>\n",
       "      <td>70969.250000</td>\n",
       "    </tr>\n",
       "    <tr>\n",
       "      <th>2</th>\n",
       "      <td>70969.250000</td>\n",
       "    </tr>\n",
       "    <tr>\n",
       "      <th>3</th>\n",
       "      <td>70969.250000</td>\n",
       "    </tr>\n",
       "    <tr>\n",
       "      <th>4</th>\n",
       "      <td>70969.250000</td>\n",
       "    </tr>\n",
       "    <tr>\n",
       "      <th>5</th>\n",
       "      <td>70969.250000</td>\n",
       "    </tr>\n",
       "    <tr>\n",
       "      <th>6</th>\n",
       "      <td>70969.250000</td>\n",
       "    </tr>\n",
       "    <tr>\n",
       "      <th>7</th>\n",
       "      <td>70969.250000</td>\n",
       "    </tr>\n",
       "    <tr>\n",
       "      <th>8</th>\n",
       "      <td>70969.250000</td>\n",
       "    </tr>\n",
       "    <tr>\n",
       "      <th>9</th>\n",
       "      <td>70969.250000</td>\n",
       "    </tr>\n",
       "    <tr>\n",
       "      <th>10</th>\n",
       "      <td>70969.250000</td>\n",
       "    </tr>\n",
       "    <tr>\n",
       "      <th>11</th>\n",
       "      <td>70969.250000</td>\n",
       "    </tr>\n",
       "    <tr>\n",
       "      <th>12</th>\n",
       "      <td>70969.250000</td>\n",
       "    </tr>\n",
       "    <tr>\n",
       "      <th>13</th>\n",
       "      <td>70969.250000</td>\n",
       "    </tr>\n",
       "    <tr>\n",
       "      <th>14</th>\n",
       "      <td>70969.250000</td>\n",
       "    </tr>\n",
       "    <tr>\n",
       "      <th>15</th>\n",
       "      <td>70969.250000</td>\n",
       "    </tr>\n",
       "    <tr>\n",
       "      <th>16</th>\n",
       "      <td>70969.250000</td>\n",
       "    </tr>\n",
       "    <tr>\n",
       "      <th>17</th>\n",
       "      <td>70969.250000</td>\n",
       "    </tr>\n",
       "    <tr>\n",
       "      <th>18</th>\n",
       "      <td>70969.250000</td>\n",
       "    </tr>\n",
       "    <tr>\n",
       "      <th>19</th>\n",
       "      <td>70969.250000</td>\n",
       "    </tr>\n",
       "    <tr>\n",
       "      <th>20</th>\n",
       "      <td>70969.250000</td>\n",
       "    </tr>\n",
       "    <tr>\n",
       "      <th>21</th>\n",
       "      <td>70969.250000</td>\n",
       "    </tr>\n",
       "    <tr>\n",
       "      <th>22</th>\n",
       "      <td>70969.250000</td>\n",
       "    </tr>\n",
       "    <tr>\n",
       "      <th>23</th>\n",
       "      <td>70969.250000</td>\n",
       "    </tr>\n",
       "    <tr>\n",
       "      <th>24</th>\n",
       "      <td>70969.250000</td>\n",
       "    </tr>\n",
       "    <tr>\n",
       "      <th>25</th>\n",
       "      <td>70969.250000</td>\n",
       "    </tr>\n",
       "    <tr>\n",
       "      <th>26</th>\n",
       "      <td>70969.250000</td>\n",
       "    </tr>\n",
       "    <tr>\n",
       "      <th>27</th>\n",
       "      <td>70969.250000</td>\n",
       "    </tr>\n",
       "    <tr>\n",
       "      <th>28</th>\n",
       "      <td>70969.250000</td>\n",
       "    </tr>\n",
       "    <tr>\n",
       "      <th>29</th>\n",
       "      <td>70969.250000</td>\n",
       "    </tr>\n",
       "    <tr>\n",
       "      <th>...</th>\n",
       "      <td>...</td>\n",
       "    </tr>\n",
       "    <tr>\n",
       "      <th>1686293</th>\n",
       "      <td>73574.351562</td>\n",
       "    </tr>\n",
       "    <tr>\n",
       "      <th>1686294</th>\n",
       "      <td>73567.468750</td>\n",
       "    </tr>\n",
       "    <tr>\n",
       "      <th>1686295</th>\n",
       "      <td>73566.242188</td>\n",
       "    </tr>\n",
       "    <tr>\n",
       "      <th>1686296</th>\n",
       "      <td>73591.960938</td>\n",
       "    </tr>\n",
       "    <tr>\n",
       "      <th>1686297</th>\n",
       "      <td>73626.054688</td>\n",
       "    </tr>\n",
       "    <tr>\n",
       "      <th>1686298</th>\n",
       "      <td>73589.015625</td>\n",
       "    </tr>\n",
       "    <tr>\n",
       "      <th>1686299</th>\n",
       "      <td>73497.453125</td>\n",
       "    </tr>\n",
       "    <tr>\n",
       "      <th>1686300</th>\n",
       "      <td>73449.281250</td>\n",
       "    </tr>\n",
       "    <tr>\n",
       "      <th>1686301</th>\n",
       "      <td>73388.132812</td>\n",
       "    </tr>\n",
       "    <tr>\n",
       "      <th>1686302</th>\n",
       "      <td>73329.226562</td>\n",
       "    </tr>\n",
       "    <tr>\n",
       "      <th>1686303</th>\n",
       "      <td>73276.648438</td>\n",
       "    </tr>\n",
       "    <tr>\n",
       "      <th>1686304</th>\n",
       "      <td>73259.531250</td>\n",
       "    </tr>\n",
       "    <tr>\n",
       "      <th>1686305</th>\n",
       "      <td>73270.226562</td>\n",
       "    </tr>\n",
       "    <tr>\n",
       "      <th>1686306</th>\n",
       "      <td>73227.960938</td>\n",
       "    </tr>\n",
       "    <tr>\n",
       "      <th>1686307</th>\n",
       "      <td>73195.351562</td>\n",
       "    </tr>\n",
       "    <tr>\n",
       "      <th>1686308</th>\n",
       "      <td>73209.257812</td>\n",
       "    </tr>\n",
       "    <tr>\n",
       "      <th>1686309</th>\n",
       "      <td>73208.273438</td>\n",
       "    </tr>\n",
       "    <tr>\n",
       "      <th>1686310</th>\n",
       "      <td>73174.976562</td>\n",
       "    </tr>\n",
       "    <tr>\n",
       "      <th>1686311</th>\n",
       "      <td>73160.781250</td>\n",
       "    </tr>\n",
       "    <tr>\n",
       "      <th>1686312</th>\n",
       "      <td>73104.007812</td>\n",
       "    </tr>\n",
       "    <tr>\n",
       "      <th>1686313</th>\n",
       "      <td>73012.179688</td>\n",
       "    </tr>\n",
       "    <tr>\n",
       "      <th>1686314</th>\n",
       "      <td>72893.453125</td>\n",
       "    </tr>\n",
       "    <tr>\n",
       "      <th>1686315</th>\n",
       "      <td>72784.460938</td>\n",
       "    </tr>\n",
       "    <tr>\n",
       "      <th>1686316</th>\n",
       "      <td>72693.734375</td>\n",
       "    </tr>\n",
       "    <tr>\n",
       "      <th>1686317</th>\n",
       "      <td>72665.203125</td>\n",
       "    </tr>\n",
       "    <tr>\n",
       "      <th>1686318</th>\n",
       "      <td>72653.578125</td>\n",
       "    </tr>\n",
       "    <tr>\n",
       "      <th>1686319</th>\n",
       "      <td>72556.023438</td>\n",
       "    </tr>\n",
       "    <tr>\n",
       "      <th>1686320</th>\n",
       "      <td>72479.265625</td>\n",
       "    </tr>\n",
       "    <tr>\n",
       "      <th>1686321</th>\n",
       "      <td>72410.914062</td>\n",
       "    </tr>\n",
       "    <tr>\n",
       "      <th>1686322</th>\n",
       "      <td>72304.234375</td>\n",
       "    </tr>\n",
       "  </tbody>\n",
       "</table>\n",
       "<p>1686256 rows × 1 columns</p>\n",
       "</div>"
      ],
      "text/plain": [
       "         tse_TurboSpeed\n",
       "0          70969.250000\n",
       "1          70969.250000\n",
       "2          70969.250000\n",
       "3          70969.250000\n",
       "4          70969.250000\n",
       "5          70969.250000\n",
       "6          70969.250000\n",
       "7          70969.250000\n",
       "8          70969.250000\n",
       "9          70969.250000\n",
       "10         70969.250000\n",
       "11         70969.250000\n",
       "12         70969.250000\n",
       "13         70969.250000\n",
       "14         70969.250000\n",
       "15         70969.250000\n",
       "16         70969.250000\n",
       "17         70969.250000\n",
       "18         70969.250000\n",
       "19         70969.250000\n",
       "20         70969.250000\n",
       "21         70969.250000\n",
       "22         70969.250000\n",
       "23         70969.250000\n",
       "24         70969.250000\n",
       "25         70969.250000\n",
       "26         70969.250000\n",
       "27         70969.250000\n",
       "28         70969.250000\n",
       "29         70969.250000\n",
       "...                 ...\n",
       "1686293    73574.351562\n",
       "1686294    73567.468750\n",
       "1686295    73566.242188\n",
       "1686296    73591.960938\n",
       "1686297    73626.054688\n",
       "1686298    73589.015625\n",
       "1686299    73497.453125\n",
       "1686300    73449.281250\n",
       "1686301    73388.132812\n",
       "1686302    73329.226562\n",
       "1686303    73276.648438\n",
       "1686304    73259.531250\n",
       "1686305    73270.226562\n",
       "1686306    73227.960938\n",
       "1686307    73195.351562\n",
       "1686308    73209.257812\n",
       "1686309    73208.273438\n",
       "1686310    73174.976562\n",
       "1686311    73160.781250\n",
       "1686312    73104.007812\n",
       "1686313    73012.179688\n",
       "1686314    72893.453125\n",
       "1686315    72784.460938\n",
       "1686316    72693.734375\n",
       "1686317    72665.203125\n",
       "1686318    72653.578125\n",
       "1686319    72556.023438\n",
       "1686320    72479.265625\n",
       "1686321    72410.914062\n",
       "1686322    72304.234375\n",
       "\n",
       "[1686256 rows x 1 columns]"
      ]
     },
     "execution_count": 29,
     "metadata": {},
     "output_type": "execute_result"
    }
   ],
   "source": [
    "truck"
   ]
  },
  {
   "cell_type": "code",
   "execution_count": 30,
   "metadata": {},
   "outputs": [
    {
     "data": {
      "text/plain": [
       "array([[<matplotlib.axes._subplots.AxesSubplot object at 0x0000000106E8C8D0>]],\n",
       "      dtype=object)"
      ]
     },
     "execution_count": 30,
     "metadata": {},
     "output_type": "execute_result"
    },
    {
     "data": {
      "image/png": "[encoded data removed]",
      "text/plain": [
       "<Figure size 432x288 with 1 Axes>"
      ]
     },
     "metadata": {
      "needs_background": "light"
     },
     "output_type": "display_data"
    }
   ],
   "source": [
    "truck.hist(column='tse_TurboSpeed', bins=100)"
   ]
  },
  {
   "cell_type": "code",
   "execution_count": 31,
   "metadata": {},
   "outputs": [
    {
     "data": {
      "text/plain": [
       "array([[<matplotlib.axes._subplots.AxesSubplot object at 0x000000010B9DD1D0>]],\n",
       "      dtype=object)"
      ]
     },
     "execution_count": 31,
     "metadata": {},
     "output_type": "execute_result"
    },
    {
     "data": {
      "image/png": "[encoded data removed]",
      "text/plain": [
       "<Figure size 432x288 with 1 Axes>"
      ]
     },
     "metadata": {
      "needs_background": "light"
     },
     "output_type": "display_data"
    }
   ],
   "source": [
    "truck1.hist(column='AmbientAirTemperature_V', bins=100)"
   ]
  },
  {
   "cell_type": "code",
   "execution_count": 32,
   "metadata": {},
   "outputs": [
    {
     "data": {
      "text/plain": [
       "AmbientAirTemperature_V    22.460776\n",
       "dtype: float64"
      ]
     },
     "execution_count": 32,
     "metadata": {},
     "output_type": "execute_result"
    }
   ],
   "source": [
    "np.var(truck1)"
   ]
  },
  {
   "cell_type": "code",
   "execution_count": 33,
   "metadata": {},
   "outputs": [
    {
     "data": {
      "text/plain": [
       "tse_TurboSpeed    4.690137e+08\n",
       "dtype: float64"
      ]
     },
     "execution_count": 33,
     "metadata": {},
     "output_type": "execute_result"
    }
   ],
   "source": [
    "np.var(truck)"
   ]
  },
  {
   "cell_type": "code",
   "execution_count": 34,
   "metadata": {},
   "outputs": [
    {
     "data": {
      "text/plain": [
       "tse_TurboSpeed    21656.723137\n",
       "dtype: float64"
      ]
     },
     "execution_count": 34,
     "metadata": {},
     "output_type": "execute_result"
    }
   ],
   "source": [
    "np.std(truck)"
   ]
  },
  {
   "cell_type": "code",
   "execution_count": 35,
   "metadata": {},
   "outputs": [
    {
     "data": {
      "text/plain": [
       "AmbientAirTemperature_V    4.73928\n",
       "dtype: float64"
      ]
     },
     "execution_count": 35,
     "metadata": {},
     "output_type": "execute_result"
    }
   ],
   "source": [
    "np.std(truck1)"
   ]
  },
  {
   "cell_type": "code",
   "execution_count": 36,
   "metadata": {},
   "outputs": [],
   "source": [
    "ttest = stats.ttest_ind(truck['tse_TurboSpeed'], truck1['AmbientAirTemperature_V'])"
   ]
  },
  {
   "cell_type": "code",
   "execution_count": 37,
   "metadata": {},
   "outputs": [
    {
     "data": {
      "text/plain": [
       "Ttest_indResult(statistic=3087.282511934524, pvalue=0.0)"
      ]
     },
     "execution_count": 37,
     "metadata": {},
     "output_type": "execute_result"
    }
   ],
   "source": [
    "ttest"
   ]
  },
  {
   "cell_type": "code",
   "execution_count": 38,
   "metadata": {},
   "outputs": [],
   "source": [
    "ttest = stats.ttest_ind(truck3['EngineAirIntakeTemp_BB1_X_E'], truck1['AmbientAirTemperature_V'])"
   ]
  },
  {
   "cell_type": "code",
   "execution_count": 39,
   "metadata": {},
   "outputs": [
    {
     "data": {
      "text/plain": [
       "Ttest_indResult(statistic=-94.97137593106267, pvalue=0.0)"
      ]
     },
     "execution_count": 39,
     "metadata": {},
     "output_type": "execute_result"
    }
   ],
   "source": [
    "ttest"
   ]
  },
  {
   "cell_type": "code",
   "execution_count": 40,
   "metadata": {},
   "outputs": [],
   "source": [
    "ttest = stats.ttest_ind(truck3['EngineAirIntakeTemp_BB1_X_E'], truck1['AmbientAirTemperature_V'])"
   ]
  },
  {
   "cell_type": "code",
   "execution_count": 41,
   "metadata": {},
   "outputs": [
    {
     "data": {
      "text/plain": [
       "Ttest_indResult(statistic=-94.97137593106267, pvalue=0.0)"
      ]
     },
     "execution_count": 41,
     "metadata": {},
     "output_type": "execute_result"
    }
   ],
   "source": [
    "ttest"
   ]
  },
  {
   "cell_type": "code",
   "execution_count": 42,
   "metadata": {},
   "outputs": [],
   "source": [
    "t1 = np.cov(truck.T, truck1.T)"
   ]
  },
  {
   "cell_type": "code",
   "execution_count": 43,
   "metadata": {},
   "outputs": [],
   "source": [
    "t = np.corrcoef(truck.T, truck1.T)"
   ]
  },
  {
   "cell_type": "code",
   "execution_count": 44,
   "metadata": {},
   "outputs": [
    {
     "data": {
      "text/plain": [
       "array([[ 1.        , -0.09467137],\n",
       "       [-0.09467137,  1.        ]])"
      ]
     },
     "execution_count": 44,
     "metadata": {},
     "output_type": "execute_result"
    }
   ],
   "source": [
    "t"
   ]
  },
  {
   "cell_type": "code",
   "execution_count": 45,
   "metadata": {},
   "outputs": [
    {
     "data": {
      "text/plain": [
       "array([[ 4.69013935e+08, -9.71681719e+03],\n",
       "       [-9.71681719e+03,  2.24607897e+01]])"
      ]
     },
     "execution_count": 45,
     "metadata": {},
     "output_type": "execute_result"
    }
   ],
   "source": [
    "t1"
   ]
  },
  {
   "cell_type": "code",
   "execution_count": 46,
   "metadata": {},
   "outputs": [
    {
     "data": {
      "text/plain": [
       "51499.59292395022"
      ]
     },
     "execution_count": 46,
     "metadata": {},
     "output_type": "execute_result"
    }
   ],
   "source": [
    "truck['tse_TurboSpeed'].mean()"
   ]
  },
  {
   "cell_type": "code",
   "execution_count": 47,
   "metadata": {},
   "outputs": [
    {
     "data": {
      "text/plain": [
       "11.417451924559497"
      ]
     },
     "execution_count": 47,
     "metadata": {},
     "output_type": "execute_result"
    }
   ],
   "source": [
    "truck1['AmbientAirTemperature_V'].mean()"
   ]
  },
  {
   "cell_type": "code",
   "execution_count": null,
   "metadata": {},
   "outputs": [],
   "source": []
  }
 ],
 "metadata": {
  "kernelspec": {
   "display_name": "Python 3",
   "language": "python",
   "name": "python3"
  },
  "language_info": {
   "codemirror_mode": {
    "name": "ipython",
    "version": 3
   },
   "file_extension": ".py",
   "mimetype": "text/x-python",
   "name": "python",
   "nbconvert_exporter": "python",
   "pygments_lexer": "ipython3",
   "version": "3.7.3"
  }
 },
 "nbformat": 4,
 "nbformat_minor": 2
}
